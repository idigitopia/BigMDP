{
 "cells": [
  {
   "cell_type": "code",
   "execution_count": 1,
   "metadata": {},
   "outputs": [],
   "source": [
    "import os\n",
    "# import plotly.graph_objects as go\n",
    "from tqdm import tqdm\n",
    "from gym import envs\n",
    "import argparse\n",
    "import numpy as np\n",
    "from bigmdp.data.buffer import StandardBuffer,ReplayBuffer, gather_data_in_buffer, get_iter_indexes\n",
    "from bigmdp.mdp.MDP_GPU import FullMDP\n",
    "from bigmdp.utils.utils_eval import evaluate_on_env\n",
    "from bigmdp.mdp.agent import SimpleAgent\n",
    "from copy import deepcopy as cpy\n",
    "from os import path\n",
    "from arg_def import * \n",
    "import gym\n",
    "from sklearn.neighbors import KDTree\n",
    "from IPython import display\n",
    "import torch\n",
    "import time\n",
    "import copy"
   ]
  },
  {
   "cell_type": "code",
   "execution_count": 2,
   "metadata": {},
   "outputs": [],
   "source": [
    "parser, ArgumentDict = get_argument_parser()\n",
    "options = \"--env_name CartPole-v0 --action_repeat 1 --max_episode_length 200 --MAX_S_COUNT 15000 --MAX_NS_COUNT 5\"\n",
    "args = parser.parse_args(options.split(\" \"))\n"
   ]
  },
  {
   "cell_type": "code",
   "execution_count": 3,
   "metadata": {},
   "outputs": [],
   "source": [
    "from image_wrappers import *\n",
    "env = gym.make(args.env_name)"
   ]
  },
  {
   "cell_type": "code",
   "execution_count": 4,
   "metadata": {},
   "outputs": [],
   "source": [
    "train_buffer = ReplayBuffer(state_dim = env.observation_space.shape[0],\n",
    "                           is_atari= False, \n",
    "                           atari_preprocessing= None, \n",
    "                           batch_size=32, \n",
    "                           buffer_size=20000,\n",
    "                           device=\"cpu\")\n",
    "\n"
   ]
  },
  {
   "cell_type": "code",
   "execution_count": null,
   "metadata": {},
   "outputs": [],
   "source": []
  },
  {
   "cell_type": "code",
   "execution_count": 5,
   "metadata": {},
   "outputs": [
    {
     "name": "stdout",
     "output_type": "stream",
     "text": [
      "Average Reward of collected trajectories:15.0\n"
     ]
    }
   ],
   "source": [
    "train_buffer, info = gather_data_in_buffer(train_buffer, env,policy = lambda s:np.random.randint(2), episode_count=99999, frame_count=10)"
   ]
  },
  {
   "cell_type": "code",
   "execution_count": 6,
   "metadata": {},
   "outputs": [],
   "source": [
    "class DummyNet():\n",
    "    def __init__(self, sim, add_noise=False):\n",
    "        self.simulator = sim\n",
    "        self.use_cuda = False\n",
    "#         self.add_noise = add_noise\n",
    "\n",
    "    def encode_single(self, o):\n",
    "        return tuple(o)\n",
    "\n",
    "    def encode_batch(self, o_batch):\n",
    "        return [tuple(o) for o in o_batch]\n",
    "\n",
    "    def predict_single_transition(self, o, a):\n",
    "        return False\n",
    "\n",
    "    def predict_batch_transition(self, o_batch, a_batch):\n",
    "        return False\n"
   ]
  },
  {
   "cell_type": "code",
   "execution_count": 32,
   "metadata": {},
   "outputs": [],
   "source": [
    "def build_mdp(self, train_buffer):\n",
    "\n",
    "    print(\"Step 1 (Parse Transitions):  Running\")\n",
    "    st = time.time()\n",
    "\n",
    "    _batch_size = 256\n",
    "    start_end_indexes = get_iter_indexes(len(train_buffer), _batch_size)\n",
    "    for start_i, end_i in tqdm(start_end_indexes):\n",
    "        batch = train_buffer.sample_indices(list(range(start_i, end_i)))\n",
    "        batch_ob, batch_a, batch_ob_prime, batch_r, batch_nd = batch\n",
    "        batch_d = 1 - batch_nd\n",
    "        self.batch_parse(batch_ob.numpy(), batch_a.numpy().squeeze(), batch_ob_prime.numpy(),\n",
    "                         batch_r.numpy().squeeze(), batch_d.numpy().squeeze())\n",
    "\n",
    "    print(\"Step 1 [Parse Transitions]:  Complete,  Time Elapsed: {}\\n\\n\".format(time.time() - st))\n",
    "\n",
    "    print(\"Step 2 [Seed Seen Transitions + Unknown (s,a) pairs]:  Running\")\n",
    "    st = time.time()\n",
    "    self.commit_seen_transitions()\n",
    "    print(\"Step 2 (Commit Seen Transitions):  Complete,  Time Elapsed: {} \\n\\n\".format(time.time() - st))\n",
    "\n",
    "    print(\"Step 3 [Commit all Transitions]:  Running\")\n",
    "    st = time.time()\n",
    "    commit_predicted_transitions(self,verbose=True)\n",
    "    print(\"Step 3 (Commit UnSeen Transitions):  Complete,  Time Elapsed: {}\".format(time.time() - st))\n",
    "\n",
    "#     print(\"Step 4 [Solve MDP]:  Running\")\n",
    "#     st = time.time()\n",
    "#     self.solve_mdp()\n",
    "#     print(\"% of missing transitions\",\n",
    "#           self.mdp_T.unknown_state_action_count / (len(self.mdp_T.tD) * len(self.mdp_T.A)))\n",
    "#     self.seed_policies(smoothing=False, soft_q=False)\n",
    "#     print(\"Step 4 [Solve MDP]:  Complete,  Time Elapsed: {}\\n\\n\".format(time.time() - st))"
   ]
  },
  {
   "cell_type": "code",
   "execution_count": 37,
   "metadata": {},
   "outputs": [],
   "source": [
    "\n",
    "def commit_predicted_transitions(self, verbose=False):\n",
    "    if self.fill_with == \"0Q_src-KNN\":\n",
    "        iterator_ = self.to_commit_sa_pairs.items()\n",
    "        iterator_ = tqdm(iterator_) if verbose else iterator_\n",
    "\n",
    "        for sa_pair, seen_flag in iterator_:\n",
    "            # parse sa_pair\n",
    "            s_, a_ = sa_pair\n",
    "            s_i, a_i = self.mdp_T.s2i[s_], self.mdp_T.a2i[a_]\n",
    "\n",
    "            # get distances\n",
    "            knn_sa = self.mdp_T._get_knn_hs_kd_with_action_tree((s_, a_), k=self.mdp_T.mdp_build_k)\n",
    "            knn_sa_normalized = self.mdp_T.get_kernel_probs(knn_sa, delta=self.mdp_T.knn_delta)\n",
    "            self.dist_to_nn_cache.extend(list(knn_sa.values()))\n",
    "\n",
    "            # get new transition counts\n",
    "            tran_counts, reward_counts = defaultdict(init2zero), defaultdict(init2zero)\n",
    "            for nn_sa, norm_dist in knn_sa_normalized.items():\n",
    "                nn_s, a = nn_sa\n",
    "                for nn_ns in list(self.mdp_T.known_tC[nn_s][a].keys()):\n",
    "                    orig_tr, orig_tc = self.mdp_T.known_tC[nn_s][a][nn_s], self.mdp_T.known_rC[nn_s][a][nn_s]\n",
    "                    print( (s_, a_), (s_i, a_i), (nn_s, self.mdp_T.s2i[nn_s]),(nn_ns,  self.mdp_T.s2i[nn_ns]), orig_tr, orig_tc)\n",
    "                    tran_counts[nn_ns] += int(norm_dist * 100 * orig_tc) if self.norm_by_dist else 1\n",
    "                    reward_counts[nn_ns] += int(\n",
    "                        norm_dist * 100 * orig_tr) if self.norm_by_dist else orig_tr / orig_tc\n",
    "\n",
    "            top_k_ns = heapq.nlargest(self.mdp_T.mdp_build_k, tran_counts, key=tran_counts.get)\n",
    "            tran_counts = {s: tran_counts[s] for s in top_k_ns}  # filter for overflow\n",
    "            reward_counts = {s: reward_counts[s] for s in top_k_ns}  # filter for overflow\n",
    "            new_transitions = [(i, ns, tran_counts[ns], reward_counts[ns]) for i, ns in enumerate(tran_counts)]\n",
    "\n",
    "            # update count matrices\n",
    "            assert len(new_transitions) == self.mdp_T.mdp_build_k\n",
    "            for slot, ns, t_count, r_count in new_transitions:\n",
    "                ns_i = self.mdp_T.s2i[ns]\n",
    "                self.mdp_T.tranidxMatrix_cpu[a_i, s_i, slot] = ns_i\n",
    "                self.mdp_T.tranCountMatrix_cpu[a_i, s_i, slot] = t_count\n",
    "                self.mdp_T.rewardCountMatrix_cpu[a_i, s_i, slot] = r_count\n",
    "\n",
    "            # update prob matrices\n",
    "            self.mdp_T.update_prob_matrices(s_i, a_i)\n",
    "\n",
    "        self.to_commit_sa_pairs = defaultdict(init2zero)\n",
    "        self.to_commit_transitions = []\n"
   ]
  },
  {
   "cell_type": "code",
   "execution_count": 38,
   "metadata": {},
   "outputs": [
    {
     "name": "stderr",
     "output_type": "stream",
     "text": [
      "100%|██████████| 1/1 [00:00<00:00, 1153.23it/s]\n",
      "100%|██████████| 14/14 [00:00<00:00, 12403.94it/s]\n",
      "  0%|          | 0/30 [00:00<?, ?it/s]"
     ]
    },
    {
     "name": "stdout",
     "output_type": "stream",
     "text": [
      "Step 1 (Parse Transitions):  Running\n",
      "Step 1 [Parse Transitions]:  Complete,  Time Elapsed: 0.0022797584533691406\n",
      "\n",
      "\n",
      "Step 2 [Seed Seen Transitions + Unknown (s,a) pairs]:  Running\n",
      "Len of to commit transitions 14\n",
      "ABstraction Faldg False\n",
      "Len of to commit sa pairs 30\n",
      "Step 2 (Commit Seen Transitions):  Complete,  Time Elapsed: 0.0026102066040039062 \n",
      "\n",
      "\n",
      "Step 3 [Commit all Transitions]:  Running\n",
      "((-0.026770264, 0.013590637, -0.03349538, 0.03398315), 0) (2, 0) ((-0.026498452, 0.20917651, -0.032815717, -0.2690769), 3) ((-0.022314921, 0.014537863, -0.038197257, 0.013077795), 4) 0 0\n"
     ]
    },
    {
     "name": "stderr",
     "output_type": "stream",
     "text": [
      "\n"
     ]
    },
    {
     "ename": "ZeroDivisionError",
     "evalue": "division by zero",
     "output_type": "error",
     "traceback": [
      "\u001b[0;31m---------------------------------------------------------------------------\u001b[0m",
      "\u001b[0;31mZeroDivisionError\u001b[0m                         Traceback (most recent call last)",
      "\u001b[0;32m<ipython-input-38-a524aa8c014e>\u001b[0m in \u001b[0;36m<module>\u001b[0;34m\u001b[0m\n\u001b[1;32m     28\u001b[0m \u001b[0;34m\u001b[0m\u001b[0m\n\u001b[1;32m     29\u001b[0m \u001b[0;31m# myAgent.build_mdp(train_buffer)\u001b[0m\u001b[0;34m\u001b[0m\u001b[0;34m\u001b[0m\u001b[0;34m\u001b[0m\u001b[0m\n\u001b[0;32m---> 30\u001b[0;31m \u001b[0mbuild_mdp\u001b[0m\u001b[0;34m(\u001b[0m\u001b[0mmyAgent\u001b[0m\u001b[0;34m,\u001b[0m\u001b[0mtrain_buffer\u001b[0m\u001b[0;34m)\u001b[0m\u001b[0;34m\u001b[0m\u001b[0;34m\u001b[0m\u001b[0m\n\u001b[0m",
      "\u001b[0;32m<ipython-input-32-4183a3ad87b6>\u001b[0m in \u001b[0;36mbuild_mdp\u001b[0;34m(self, train_buffer)\u001b[0m\n\u001b[1;32m     22\u001b[0m     \u001b[0mprint\u001b[0m\u001b[0;34m(\u001b[0m\u001b[0;34m\"Step 3 [Commit all Transitions]:  Running\"\u001b[0m\u001b[0;34m)\u001b[0m\u001b[0;34m\u001b[0m\u001b[0;34m\u001b[0m\u001b[0m\n\u001b[1;32m     23\u001b[0m     \u001b[0mst\u001b[0m \u001b[0;34m=\u001b[0m \u001b[0mtime\u001b[0m\u001b[0;34m.\u001b[0m\u001b[0mtime\u001b[0m\u001b[0;34m(\u001b[0m\u001b[0;34m)\u001b[0m\u001b[0;34m\u001b[0m\u001b[0;34m\u001b[0m\u001b[0m\n\u001b[0;32m---> 24\u001b[0;31m     \u001b[0mcommit_predicted_transitions\u001b[0m\u001b[0;34m(\u001b[0m\u001b[0mself\u001b[0m\u001b[0;34m,\u001b[0m\u001b[0mverbose\u001b[0m\u001b[0;34m=\u001b[0m\u001b[0;32mTrue\u001b[0m\u001b[0;34m)\u001b[0m\u001b[0;34m\u001b[0m\u001b[0;34m\u001b[0m\u001b[0m\n\u001b[0m\u001b[1;32m     25\u001b[0m     \u001b[0mprint\u001b[0m\u001b[0;34m(\u001b[0m\u001b[0;34m\"Step 3 (Commit UnSeen Transitions):  Complete,  Time Elapsed: {}\"\u001b[0m\u001b[0;34m.\u001b[0m\u001b[0mformat\u001b[0m\u001b[0;34m(\u001b[0m\u001b[0mtime\u001b[0m\u001b[0;34m.\u001b[0m\u001b[0mtime\u001b[0m\u001b[0;34m(\u001b[0m\u001b[0;34m)\u001b[0m \u001b[0;34m-\u001b[0m \u001b[0mst\u001b[0m\u001b[0;34m)\u001b[0m\u001b[0;34m)\u001b[0m\u001b[0;34m\u001b[0m\u001b[0;34m\u001b[0m\u001b[0m\n\u001b[1;32m     26\u001b[0m \u001b[0;34m\u001b[0m\u001b[0m\n",
      "\u001b[0;32m<ipython-input-37-052f15c2ccdd>\u001b[0m in \u001b[0;36mcommit_predicted_transitions\u001b[0;34m(self, verbose)\u001b[0m\n\u001b[1;32m     23\u001b[0m                     \u001b[0mtran_counts\u001b[0m\u001b[0;34m[\u001b[0m\u001b[0mnn_ns\u001b[0m\u001b[0;34m]\u001b[0m \u001b[0;34m+=\u001b[0m \u001b[0mint\u001b[0m\u001b[0;34m(\u001b[0m\u001b[0mnorm_dist\u001b[0m \u001b[0;34m*\u001b[0m \u001b[0;36m100\u001b[0m \u001b[0;34m*\u001b[0m \u001b[0morig_tc\u001b[0m\u001b[0;34m)\u001b[0m \u001b[0;32mif\u001b[0m \u001b[0mself\u001b[0m\u001b[0;34m.\u001b[0m\u001b[0mnorm_by_dist\u001b[0m \u001b[0;32melse\u001b[0m \u001b[0;36m1\u001b[0m\u001b[0;34m\u001b[0m\u001b[0;34m\u001b[0m\u001b[0m\n\u001b[1;32m     24\u001b[0m                     reward_counts[nn_ns] += int(\n\u001b[0;32m---> 25\u001b[0;31m                         norm_dist * 100 * orig_tr) if self.norm_by_dist else orig_tr / orig_tc\n\u001b[0m\u001b[1;32m     26\u001b[0m \u001b[0;34m\u001b[0m\u001b[0m\n\u001b[1;32m     27\u001b[0m             \u001b[0mtop_k_ns\u001b[0m \u001b[0;34m=\u001b[0m \u001b[0mheapq\u001b[0m\u001b[0;34m.\u001b[0m\u001b[0mnlargest\u001b[0m\u001b[0;34m(\u001b[0m\u001b[0mself\u001b[0m\u001b[0;34m.\u001b[0m\u001b[0mmdp_T\u001b[0m\u001b[0;34m.\u001b[0m\u001b[0mmdp_build_k\u001b[0m\u001b[0;34m,\u001b[0m \u001b[0mtran_counts\u001b[0m\u001b[0;34m,\u001b[0m \u001b[0mkey\u001b[0m\u001b[0;34m=\u001b[0m\u001b[0mtran_counts\u001b[0m\u001b[0;34m.\u001b[0m\u001b[0mget\u001b[0m\u001b[0;34m)\u001b[0m\u001b[0;34m\u001b[0m\u001b[0;34m\u001b[0m\u001b[0m\n",
      "\u001b[0;31mZeroDivisionError\u001b[0m: division by zero"
     ]
    }
   ],
   "source": [
    "\n",
    "empty_MDP = FullMDP(A= list(range(env.action_space.n)),\n",
    "                    ur=args.unknown_transition_reward,\n",
    "                    vi_params={\"gamma\":  args.gamma,\n",
    "                               \"slip_prob\": args.slip_probability,\n",
    "                               \"rmax_reward\": args.rmax_reward,\n",
    "                               \"rmax_thres\": args.rmax_threshold,\n",
    "                               \"balanced_explr\": args.balanced_exploration,\n",
    "                              \"rmin\":-1000},\n",
    "                    mdp_params={\"weight_transitions\": args.weight_transitions,\n",
    "                            \"mdp_build_k\":args.mdp_build_k,\n",
    "                            \"plcy_lift_k\": 1,\n",
    "                            \"knn_delta\" : args.knn_delta,\n",
    "                            \"calc_action_vector\":False,\n",
    "                            \"penalty_beta\":args.penalty_beta,\n",
    "                            \"penalize_unknown_transitions\": args.penalty_type != \"none\"\n",
    "                            },\n",
    "                    MAX_S_COUNT= args.MAX_S_COUNT,\n",
    "                    MAX_NS_COUNT= args.MAX_NS_COUNT,\n",
    "                    default_mode=args.def_device)\n",
    "\n",
    "myAgent =  SimpleAgent(empty_MDP, net = DummyNet(None),  fill_with = args.fill_with,\n",
    "                       sample_neighbors = False, pred_error_threshold = args.within_radius,\n",
    "                       penalty_type=args.penalty_type, penalty_beta = args.penalty_beta,\n",
    "                       abstraction_flag=False, normalize_by_distance= args.normalize_by_distance)\n",
    "\n",
    "mdp_id = \"L[{}]-E[{}]-B[{}]-Fill[{}_K{}]-Penalty[{}_{}]\".format(args.latent_type, args.encoder_type, args.bottleneck_size, \n",
    "                                                          args.fill_with, args.mdp_build_k, args.penalty_type, args.penalty_beta)\n",
    "\n",
    "# myAgent.build_mdp(train_buffer)\n",
    "build_mdp(myAgent,train_buffer)\n"
   ]
  },
  {
   "cell_type": "code",
   "execution_count": 11,
   "metadata": {},
   "outputs": [
    {
     "ename": "IndexError",
     "evalue": "index 5 is out of bounds for axis 2 with size 5",
     "output_type": "error",
     "traceback": [
      "\u001b[0;31m---------------------------------------------------------------------------\u001b[0m",
      "\u001b[0;31mIndexError\u001b[0m                                Traceback (most recent call last)",
      "\u001b[0;32m<ipython-input-11-1389dc072836>\u001b[0m in \u001b[0;36m<module>\u001b[0;34m\u001b[0m\n\u001b[0;32m----> 1\u001b[0;31m \u001b[0mmyAgent\u001b[0m\u001b[0;34m.\u001b[0m\u001b[0mmdp_T\u001b[0m\u001b[0;34m.\u001b[0m\u001b[0mrefresh_cache_dicts\u001b[0m\u001b[0;34m(\u001b[0m\u001b[0;34m)\u001b[0m\u001b[0;34m\u001b[0m\u001b[0;34m\u001b[0m\u001b[0m\n\u001b[0m",
      "\u001b[0;32m~/OsuDrive/afern_drive/library_projects/EMDP/bigmdp/mdp/MDP_GPU.py\u001b[0m in \u001b[0;36mrefresh_cache_dicts\u001b[0;34m(self)\u001b[0m\n\u001b[1;32m    179\u001b[0m                     \u001b[0mns\u001b[0m\u001b[0;34m,\u001b[0m \u001b[0ma_i\u001b[0m \u001b[0;34m=\u001b[0m \u001b[0mself\u001b[0m\u001b[0;34m.\u001b[0m\u001b[0mi2s\u001b[0m\u001b[0;34m[\u001b[0m\u001b[0mns_i\u001b[0m\u001b[0;34m]\u001b[0m\u001b[0;34m,\u001b[0m \u001b[0mself\u001b[0m\u001b[0;34m.\u001b[0m\u001b[0ma2i\u001b[0m\u001b[0;34m[\u001b[0m\u001b[0ma\u001b[0m\u001b[0;34m]\u001b[0m\u001b[0;34m\u001b[0m\u001b[0;34m\u001b[0m\u001b[0m\n\u001b[1;32m    180\u001b[0m                     \u001b[0;31m# print(f\"ns:{ns},ns_i:{ns_i}, a_i:{a_i}, a:{a}, s:{s}, s_i:{s_i} ,  ns_id_idx:{ns_id_idx}\")\u001b[0m\u001b[0;34m\u001b[0m\u001b[0;34m\u001b[0m\u001b[0;34m\u001b[0m\u001b[0m\n\u001b[0;32m--> 181\u001b[0;31m                     \u001b[0mself\u001b[0m\u001b[0;34m.\u001b[0m\u001b[0mtD\u001b[0m\u001b[0;34m[\u001b[0m\u001b[0ms\u001b[0m\u001b[0;34m]\u001b[0m\u001b[0;34m[\u001b[0m\u001b[0ma\u001b[0m\u001b[0;34m]\u001b[0m\u001b[0;34m[\u001b[0m\u001b[0mns\u001b[0m\u001b[0;34m]\u001b[0m \u001b[0;34m=\u001b[0m \u001b[0mself\u001b[0m\u001b[0;34m.\u001b[0m\u001b[0mtranProbMatrix_cpu\u001b[0m\u001b[0;34m[\u001b[0m\u001b[0ma_i\u001b[0m\u001b[0;34m,\u001b[0m \u001b[0ms_i\u001b[0m\u001b[0;34m,\u001b[0m \u001b[0mns_i\u001b[0m\u001b[0;34m]\u001b[0m\u001b[0;34m\u001b[0m\u001b[0;34m\u001b[0m\u001b[0m\n\u001b[0m\u001b[1;32m    182\u001b[0m                     \u001b[0mself\u001b[0m\u001b[0;34m.\u001b[0m\u001b[0mrD\u001b[0m\u001b[0;34m[\u001b[0m\u001b[0ms\u001b[0m\u001b[0;34m]\u001b[0m\u001b[0;34m[\u001b[0m\u001b[0ma\u001b[0m\u001b[0;34m]\u001b[0m\u001b[0;34m[\u001b[0m\u001b[0mns\u001b[0m\u001b[0;34m]\u001b[0m \u001b[0;34m=\u001b[0m \u001b[0mself\u001b[0m\u001b[0;34m.\u001b[0m\u001b[0mrewardMatrix_cpu\u001b[0m\u001b[0;34m[\u001b[0m\u001b[0ma_i\u001b[0m\u001b[0;34m,\u001b[0m \u001b[0ms_i\u001b[0m\u001b[0;34m,\u001b[0m \u001b[0mns_i\u001b[0m\u001b[0;34m]\u001b[0m\u001b[0;34m\u001b[0m\u001b[0;34m\u001b[0m\u001b[0m\n\u001b[1;32m    183\u001b[0m                     \u001b[0;31m# Transition Probabilities\u001b[0m\u001b[0;34m\u001b[0m\u001b[0;34m\u001b[0m\u001b[0;34m\u001b[0m\u001b[0m\n",
      "\u001b[0;31mIndexError\u001b[0m: index 5 is out of bounds for axis 2 with size 5"
     ]
    }
   ],
   "source": [
    "myAgent.mdp_T.refresh_cache_dicts()"
   ]
  },
  {
   "cell_type": "code",
   "execution_count": 24,
   "metadata": {},
   "outputs": [],
   "source": [
    "def refresh_cache_dicts(self):\n",
    "    self.tD = defaultdict(init2zero_def_def_dict)  # Transition Probabilities\n",
    "    self.rD = defaultdict(init2zero_def_def_dict)  # Transition Probabilities\n",
    "\n",
    "    for s, s_i in self.s2i.items():\n",
    "        for a in self.A:\n",
    "            for ns_slot, ns_i in enumerate(self.tranidxMatrix_cpu[self.a2i[a], s_i]):\n",
    "                ns,a_i = self.i2s[ns_i], self.a2i[a]\n",
    "                if self.tranProbMatrix_cpu[a_i, s_i, ns_slot] >0:\n",
    "                    print(f\"ns:{ns},ns_i:{ns_i}, a_i:{a_i}, a:{a}, s:{s}, s_i:{s_i} ,  ns_slot:{ns_slot}\")\n",
    "                    self.tD[s][a][ns] = self.tranProbMatrix_cpu[a_i, s_i, ns_slot]\n",
    "                    self.rD[s][a][ns] = self.rewardMatrix_cpu[a_i, s_i, ns_slot]\n",
    "                # Transition Probabilities"
   ]
  },
  {
   "cell_type": "code",
   "execution_count": 29,
   "metadata": {},
   "outputs": [],
   "source": [
    "# refresh_cache_dicts(empty_MDP)\n",
    "# empty_MDP.tranProbMatrix_cpu"
   ]
  },
  {
   "cell_type": "code",
   "execution_count": 30,
   "metadata": {},
   "outputs": [],
   "source": [
    "# for s in empty_MDP.tD:\n",
    "#     for a in empty_MDP.tD[s]:\n",
    "#         print(empty_MDP.s2i[s],a)\n",
    "#         for ns in empty_MDP.tD[s][a]:\n",
    "#             print(\"\\t\",empty_MDP.s2i[ns],empty_MDP.tD[s][a][ns])"
   ]
  },
  {
   "cell_type": "code",
   "execution_count": null,
   "metadata": {},
   "outputs": [],
   "source": []
  },
  {
   "cell_type": "code",
   "execution_count": null,
   "metadata": {},
   "outputs": [],
   "source": []
  },
  {
   "cell_type": "code",
   "execution_count": 8,
   "metadata": {},
   "outputs": [
    {
     "name": "stderr",
     "output_type": "stream",
     "text": [
      "100%|██████████| 50/50 [00:02<00:00, 18.73it/s]\n",
      "100%|██████████| 50/50 [00:00<00:00, 2476.74it/s]\n",
      "100%|██████████| 50/50 [00:02<00:00, 20.10it/s]\n",
      "100%|██████████| 50/50 [00:02<00:00, 18.66it/s]"
     ]
    },
    {
     "name": "stdout",
     "output_type": "stream",
     "text": [
      "{'optimal': 200.0, 'random': 20.96, 'eps_optimal': 200.0, 'safe': 200.0}\n"
     ]
    },
    {
     "name": "stderr",
     "output_type": "stream",
     "text": [
      "\n"
     ]
    }
   ],
   "source": [
    "myAgent.smoothing = True\n",
    "myAgent.soft_q = False\n",
    "myAgent.mdp_T.plcy_lift_k = 11\n",
    "myAgent.mdp_T.smooth_with_seen = False\n",
    "\n",
    "sum_reward_running = {policy_name:evaluate_on_env(env,  \n",
    "                                                  policy, \n",
    "                                                  eps_count=50,progress_bar=True)[0]\n",
    "                      for policy_name,policy in myAgent.policies.items()}\n",
    "print(sum_reward_running)"
   ]
  },
  {
   "cell_type": "code",
   "execution_count": 9,
   "metadata": {},
   "outputs": [],
   "source": [
    "# evaluate_on_env(env,  myAgent.policies[\"optimal\"], \n",
    "#                                                   eps_count=50,progress_bar=True)\n"
   ]
  },
  {
   "cell_type": "code",
   "execution_count": null,
   "metadata": {},
   "outputs": [],
   "source": [
    "for s in myAgent.mdp_cache:\n",
    "    for a in myAgent.mdp_cache[s]:\n",
    "        for ns in myAgent.mdp_cache[s][a]:"
   ]
  },
  {
   "cell_type": "code",
   "execution_count": 17,
   "metadata": {},
   "outputs": [
    {
     "data": {
      "text/plain": [
       "1"
      ]
     },
     "execution_count": 17,
     "metadata": {},
     "output_type": "execute_result"
    }
   ],
   "source": [
    "a = {1:2, 3:1}\n",
    "max(a, key=a.get)"
   ]
  },
  {
   "cell_type": "code",
   "execution_count": 10,
   "metadata": {},
   "outputs": [],
   "source": [
    "from pycuda import compiler, gpuarray\n",
    "from collections import defaultdict\n",
    "import time\n",
    "import math as mth\n",
    "from bigmdp.mdp.kernels import complex_vi_kernel_code_template as vi_kernel_template\n",
    "import numpy as np\n",
    "from tqdm import tqdm\n",
    "from copy import deepcopy as cpy\n",
    "from collections import deque\n",
    "import random\n",
    "from sklearn.neighbors import KDTree\n",
    "from collections import Counter"
   ]
  },
  {
   "cell_type": "code",
   "execution_count": 11,
   "metadata": {},
   "outputs": [],
   "source": [
    "e_vD_gpu = gpuarray.to_gpu(np.zeros((100, 1)).astype('float32'))\n",
    "e_vD_cpu = np.zeros((100, 1)).astype('float32')"
   ]
  },
  {
   "cell_type": "code",
   "execution_count": 12,
   "metadata": {},
   "outputs": [
    {
     "name": "stderr",
     "output_type": "stream",
     "text": [
      "100%|██████████| 1000000/1000000 [00:00<00:00, 1442770.47it/s]\n"
     ]
    }
   ],
   "source": [
    "for i in tqdm(range(int(1e6))):\n",
    "    e_vD_cpu[1][0] = 1"
   ]
  },
  {
   "cell_type": "code",
   "execution_count": 13,
   "metadata": {},
   "outputs": [
    {
     "name": "stderr",
     "output_type": "stream",
     "text": [
      "  0%|          | 0/1000000 [00:00<?, ?it/s]\n"
     ]
    },
    {
     "ename": "TypeError",
     "evalue": "src must be GPUArray or ndarray",
     "output_type": "error",
     "traceback": [
      "\u001b[0;31m---------------------------------------------------------------------------\u001b[0m",
      "\u001b[0;31mTypeError\u001b[0m                                 Traceback (most recent call last)",
      "\u001b[0;32m<ipython-input-13-1286551e12a1>\u001b[0m in \u001b[0;36m<module>\u001b[0;34m\u001b[0m\n\u001b[1;32m      1\u001b[0m \u001b[0;32mfor\u001b[0m \u001b[0mi\u001b[0m \u001b[0;32min\u001b[0m \u001b[0mtqdm\u001b[0m\u001b[0;34m(\u001b[0m\u001b[0mrange\u001b[0m\u001b[0;34m(\u001b[0m\u001b[0mint\u001b[0m\u001b[0;34m(\u001b[0m\u001b[0;36m1e6\u001b[0m\u001b[0;34m)\u001b[0m\u001b[0;34m)\u001b[0m\u001b[0;34m)\u001b[0m\u001b[0;34m:\u001b[0m\u001b[0;34m\u001b[0m\u001b[0;34m\u001b[0m\u001b[0m\n\u001b[0;32m----> 2\u001b[0;31m     \u001b[0me_vD_gpu\u001b[0m\u001b[0;34m[\u001b[0m\u001b[0;36m1\u001b[0m\u001b[0;34m]\u001b[0m\u001b[0;34m[\u001b[0m\u001b[0;36m0\u001b[0m\u001b[0;34m]\u001b[0m \u001b[0;34m=\u001b[0m \u001b[0;36m1\u001b[0m\u001b[0;34m\u001b[0m\u001b[0;34m\u001b[0m\u001b[0m\n\u001b[0m",
      "\u001b[0;32m~/miniconda3/envs/pytorch_env/lib/python3.6/site-packages/pycuda/gpuarray.py\u001b[0m in \u001b[0;36m__setitem__\u001b[0;34m(self, index, value)\u001b[0m\n\u001b[1;32m    953\u001b[0m \u001b[0;34m\u001b[0m\u001b[0m\n\u001b[1;32m    954\u001b[0m     \u001b[0;32mdef\u001b[0m \u001b[0m__setitem__\u001b[0m\u001b[0;34m(\u001b[0m\u001b[0mself\u001b[0m\u001b[0;34m,\u001b[0m \u001b[0mindex\u001b[0m\u001b[0;34m,\u001b[0m \u001b[0mvalue\u001b[0m\u001b[0;34m)\u001b[0m\u001b[0;34m:\u001b[0m\u001b[0;34m\u001b[0m\u001b[0;34m\u001b[0m\u001b[0m\n\u001b[0;32m--> 955\u001b[0;31m         \u001b[0m_memcpy_discontig\u001b[0m\u001b[0;34m(\u001b[0m\u001b[0mself\u001b[0m\u001b[0;34m[\u001b[0m\u001b[0mindex\u001b[0m\u001b[0;34m]\u001b[0m\u001b[0;34m,\u001b[0m \u001b[0mvalue\u001b[0m\u001b[0;34m)\u001b[0m\u001b[0;34m\u001b[0m\u001b[0;34m\u001b[0m\u001b[0m\n\u001b[0m\u001b[1;32m    956\u001b[0m \u001b[0;34m\u001b[0m\u001b[0m\n\u001b[1;32m    957\u001b[0m     \u001b[0;31m# }}}\u001b[0m\u001b[0;34m\u001b[0m\u001b[0;34m\u001b[0m\u001b[0;34m\u001b[0m\u001b[0m\n",
      "\u001b[0;32m~/miniconda3/envs/pytorch_env/lib/python3.6/site-packages/pycuda/gpuarray.py\u001b[0m in \u001b[0;36m_memcpy_discontig\u001b[0;34m(dst, src, async_, stream)\u001b[0m\n\u001b[1;32m   1238\u001b[0m \u001b[0;34m\u001b[0m\u001b[0m\n\u001b[1;32m   1239\u001b[0m     \u001b[0;32mif\u001b[0m \u001b[0;32mnot\u001b[0m \u001b[0misinstance\u001b[0m\u001b[0;34m(\u001b[0m\u001b[0msrc\u001b[0m\u001b[0;34m,\u001b[0m \u001b[0;34m(\u001b[0m\u001b[0mGPUArray\u001b[0m\u001b[0;34m,\u001b[0m \u001b[0mnp\u001b[0m\u001b[0;34m.\u001b[0m\u001b[0mndarray\u001b[0m\u001b[0;34m)\u001b[0m\u001b[0;34m)\u001b[0m\u001b[0;34m:\u001b[0m\u001b[0;34m\u001b[0m\u001b[0;34m\u001b[0m\u001b[0m\n\u001b[0;32m-> 1240\u001b[0;31m         \u001b[0;32mraise\u001b[0m \u001b[0mTypeError\u001b[0m\u001b[0;34m(\u001b[0m\u001b[0;34m\"src must be GPUArray or ndarray\"\u001b[0m\u001b[0;34m)\u001b[0m\u001b[0;34m\u001b[0m\u001b[0;34m\u001b[0m\u001b[0m\n\u001b[0m\u001b[1;32m   1241\u001b[0m     \u001b[0;32mif\u001b[0m \u001b[0;32mnot\u001b[0m \u001b[0misinstance\u001b[0m\u001b[0;34m(\u001b[0m\u001b[0mdst\u001b[0m\u001b[0;34m,\u001b[0m \u001b[0;34m(\u001b[0m\u001b[0mGPUArray\u001b[0m\u001b[0;34m,\u001b[0m \u001b[0mnp\u001b[0m\u001b[0;34m.\u001b[0m\u001b[0mndarray\u001b[0m\u001b[0;34m)\u001b[0m\u001b[0;34m)\u001b[0m\u001b[0;34m:\u001b[0m\u001b[0;34m\u001b[0m\u001b[0;34m\u001b[0m\u001b[0m\n\u001b[1;32m   1242\u001b[0m         \u001b[0;32mraise\u001b[0m \u001b[0mTypeError\u001b[0m\u001b[0;34m(\u001b[0m\u001b[0;34m\"dst must be GPUArray or ndarray\"\u001b[0m\u001b[0;34m)\u001b[0m\u001b[0;34m\u001b[0m\u001b[0;34m\u001b[0m\u001b[0m\n",
      "\u001b[0;31mTypeError\u001b[0m: src must be GPUArray or ndarray"
     ]
    }
   ],
   "source": [
    "for i in tqdm(range(int(1e6))):\n",
    "    e_vD_gpu[1][0] = 1"
   ]
  },
  {
   "cell_type": "code",
   "execution_count": 36,
   "metadata": {},
   "outputs": [],
   "source": [
    "tranCountMatrix_cpu = np.ones((2, 4, 3)).astype('float32')\n",
    "tranProbMatrix_cpu = np.zeros((2, 4, 3)).astype('float32')\n",
    "tranCountMatrix_cpu[0,0,-1] = 0"
   ]
  },
  {
   "cell_type": "code",
   "execution_count": 37,
   "metadata": {},
   "outputs": [],
   "source": [
    "a_i = 0\n",
    "s_i = 0\n",
    "tranProbMatrix_cpu[a_i,s_i] = tranCountMatrix_cpu[a_i,s_i]/np.sum(tranCountMatrix_cpu[a_i,s_i])"
   ]
  },
  {
   "cell_type": "code",
   "execution_count": 38,
   "metadata": {},
   "outputs": [
    {
     "data": {
      "text/plain": [
       "array([[[0.5, 0.5, 0. ],\n",
       "        [0. , 0. , 0. ],\n",
       "        [0. , 0. , 0. ],\n",
       "        [0. , 0. , 0. ]],\n",
       "\n",
       "       [[0. , 0. , 0. ],\n",
       "        [0. , 0. , 0. ],\n",
       "        [0. , 0. , 0. ],\n",
       "        [0. , 0. , 0. ]]], dtype=float32)"
      ]
     },
     "execution_count": 38,
     "metadata": {},
     "output_type": "execute_result"
    }
   ],
   "source": [
    "tranProbMatrix_cpu"
   ]
  },
  {
   "cell_type": "code",
   "execution_count": 31,
   "metadata": {},
   "outputs": [
    {
     "data": {
      "text/plain": [
       "array([[[5., 0., 0.],\n",
       "        [0., 0., 0.],\n",
       "        [0., 0., 0.],\n",
       "        [0., 0., 0.]],\n",
       "\n",
       "       [[5., 0., 0.],\n",
       "        [0., 0., 0.],\n",
       "        [0., 0., 0.],\n",
       "        [0., 0., 0.]]], dtype=float32)"
      ]
     },
     "execution_count": 31,
     "metadata": {},
     "output_type": "execute_result"
    }
   ],
   "source": [
    "tranCountMatrix_cpu"
   ]
  },
  {
   "cell_type": "code",
   "execution_count": null,
   "metadata": {},
   "outputs": [],
   "source": []
  }
 ],
 "metadata": {
  "kernelspec": {
   "display_name": "Python 3",
   "language": "python",
   "name": "python3"
  },
  "language_info": {
   "codemirror_mode": {
    "name": "ipython",
    "version": 3
   },
   "file_extension": ".py",
   "mimetype": "text/x-python",
   "name": "python",
   "nbconvert_exporter": "python",
   "pygments_lexer": "ipython3",
   "version": "3.6.12"
  },
  "pycharm": {
   "stem_cell": {
    "cell_type": "raw",
    "metadata": {
     "collapsed": false
    },
    "source": []
   }
  }
 },
 "nbformat": 4,
 "nbformat_minor": 4
}
