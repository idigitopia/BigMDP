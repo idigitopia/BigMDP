{
 "cells": [
  {
   "cell_type": "code",
   "execution_count": null,
   "metadata": {},
   "outputs": [],
   "source": []
  },
  {
   "cell_type": "code",
   "execution_count": 1,
   "metadata": {},
   "outputs": [],
   "source": [
    "import os\n",
    "import plotly.graph_objects as go\n",
    "from tqdm import tqdm\n",
    "from gym import envs\n",
    "import argparse\n",
    "import numpy as np\n",
    "from bigmdp.data.dataset import SimpleReplayBuffer, gather_data_in_buffer\n",
    "from bigmdp.data.env_gym import SimpleNormalizeEnv, SimpleGymEnv, SimpleAtariEnv\n",
    "from bigmdp.mdp.MDP_GPU_KDD import FullMDP\n",
    "from bigmdp.utils.tmp_vi_helper import *\n",
    "# from bigmdp.utils.tmp_vi_helper import get_iter_indexes\n",
    "from bigmdp.utils.utils_directory import *\n",
    "from bigmdp.utils.utils_log import *\n",
    "from bigmdp.mdp.mdp_agent import SimpleAgent\n",
    "from copy import deepcopy as cpy\n",
    "from os import path\n",
    "from arg_def import * \n",
    "import gym\n",
    "import gym_cartpole_explore\n",
    "import seaborn as sns\n",
    "import wandb as wandb_logger \n",
    "from plotly.subplots import make_subplots\n",
    "import plotly.graph_objects as go\n",
    "from sklearn.neighbors import KDTree\n",
    "from IPython import display\n",
    "import torch"
   ]
  },
  {
   "cell_type": "code",
   "execution_count": 2,
   "metadata": {},
   "outputs": [],
   "source": [
    "# --log_wandb --project DFM_MDP --run_id default --ts_in_run_id 1 \\\n",
    "#         --algorithm PPO  --image_size 84 84 \\\n",
    "#         --data_version batch_rl --data_suffices 1 --sample_size 1 --test_size 0 \\\n",
    "#         --encoder_type none --bottleneck_size 16 --MAX_S_COUNT 350000\\\n",
    "#         --fill_with 0Q_src-KNN --mdp_build_k 1 --penalty_type linear --penalty_beta 0\\\n",
    "#         --build_mdp --save_mdp"
   ]
  },
  {
   "cell_type": "code",
   "execution_count": 3,
   "metadata": {},
   "outputs": [],
   "source": [
    "parser, ArgumentDict = get_argument_parser()\n",
    "options = \"--env_name CartPole-v1 --action_repeat 1 --max_episode_length 250\"\n",
    "args = parser.parse_args(options.split(\" \"))\n"
   ]
  },
  {
   "cell_type": "code",
   "execution_count": 4,
   "metadata": {},
   "outputs": [],
   "source": [
    "from image_wrappers import *\n",
    "\n",
    "env = MaxLenNotDoneWrap(RepeatActionWrap(gym.make(args.env_name), args.action_repeat),\n",
    "                                max_episode_length=args.max_episode_length)"
   ]
  },
  {
   "cell_type": "code",
   "execution_count": 8,
   "metadata": {},
   "outputs": [
    {
     "name": "stdout",
     "output_type": "stream",
     "text": [
      "Average Reward of collected trajectories:22.147\n",
      "Data Collection Complete in 4.581763029098511 Seconds\n"
     ]
    }
   ],
   "source": [
    "train_buffer = SimpleReplayBuffer(200000)\n",
    "train_buffer, info = gather_data_in_buffer(train_buffer, env, episodes = 99999999, policy = lambda s:np.random.randint(2), frame_count=200000, render = False )"
   ]
  },
  {
   "cell_type": "code",
   "execution_count": 9,
   "metadata": {},
   "outputs": [],
   "source": [
    "class DummyNet():\n",
    "    def __init__(self, sim, add_noise=False):\n",
    "        self.simulator = sim\n",
    "        self.use_cuda = False\n",
    "        self.add_noise = add_noise\n",
    "\n",
    "    def encode_single(self, o):\n",
    "        return tuple(o)\n",
    "\n",
    "    def encode_batch(self, o_batch):\n",
    "        return [tuple(o) for o in o_batch]\n",
    "\n",
    "    def predict_single_transition(self, o, a):\n",
    "        return False\n",
    "\n",
    "    def predict_batch_transition(self, o_batch, a_batch):\n",
    "        return False\n"
   ]
  },
  {
   "cell_type": "code",
   "execution_count": null,
   "metadata": {},
   "outputs": [],
   "source": []
  },
  {
   "cell_type": "code",
   "execution_count": null,
   "metadata": {},
   "outputs": [
    {
     "name": "stderr",
     "output_type": "stream",
     "text": [
      "\n",
      "  0%|          | 0/782 [00:00<?, ?it/s]\u001b[A\n",
      "  4%|▎         | 29/782 [00:00<00:02, 288.65it/s]\u001b[A"
     ]
    },
    {
     "name": "stdout",
     "output_type": "stream",
     "text": [
      "Parsing Dataset Batch Parse: True\n"
     ]
    },
    {
     "name": "stderr",
     "output_type": "stream",
     "text": [
      "\n",
      "  7%|▋         | 54/782 [00:00<00:02, 274.96it/s]\u001b[A\n",
      " 10%|█         | 79/782 [00:00<00:02, 261.78it/s]\u001b[A\n",
      " 13%|█▎        | 102/782 [00:00<00:02, 247.70it/s]\u001b[A\n",
      " 16%|█▌        | 124/782 [00:00<00:02, 235.01it/s]\u001b[A\n",
      " 18%|█▊        | 144/782 [00:00<00:03, 199.33it/s]\u001b[A\n",
      " 21%|██        | 162/782 [00:00<00:03, 192.25it/s]\u001b[A\n",
      " 23%|██▎       | 180/782 [00:00<00:03, 172.60it/s]\u001b[A\n",
      " 25%|██▌       | 197/782 [00:00<00:03, 168.46it/s]\u001b[A\n",
      " 27%|██▋       | 214/782 [00:01<00:03, 157.55it/s]\u001b[A\n",
      " 29%|██▉       | 230/782 [00:01<00:03, 154.16it/s]\u001b[A\n",
      " 31%|███▏      | 246/782 [00:01<00:03, 149.38it/s]\u001b[A\n",
      " 33%|███▎      | 261/782 [00:01<00:03, 148.27it/s]\u001b[A\n",
      " 35%|███▌      | 276/782 [00:01<00:03, 143.56it/s]\u001b[A\n",
      " 37%|███▋      | 291/782 [00:01<00:03, 140.35it/s]\u001b[A\n",
      " 39%|███▉      | 306/782 [00:01<00:03, 137.71it/s]\u001b[A\n",
      " 41%|████      | 320/782 [00:01<00:03, 135.43it/s]\u001b[A\n",
      " 43%|████▎     | 334/782 [00:01<00:03, 132.17it/s]\u001b[A\n",
      " 45%|████▍     | 348/782 [00:02<00:03, 127.77it/s]\u001b[A\n",
      " 46%|████▌     | 361/782 [00:02<00:03, 120.04it/s]\u001b[A\n",
      " 48%|████▊     | 374/782 [00:02<00:03, 116.51it/s]\u001b[A\n",
      " 49%|████▉     | 386/782 [00:02<00:03, 110.70it/s]\u001b[A\n",
      " 51%|█████     | 398/782 [00:02<00:03, 106.55it/s]\u001b[A\n",
      " 52%|█████▏    | 409/782 [00:02<00:03, 99.10it/s] \u001b[A\n",
      " 54%|█████▎    | 420/782 [00:02<00:03, 98.70it/s]\u001b[A\n",
      " 55%|█████▌    | 431/782 [00:02<00:03, 100.81it/s]\u001b[A\n",
      " 57%|█████▋    | 442/782 [00:03<00:03, 102.41it/s]\u001b[A\n",
      " 58%|█████▊    | 453/782 [00:03<00:03, 104.29it/s]\u001b[A\n",
      " 59%|█████▉    | 465/782 [00:03<00:02, 106.12it/s]\u001b[A\n",
      " 61%|██████    | 476/782 [00:03<00:02, 103.73it/s]\u001b[A\n",
      " 63%|██████▎   | 489/782 [00:03<00:02, 109.56it/s]\u001b[A\n",
      " 64%|██████▍   | 502/782 [00:03<00:02, 112.98it/s]\u001b[A\n",
      " 66%|██████▌   | 515/782 [00:03<00:02, 116.37it/s]\u001b[A\n",
      " 67%|██████▋   | 527/782 [00:03<00:02, 116.73it/s]\u001b[A\n",
      " 69%|██████▉   | 539/782 [00:03<00:02, 117.08it/s]\u001b[A\n",
      " 71%|███████   | 554/782 [00:03<00:01, 123.86it/s]\u001b[A\n",
      " 73%|███████▎  | 570/782 [00:04<00:01, 131.99it/s]\u001b[A\n",
      " 75%|███████▍  | 586/782 [00:04<00:01, 139.02it/s]\u001b[A\n",
      " 77%|███████▋  | 603/782 [00:04<00:01, 145.19it/s]\u001b[A\n",
      " 79%|███████▉  | 618/782 [00:04<00:01, 144.75it/s]\u001b[A\n",
      " 81%|████████  | 635/782 [00:04<00:00, 151.03it/s]\u001b[A\n",
      " 84%|████████▎ | 654/782 [00:04<00:00, 158.88it/s]\u001b[A\n",
      " 86%|████████▌ | 672/782 [00:04<00:00, 162.78it/s]\u001b[A\n",
      " 89%|████████▊ | 694/782 [00:04<00:00, 174.90it/s]\u001b[A\n",
      " 91%|█████████▏| 715/782 [00:04<00:00, 183.78it/s]\u001b[A\n",
      " 95%|█████████▌| 743/782 [00:05<00:00, 201.31it/s]\u001b[A\n",
      " 99%|█████████▉| 773/782 [00:05<00:00, 222.39it/s]\u001b[A\n",
      "100%|██████████| 782/782 [00:05<00:00, 150.94it/s]\u001b[A\n",
      "  0%|          | 0/200000 [00:00<?, ?it/s]\u001b[A\n",
      "  0%|          | 578/200000 [00:00<00:34, 5779.95it/s]\u001b[A"
     ]
    },
    {
     "name": "stdout",
     "output_type": "stream",
     "text": [
      "Parsing Complete\n",
      "Commiting Seen Transitions\n",
      "Len of to commit transitions 200000\n",
      "ABstraction Faldg False\n"
     ]
    },
    {
     "name": "stderr",
     "output_type": "stream",
     "text": [
      "\n",
      "  1%|          | 1121/200000 [00:00<00:35, 5659.64it/s]\u001b[A\n",
      "  1%|          | 1762/200000 [00:00<00:33, 5865.09it/s]\u001b[A\n",
      "  1%|          | 2476/200000 [00:00<00:31, 6196.80it/s]\u001b[A\n",
      "  2%|▏         | 3075/200000 [00:00<00:32, 6132.53it/s]\u001b[A\n",
      "  2%|▏         | 3801/200000 [00:00<00:30, 6430.74it/s]\u001b[A\n",
      "  2%|▏         | 4474/200000 [00:00<00:30, 6515.79it/s]\u001b[A\n",
      "  3%|▎         | 5147/200000 [00:00<00:29, 6576.61it/s]\u001b[A\n",
      "  3%|▎         | 5776/200000 [00:00<00:31, 6127.87it/s]\u001b[A\n",
      "  3%|▎         | 6375/200000 [00:01<00:33, 5786.70it/s]\u001b[A\n",
      "  4%|▎         | 7008/200000 [00:01<00:32, 5938.37it/s]\u001b[A\n",
      "  4%|▍         | 7625/200000 [00:01<00:32, 6005.83it/s]\u001b[A\n",
      "  4%|▍         | 8239/200000 [00:01<00:31, 6037.81it/s]\u001b[A\n",
      "  4%|▍         | 8842/200000 [00:01<00:32, 5903.58it/s]\u001b[A\n",
      "  5%|▍         | 9506/200000 [00:01<00:31, 6104.91it/s]\u001b[A\n",
      "  5%|▌         | 10118/200000 [00:01<00:31, 6042.73it/s]\u001b[A\n",
      "  5%|▌         | 10724/200000 [00:01<00:31, 5997.73it/s]\u001b[A\n",
      "  6%|▌         | 11338/200000 [00:01<00:31, 6039.28it/s]\u001b[A\n",
      "  6%|▌         | 11978/200000 [00:01<00:30, 6141.07it/s]\u001b[A\n",
      "  6%|▋         | 12594/200000 [00:02<00:31, 5885.76it/s]\u001b[A\n",
      "  7%|▋         | 13268/200000 [00:02<00:30, 6117.35it/s]\u001b[A\n",
      "  7%|▋         | 13956/200000 [00:02<00:29, 6326.96it/s]\u001b[A\n",
      "  7%|▋         | 14594/200000 [00:02<00:29, 6339.00it/s]\u001b[A\n",
      "  8%|▊         | 15261/200000 [00:02<00:28, 6432.54it/s]\u001b[A\n",
      "  8%|▊         | 15907/200000 [00:02<00:29, 6250.60it/s]\u001b[A\n",
      "  8%|▊         | 16536/200000 [00:02<00:29, 6224.42it/s]\u001b[A\n",
      "  9%|▊         | 17209/200000 [00:02<00:28, 6367.23it/s]\u001b[A\n",
      "  9%|▉         | 17849/200000 [00:02<00:28, 6360.23it/s]\u001b[A\n",
      "  9%|▉         | 18511/200000 [00:02<00:28, 6435.61it/s]\u001b[A\n",
      " 10%|▉         | 19156/200000 [00:03<00:29, 6173.27it/s]\u001b[A\n",
      " 10%|▉         | 19812/200000 [00:03<00:28, 6283.41it/s]\u001b[A\n",
      " 10%|█         | 20484/200000 [00:03<00:28, 6406.47it/s]\u001b[A\n",
      " 11%|█         | 21128/200000 [00:03<00:30, 5930.85it/s]\u001b[A\n",
      " 11%|█         | 21772/200000 [00:03<00:29, 6074.41it/s]\u001b[A\n",
      " 11%|█         | 22387/200000 [00:03<00:30, 5785.92it/s]\u001b[A\n",
      " 12%|█▏        | 23040/200000 [00:03<00:29, 5989.40it/s]\u001b[A\n",
      " 12%|█▏        | 23647/200000 [00:03<00:30, 5799.02it/s]\u001b[A\n",
      " 12%|█▏        | 24249/200000 [00:03<00:29, 5863.41it/s]\u001b[A\n",
      " 12%|█▏        | 24932/200000 [00:04<00:28, 6121.77it/s]\u001b[A\n",
      " 13%|█▎        | 25580/200000 [00:04<00:28, 6223.77it/s]\u001b[A\n",
      " 13%|█▎        | 26234/200000 [00:04<00:27, 6312.93it/s]\u001b[A\n",
      " 13%|█▎        | 26887/200000 [00:04<00:27, 6374.39it/s]\u001b[A\n",
      " 14%|█▍        | 27599/200000 [00:04<00:26, 6578.91it/s]\u001b[A\n",
      " 14%|█▍        | 28261/200000 [00:04<00:27, 6337.50it/s]\u001b[A\n",
      " 14%|█▍        | 28900/200000 [00:04<00:27, 6303.25it/s]\u001b[A\n",
      " 15%|█▍        | 29534/200000 [00:04<00:27, 6255.69it/s]\u001b[A\n",
      " 15%|█▌        | 30162/200000 [00:04<00:27, 6219.40it/s]\u001b[A\n",
      " 15%|█▌        | 30830/200000 [00:04<00:26, 6349.25it/s]\u001b[A\n",
      " 16%|█▌        | 31467/200000 [00:05<00:27, 6221.39it/s]\u001b[A\n",
      " 16%|█▌        | 32091/200000 [00:05<00:28, 5823.74it/s]\u001b[A\n",
      " 16%|█▋        | 32680/200000 [00:05<00:29, 5690.64it/s]\u001b[A\n",
      " 17%|█▋        | 33267/200000 [00:05<00:29, 5742.90it/s]\u001b[A\n",
      " 17%|█▋        | 33846/200000 [00:05<00:29, 5613.06it/s]\u001b[A\n",
      " 17%|█▋        | 34546/200000 [00:05<00:27, 5967.15it/s]\u001b[A\n",
      " 18%|█▊        | 35186/200000 [00:05<00:27, 6089.27it/s]\u001b[A\n",
      " 18%|█▊        | 35802/200000 [00:05<00:27, 5960.94it/s]\u001b[A\n",
      " 18%|█▊        | 36449/200000 [00:05<00:26, 6104.83it/s]\u001b[A\n",
      " 19%|█▊        | 37079/200000 [00:06<00:26, 6159.67it/s]\u001b[A\n",
      " 19%|█▉        | 37699/200000 [00:06<00:26, 6133.86it/s]\u001b[A\n",
      " 19%|█▉        | 38365/200000 [00:06<00:25, 6282.58it/s]\u001b[A\n",
      " 20%|█▉        | 39030/200000 [00:06<00:25, 6386.59it/s]\u001b[A\n",
      " 20%|█▉        | 39712/200000 [00:06<00:24, 6509.92it/s]\u001b[A\n",
      " 20%|██        | 40366/200000 [00:06<00:24, 6516.98it/s]\u001b[A\n",
      " 21%|██        | 41020/200000 [00:06<00:24, 6473.71it/s]\u001b[A\n",
      " 21%|██        | 41669/200000 [00:06<00:24, 6436.90it/s]\u001b[A\n",
      " 21%|██        | 42385/200000 [00:06<00:23, 6637.45it/s]\u001b[A\n",
      " 22%|██▏       | 43051/200000 [00:06<00:24, 6319.21it/s]\u001b[A\n",
      " 22%|██▏       | 43688/200000 [00:07<00:24, 6256.43it/s]\u001b[A\n",
      " 22%|██▏       | 44318/200000 [00:07<00:26, 5929.23it/s]\u001b[A\n",
      " 22%|██▏       | 44983/200000 [00:07<00:25, 6127.28it/s]\u001b[A\n",
      " 23%|██▎       | 45699/200000 [00:07<00:24, 6404.33it/s]\u001b[A\n",
      " 23%|██▎       | 46347/200000 [00:07<00:24, 6359.41it/s]\u001b[A\n",
      " 24%|██▎       | 47002/200000 [00:07<00:23, 6414.37it/s]\u001b[A\n",
      " 24%|██▍       | 47648/200000 [00:07<00:24, 6153.01it/s]\u001b[A\n",
      " 24%|██▍       | 48269/200000 [00:07<00:25, 5930.16it/s]\u001b[A\n",
      " 24%|██▍       | 48868/200000 [00:07<00:27, 5595.96it/s]\u001b[A\n",
      " 25%|██▍       | 49457/200000 [00:08<00:26, 5680.47it/s]\u001b[A\n",
      " 25%|██▌       | 50089/200000 [00:08<00:25, 5857.81it/s]\u001b[A\n",
      " 25%|██▌       | 50681/200000 [00:08<00:25, 5753.98it/s]\u001b[A\n",
      " 26%|██▌       | 51317/200000 [00:08<00:25, 5922.87it/s]\u001b[A\n",
      " 26%|██▌       | 51922/200000 [00:08<00:24, 5958.87it/s]\u001b[A\n",
      " 26%|██▋       | 52587/200000 [00:08<00:23, 6148.88it/s]\u001b[A\n",
      " 27%|██▋       | 53206/200000 [00:08<00:24, 6045.86it/s]\u001b[A\n",
      " 27%|██▋       | 53884/200000 [00:08<00:23, 6248.64it/s]\u001b[A\n",
      " 27%|██▋       | 54530/200000 [00:08<00:23, 6310.01it/s]\u001b[A\n",
      " 28%|██▊       | 55164/200000 [00:08<00:22, 6318.58it/s]\u001b[A\n",
      " 28%|██▊       | 55800/200000 [00:09<00:22, 6329.36it/s]\u001b[A\n",
      " 28%|██▊       | 56435/200000 [00:09<00:22, 6315.82it/s]\u001b[A\n",
      " 29%|██▊       | 57068/200000 [00:09<00:23, 6166.45it/s]\u001b[A\n",
      " 29%|██▉       | 57687/200000 [00:09<00:23, 5995.71it/s]\u001b[A\n",
      " 29%|██▉       | 58289/200000 [00:09<00:24, 5718.47it/s]\u001b[A\n",
      " 29%|██▉       | 58865/200000 [00:09<00:25, 5527.28it/s]\u001b[A\n",
      " 30%|██▉       | 59511/200000 [00:09<00:24, 5777.38it/s]\u001b[A\n",
      " 30%|███       | 60095/200000 [00:09<00:24, 5724.40it/s]\u001b[A\n",
      " 30%|███       | 60742/200000 [00:09<00:23, 5927.75it/s]\u001b[A\n",
      " 31%|███       | 61340/200000 [00:10<00:23, 5882.90it/s]\u001b[A\n",
      " 31%|███       | 61963/200000 [00:10<00:23, 5981.62it/s]\u001b[A\n",
      " 31%|███▏      | 62588/200000 [00:10<00:22, 6057.14it/s]\u001b[A\n",
      " 32%|███▏      | 63196/200000 [00:10<00:22, 6036.61it/s]\u001b[A\n",
      " 32%|███▏      | 63802/200000 [00:10<00:23, 5890.68it/s]\u001b[A\n",
      " 32%|███▏      | 64402/200000 [00:10<00:22, 5922.51it/s]\u001b[A\n",
      " 33%|███▎      | 65013/200000 [00:10<00:22, 5976.14it/s]\u001b[A\n",
      " 33%|███▎      | 65658/200000 [00:10<00:21, 6108.78it/s]\u001b[A\n",
      " 33%|███▎      | 66347/200000 [00:10<00:21, 6323.69it/s]\u001b[A\n",
      " 33%|███▎      | 66983/200000 [00:10<00:21, 6180.35it/s]\u001b[A\n",
      " 34%|███▍      | 67604/200000 [00:11<00:21, 6139.47it/s]\u001b[A\n",
      " 34%|███▍      | 68298/200000 [00:11<00:20, 6358.29it/s]\u001b[A\n",
      " 34%|███▍      | 68938/200000 [00:11<00:20, 6259.80it/s]\u001b[A\n",
      " 35%|███▍      | 69567/200000 [00:11<00:21, 6082.99it/s]\u001b[A\n",
      " 35%|███▌      | 70190/200000 [00:11<00:21, 6124.64it/s]\u001b[A\n",
      " 35%|███▌      | 70851/200000 [00:11<00:20, 6261.62it/s]\u001b[A\n",
      " 36%|███▌      | 71480/200000 [00:11<00:21, 5972.95it/s]\u001b[A\n",
      " 36%|███▌      | 72082/200000 [00:11<00:21, 5858.32it/s]\u001b[A\n",
      " 36%|███▋      | 72672/200000 [00:11<00:22, 5701.32it/s]\u001b[A\n",
      " 37%|███▋      | 73246/200000 [00:11<00:22, 5710.87it/s]\u001b[A\n",
      " 37%|███▋      | 73895/200000 [00:12<00:21, 5923.52it/s]\u001b[A\n",
      " 37%|███▋      | 74508/200000 [00:12<00:20, 5983.48it/s]\u001b[A\n",
      " 38%|███▊      | 75124/200000 [00:12<00:20, 6033.95it/s]\u001b[A\n",
      " 38%|███▊      | 75730/200000 [00:12<00:20, 5954.02it/s]\u001b[A\n",
      " 38%|███▊      | 76328/200000 [00:12<00:20, 5926.87it/s]\u001b[A\n",
      " 38%|███▊      | 76957/200000 [00:12<00:20, 6030.94it/s]\u001b[A\n",
      " 39%|███▉      | 77621/200000 [00:12<00:19, 6199.76it/s]\u001b[A\n",
      " 39%|███▉      | 78247/200000 [00:12<00:19, 6216.62it/s]\u001b[A\n",
      " 39%|███▉      | 78876/200000 [00:12<00:19, 6238.14it/s]\u001b[A\n",
      " 40%|███▉      | 79501/200000 [00:12<00:19, 6118.94it/s]\u001b[A\n",
      " 40%|████      | 80165/200000 [00:13<00:19, 6264.78it/s]\u001b[A\n",
      " 40%|████      | 80794/200000 [00:13<00:19, 6167.99it/s]\u001b[A\n",
      " 41%|████      | 81413/200000 [00:13<00:19, 5995.09it/s]\u001b[A\n",
      " 41%|████      | 82079/200000 [00:13<00:19, 6177.90it/s]\u001b[A\n",
      " 41%|████▏     | 82700/200000 [00:13<00:19, 5997.58it/s]\u001b[A\n",
      " 42%|████▏     | 83331/200000 [00:13<00:19, 6085.99it/s]\u001b[A\n",
      " 42%|████▏     | 83954/200000 [00:13<00:18, 6128.33it/s]\u001b[A\n",
      " 42%|████▏     | 84586/200000 [00:13<00:18, 6184.29it/s]\u001b[A\n",
      " 43%|████▎     | 85237/200000 [00:13<00:18, 6277.89it/s]\u001b[A"
     ]
    }
   ],
   "source": [
    "\n",
    "empty_MDP = FullMDP(A= list(range(env.action_space.n)),\n",
    "                    ur=args.unknown_transition_reward,\n",
    "                    vi_params={\"gamma\":  args.gamma,\n",
    "                               \"slip_prob\": args.slip_probability,\n",
    "                               \"rmax_reward\": args.rmax_reward,\n",
    "                               \"rmax_thres\": args.rmax_threshold,\n",
    "                               \"balanced_explr\": args.balanced_exploration,\n",
    "                              \"rmin\":-1000},\n",
    "                    mdp_params={\"weight_transitions\": args.weight_transitions,\n",
    "                            \"mdp_build_k\":args.mdp_build_k,\n",
    "                            \"plcy_lift_k\": 1,\n",
    "                            \"knn_delta\" : args.knn_delta,\n",
    "                            \"calc_action_vector\":False,\n",
    "                            \"penalty_beta\":args.penalty_beta,\n",
    "                            \"penalize_unknown_transitions\": args.penalty_type != \"none\"\n",
    "                            },\n",
    "                    MAX_S_COUNT= args.MAX_S_COUNT,\n",
    "                    MAX_NS_COUNT= args.MAX_NS_COUNT,\n",
    "                    default_mode=args.def_device)\n",
    "\n",
    "myAgent =  SimpleAgent(empty_MDP, net = DummyNet(None),  fill_with = args.fill_with,\n",
    "                       sample_neighbors = False, pred_error_threshold = args.within_radius,\n",
    "                       penalty_type=args.penalty_type, penalty_beta = args.penalty_beta,\n",
    "                       abstraction_flag=False, normalize_by_distance= args.normalize_by_distance)\n",
    "\n",
    "mdp_id = \"L[{}]-E[{}]-B[{}]-Fill[{}_K{}]-Penalty[{}_{}]\".format(args.latent_type, args.encoder_type, args.bottleneck_size, \n",
    "                                                          args.fill_with, args.mdp_build_k, args.penalty_type, args.penalty_beta)\n",
    "\n",
    "myAgent.build_mdp(train_buffer, batch_parse = True)\n",
    "\n"
   ]
  },
  {
   "cell_type": "code",
   "execution_count": null,
   "metadata": {},
   "outputs": [],
   "source": [
    "myAgent.smoothing = True\n",
    "myAgent.soft_q = False\n",
    "myAgent.mdp_T.plcy_lift_k = 5\n",
    "myAgent.mdp_T.smooth_with_seen = False\n",
    "\n",
    "sum_reward_running = {policy_name:evaluate_on_env(env,  \n",
    "                                                  policy, \n",
    "                                                  eps_count=50,progress_bar=True)[0]\n",
    "                      for policy_name,policy in myAgent.policies.items()}\n"
   ]
  },
  {
   "cell_type": "code",
   "execution_count": null,
   "metadata": {},
   "outputs": [
    {
     "name": "stderr",
     "output_type": "stream",
     "text": [
      "  0%|          | 5007/100000000 [00:27<3085:17:30,  9.00it/s]"
     ]
    },
    {
     "name": "stdout",
     "output_type": "stream",
     "text": [
      "Average Reward | MDP #States | #MissingTrans/ #Trans | Missing %. | VI Error..\n",
      "78.84          | 657         | 343/1314              | 0.261      | 0.39984130859375\n"
     ]
    },
    {
     "name": "stderr",
     "output_type": "stream",
     "text": [
      "  0%|          | 10007/100000000 [00:55<2869:20:35,  9.68it/s]"
     ]
    },
    {
     "name": "stdout",
     "output_type": "stream",
     "text": [
      "Average Reward | MDP #States | #MissingTrans/ #Trans | Missing %. | VI Error..\n",
      "116.4          | 854         | 495/1708              | 0.2898     | 0.593780517578125\n"
     ]
    },
    {
     "name": "stderr",
     "output_type": "stream",
     "text": [
      "  0%|          | 15006/100000000 [01:22<3054:40:43,  9.09it/s]"
     ]
    },
    {
     "name": "stdout",
     "output_type": "stream",
     "text": [
      "Average Reward | MDP #States | #MissingTrans/ #Trans | Missing %. | VI Error..\n",
      "176.52         | 974         | 571/1948              | 0.2931     | 0.554718017578125\n"
     ]
    },
    {
     "name": "stderr",
     "output_type": "stream",
     "text": [
      "  0%|          | 20005/100000000 [01:51<3336:50:19,  8.32it/s]"
     ]
    },
    {
     "name": "stdout",
     "output_type": "stream",
     "text": [
      "Average Reward | MDP #States | #MissingTrans/ #Trans | Missing %. | VI Error..\n",
      "122.5          | 1092        | 645/2184              | 0.2953     | 1.31256103515625\n"
     ]
    },
    {
     "name": "stderr",
     "output_type": "stream",
     "text": [
      "  0%|          | 25000/100000000 [02:20<4457:39:47,  6.23it/s]"
     ]
    },
    {
     "name": "stdout",
     "output_type": "stream",
     "text": [
      "Average Reward | MDP #States | #MissingTrans/ #Trans | Missing %. | VI Error..\n",
      "131.58         | 1162        | 681/2324              | 0.293      | 1.6876220703125\n"
     ]
    },
    {
     "name": "stderr",
     "output_type": "stream",
     "text": [
      "  0%|          | 30000/100000000 [02:50<4529:51:08,  6.13it/s]"
     ]
    },
    {
     "name": "stdout",
     "output_type": "stream",
     "text": [
      "Average Reward | MDP #States | #MissingTrans/ #Trans | Missing %. | VI Error..\n",
      "88.3           | 1277        | 755/2554              | 0.2956     | 32.89703369140625\n"
     ]
    },
    {
     "name": "stderr",
     "output_type": "stream",
     "text": [
      "  0%|          | 35009/100000000 [03:17<2716:55:11, 10.22it/s]"
     ]
    },
    {
     "name": "stdout",
     "output_type": "stream",
     "text": [
      "Average Reward | MDP #States | #MissingTrans/ #Trans | Missing %. | VI Error..\n",
      "163.58         | 1325        | 765/2650              | 0.2887     | 12.09625244140625\n"
     ]
    },
    {
     "name": "stderr",
     "output_type": "stream",
     "text": [
      "  0%|          | 40008/100000000 [03:48<3693:59:35,  7.52it/s]"
     ]
    },
    {
     "name": "stdout",
     "output_type": "stream",
     "text": [
      "Average Reward | MDP #States | #MissingTrans/ #Trans | Missing %. | VI Error..\n",
      "250.24         | 1377        | 798/2754              | 0.2898     | 4.44677734375\n"
     ]
    },
    {
     "name": "stderr",
     "output_type": "stream",
     "text": [
      "  0%|          | 45008/100000000 [04:17<3323:52:00,  8.35it/s]"
     ]
    },
    {
     "name": "stdout",
     "output_type": "stream",
     "text": [
      "Average Reward | MDP #States | #MissingTrans/ #Trans | Missing %. | VI Error..\n",
      "283.62         | 1450        | 847/2900              | 0.2921     | 1.63446044921875\n"
     ]
    },
    {
     "name": "stderr",
     "output_type": "stream",
     "text": [
      "  0%|          | 50006/100000000 [04:45<2958:56:29,  9.38it/s]"
     ]
    },
    {
     "name": "stdout",
     "output_type": "stream",
     "text": [
      "Average Reward | MDP #States | #MissingTrans/ #Trans | Missing %. | VI Error..\n",
      "148.42         | 1513        | 886/3026              | 0.2928     | 11.619873046875\n"
     ]
    },
    {
     "name": "stderr",
     "output_type": "stream",
     "text": [
      "  0%|          | 55007/100000000 [05:14<3106:44:40,  8.94it/s]"
     ]
    },
    {
     "name": "stdout",
     "output_type": "stream",
     "text": [
      "Average Reward | MDP #States | #MissingTrans/ #Trans | Missing %. | VI Error..\n",
      "232.22         | 1574        | 918/3148              | 0.2916     | 3.362060546875\n"
     ]
    },
    {
     "name": "stderr",
     "output_type": "stream",
     "text": [
      "  0%|          | 60007/100000000 [05:44<3599:48:12,  7.71it/s]"
     ]
    },
    {
     "name": "stdout",
     "output_type": "stream",
     "text": [
      "Average Reward | MDP #States | #MissingTrans/ #Trans | Missing %. | VI Error..\n",
      "236.82         | 1642        | 959/3284              | 0.292      | 1.23675537109375\n"
     ]
    },
    {
     "name": "stderr",
     "output_type": "stream",
     "text": [
      "  0%|          | 65006/100000000 [06:12<3115:49:35,  8.91it/s]"
     ]
    },
    {
     "name": "stdout",
     "output_type": "stream",
     "text": [
      "Average Reward | MDP #States | #MissingTrans/ #Trans | Missing %. | VI Error..\n",
      "223.2          | 1738        | 1024/3476             | 0.2946     | 0.57220458984375\n"
     ]
    },
    {
     "name": "stderr",
     "output_type": "stream",
     "text": [
      "  0%|          | 70005/100000000 [06:41<3152:14:46,  8.81it/s]"
     ]
    },
    {
     "name": "stdout",
     "output_type": "stream",
     "text": [
      "Average Reward | MDP #States | #MissingTrans/ #Trans | Missing %. | VI Error..\n",
      "287.1          | 1825        | 1082/3650             | 0.2964     | 1.3369140625\n"
     ]
    },
    {
     "name": "stderr",
     "output_type": "stream",
     "text": [
      "  0%|          | 75000/100000000 [07:10<4473:34:34,  6.20it/s]"
     ]
    },
    {
     "name": "stdout",
     "output_type": "stream",
     "text": [
      "Average Reward | MDP #States | #MissingTrans/ #Trans | Missing %. | VI Error..\n",
      "181.58         | 1853        | 1091/3706             | 0.2944     | 0.7327880859375\n"
     ]
    },
    {
     "name": "stderr",
     "output_type": "stream",
     "text": [
      "  0%|          | 80005/100000000 [07:39<3211:34:37,  8.64it/s]"
     ]
    },
    {
     "name": "stdout",
     "output_type": "stream",
     "text": [
      "Average Reward | MDP #States | #MissingTrans/ #Trans | Missing %. | VI Error..\n",
      "267.12         | 1904        | 1114/3808             | 0.2925     | 0.59814453125\n"
     ]
    },
    {
     "name": "stderr",
     "output_type": "stream",
     "text": [
      "  0%|          | 85000/100000000 [08:13<5974:47:23,  4.65it/s]"
     ]
    },
    {
     "name": "stdout",
     "output_type": "stream",
     "text": [
      "Average Reward | MDP #States | #MissingTrans/ #Trans | Missing %. | VI Error..\n",
      "307.78         | 1943        | 1132/3886             | 0.2913     | 0.48150634765625\n"
     ]
    },
    {
     "name": "stderr",
     "output_type": "stream",
     "text": [
      "  0%|          | 90007/100000000 [08:41<3077:49:55,  9.02it/s]"
     ]
    },
    {
     "name": "stdout",
     "output_type": "stream",
     "text": [
      "Average Reward | MDP #States | #MissingTrans/ #Trans | Missing %. | VI Error..\n",
      "187.5          | 1990        | 1157/3980             | 0.2907     | 0.57220458984375\n"
     ]
    },
    {
     "name": "stderr",
     "output_type": "stream",
     "text": [
      "  0%|          | 95000/100000000 [09:10<4437:16:50,  6.25it/s]"
     ]
    },
    {
     "name": "stdout",
     "output_type": "stream",
     "text": [
      "Average Reward | MDP #States | #MissingTrans/ #Trans | Missing %. | VI Error..\n",
      "262.7          | 2064        | 1194/4128             | 0.2892     | 149.3851318359375\n"
     ]
    },
    {
     "name": "stderr",
     "output_type": "stream",
     "text": [
      "  0%|          | 100004/100000000 [09:38<3502:05:04,  7.92it/s]"
     ]
    },
    {
     "name": "stdout",
     "output_type": "stream",
     "text": [
      "Average Reward | MDP #States | #MissingTrans/ #Trans | Missing %. | VI Error..\n",
      "194.8          | 2115        | 1215/4230             | 0.2872     | 8.61968994140625\n"
     ]
    },
    {
     "name": "stderr",
     "output_type": "stream",
     "text": [
      "  0%|          | 105007/100000000 [10:07<3243:09:34,  8.56it/s]"
     ]
    },
    {
     "name": "stdout",
     "output_type": "stream",
     "text": [
      "Average Reward | MDP #States | #MissingTrans/ #Trans | Missing %. | VI Error..\n",
      "250.32         | 2184        | 1260/4368             | 0.2885     | 3.169189453125\n"
     ]
    },
    {
     "name": "stderr",
     "output_type": "stream",
     "text": [
      "  0%|          | 110006/100000000 [10:37<3522:08:21,  7.88it/s]"
     ]
    },
    {
     "name": "stdout",
     "output_type": "stream",
     "text": [
      "Average Reward | MDP #States | #MissingTrans/ #Trans | Missing %. | VI Error..\n",
      "189.74         | 2251        | 1306/4502             | 0.2901     | 1.16644287109375\n"
     ]
    },
    {
     "name": "stderr",
     "output_type": "stream",
     "text": [
      "  0%|          | 115006/100000000 [11:06<3051:35:35,  9.09it/s]"
     ]
    },
    {
     "name": "stdout",
     "output_type": "stream",
     "text": [
      "Average Reward | MDP #States | #MissingTrans/ #Trans | Missing %. | VI Error..\n",
      "238.1          | 2318        | 1340/4636             | 0.289      | 4.2772216796875\n"
     ]
    },
    {
     "name": "stderr",
     "output_type": "stream",
     "text": [
      "  0%|          | 120005/100000000 [11:35<3281:11:35,  8.46it/s]"
     ]
    },
    {
     "name": "stdout",
     "output_type": "stream",
     "text": [
      "Average Reward | MDP #States | #MissingTrans/ #Trans | Missing %. | VI Error..\n",
      "251.3          | 2335        | 1327/4670             | 0.2842     | 1.5733642578125\n"
     ]
    },
    {
     "name": "stderr",
     "output_type": "stream",
     "text": [
      "  0%|          | 125006/100000000 [12:04<3218:23:55,  8.62it/s]"
     ]
    },
    {
     "name": "stdout",
     "output_type": "stream",
     "text": [
      "Average Reward | MDP #States | #MissingTrans/ #Trans | Missing %. | VI Error..\n",
      "219.08         | 2372        | 1348/4744             | 0.2841     | 0.579345703125\n"
     ]
    },
    {
     "name": "stderr",
     "output_type": "stream",
     "text": [
      "  0%|          | 130007/100000000 [12:32<3113:15:47,  8.91it/s]"
     ]
    },
    {
     "name": "stdout",
     "output_type": "stream",
     "text": [
      "Average Reward | MDP #States | #MissingTrans/ #Trans | Missing %. | VI Error..\n",
      "197.0          | 2481        | 1420/4962             | 0.2862     | 9.7523193359375\n"
     ]
    },
    {
     "name": "stderr",
     "output_type": "stream",
     "text": [
      "  0%|          | 135006/100000000 [13:01<3297:15:08,  8.41it/s]"
     ]
    },
    {
     "name": "stdout",
     "output_type": "stream",
     "text": [
      "Average Reward | MDP #States | #MissingTrans/ #Trans | Missing %. | VI Error..\n",
      "271.0          | 2526        | 1439/5052             | 0.2848     | 38.03369140625\n"
     ]
    },
    {
     "name": "stderr",
     "output_type": "stream",
     "text": [
      "  0%|          | 140006/100000000 [13:29<3018:05:05,  9.19it/s]"
     ]
    },
    {
     "name": "stdout",
     "output_type": "stream",
     "text": [
      "Average Reward | MDP #States | #MissingTrans/ #Trans | Missing %. | VI Error..\n",
      "236.86         | 2597        | 1487/5194             | 0.2863     | 13.984130859375\n"
     ]
    },
    {
     "name": "stderr",
     "output_type": "stream",
     "text": [
      "  0%|          | 145006/100000000 [13:59<3628:56:15,  7.64it/s]"
     ]
    },
    {
     "name": "stdout",
     "output_type": "stream",
     "text": [
      "Average Reward | MDP #States | #MissingTrans/ #Trans | Missing %. | VI Error..\n",
      "323.12         | 2647        | 1510/5294             | 0.2852     | 0.48419189453125\n"
     ]
    },
    {
     "name": "stderr",
     "output_type": "stream",
     "text": [
      "  0%|          | 150006/100000000 [14:27<3243:20:24,  8.55it/s]"
     ]
    },
    {
     "name": "stdout",
     "output_type": "stream",
     "text": [
      "Average Reward | MDP #States | #MissingTrans/ #Trans | Missing %. | VI Error..\n",
      "316.58         | 2683        | 1515/5366             | 0.2823     | 36.23162841796875\n"
     ]
    },
    {
     "name": "stderr",
     "output_type": "stream",
     "text": [
      "  0%|          | 155004/100000000 [14:56<3158:39:54,  8.78it/s]"
     ]
    },
    {
     "name": "stdout",
     "output_type": "stream",
     "text": [
      "Average Reward | MDP #States | #MissingTrans/ #Trans | Missing %. | VI Error..\n",
      "251.4          | 2716        | 1533/5432             | 0.2822     | 0.45684814453125\n"
     ]
    },
    {
     "name": "stderr",
     "output_type": "stream",
     "text": [
      "  0%|          | 160006/100000000 [15:24<2997:58:23,  9.25it/s]"
     ]
    },
    {
     "name": "stdout",
     "output_type": "stream",
     "text": [
      "Average Reward | MDP #States | #MissingTrans/ #Trans | Missing %. | VI Error..\n",
      "260.76         | 2750        | 1542/5500             | 0.2804     | 1.947967529296875\n"
     ]
    },
    {
     "name": "stderr",
     "output_type": "stream",
     "text": [
      "  0%|          | 165006/100000000 [15:52<3238:08:46,  8.56it/s]"
     ]
    },
    {
     "name": "stdout",
     "output_type": "stream",
     "text": [
      "Average Reward | MDP #States | #MissingTrans/ #Trans | Missing %. | VI Error..\n",
      "177.1          | 2802        | 1567/5604             | 0.2796     | 0.517333984375\n"
     ]
    },
    {
     "name": "stderr",
     "output_type": "stream",
     "text": [
      "  0%|          | 170000/100000000 [16:22<4643:18:21,  5.97it/s]"
     ]
    },
    {
     "name": "stdout",
     "output_type": "stream",
     "text": [
      "Average Reward | MDP #States | #MissingTrans/ #Trans | Missing %. | VI Error..\n",
      "246.3          | 2869        | 1613/5738             | 0.2811     | 17.24200439453125\n"
     ]
    },
    {
     "name": "stderr",
     "output_type": "stream",
     "text": [
      "  0%|          | 175010/100000000 [16:50<2624:40:45, 10.56it/s]"
     ]
    },
    {
     "name": "stdout",
     "output_type": "stream",
     "text": [
      "Average Reward | MDP #States | #MissingTrans/ #Trans | Missing %. | VI Error..\n",
      "235.64         | 2911        | 1631/5822             | 0.2801     | 0.8953857421875\n"
     ]
    },
    {
     "name": "stderr",
     "output_type": "stream",
     "text": [
      "  0%|          | 180007/100000000 [17:17<2850:58:37,  9.73it/s]"
     ]
    },
    {
     "name": "stdout",
     "output_type": "stream",
     "text": [
      "Average Reward | MDP #States | #MissingTrans/ #Trans | Missing %. | VI Error..\n",
      "242.12         | 2948        | 1647/5896             | 0.2793     | 0.492462158203125\n"
     ]
    },
    {
     "name": "stderr",
     "output_type": "stream",
     "text": [
      "  0%|          | 185006/100000000 [17:46<3227:05:22,  8.59it/s]"
     ]
    },
    {
     "name": "stdout",
     "output_type": "stream",
     "text": [
      "Average Reward | MDP #States | #MissingTrans/ #Trans | Missing %. | VI Error..\n",
      "247.54         | 3013        | 1693/6026             | 0.2809     | 0.54974365234375\n"
     ]
    },
    {
     "name": "stderr",
     "output_type": "stream",
     "text": [
      "  0%|          | 190007/100000000 [18:14<2893:17:44,  9.58it/s]"
     ]
    },
    {
     "name": "stdout",
     "output_type": "stream",
     "text": [
      "Average Reward | MDP #States | #MissingTrans/ #Trans | Missing %. | VI Error..\n",
      "289.32         | 3075        | 1732/6150             | 0.2816     | 0.580841064453125\n"
     ]
    },
    {
     "name": "stderr",
     "output_type": "stream",
     "text": [
      "  0%|          | 195006/100000000 [18:45<3932:21:23,  7.05it/s]"
     ]
    },
    {
     "name": "stdout",
     "output_type": "stream",
     "text": [
      "Average Reward | MDP #States | #MissingTrans/ #Trans | Missing %. | VI Error..\n",
      "297.72         | 3106        | 1744/6212             | 0.2807     | 0.56707763671875\n"
     ]
    },
    {
     "name": "stderr",
     "output_type": "stream",
     "text": [
      "  0%|          | 200008/100000000 [19:15<3215:16:01,  8.62it/s]"
     ]
    },
    {
     "name": "stdout",
     "output_type": "stream",
     "text": [
      "Average Reward | MDP #States | #MissingTrans/ #Trans | Missing %. | VI Error..\n",
      "290.18         | 3149        | 1767/6298             | 0.2806     | 0.59033203125\n"
     ]
    },
    {
     "name": "stderr",
     "output_type": "stream",
     "text": [
      "  0%|          | 205005/100000000 [19:43<2967:34:21,  9.34it/s]"
     ]
    },
    {
     "name": "stdout",
     "output_type": "stream",
     "text": [
      "Average Reward | MDP #States | #MissingTrans/ #Trans | Missing %. | VI Error..\n",
      "242.22         | 3192        | 1793/6384             | 0.2809     | 5.61187744140625\n"
     ]
    },
    {
     "name": "stderr",
     "output_type": "stream",
     "text": [
      "  0%|          | 210006/100000000 [20:11<2935:45:33,  9.44it/s]"
     ]
    },
    {
     "name": "stdout",
     "output_type": "stream",
     "text": [
      "Average Reward | MDP #States | #MissingTrans/ #Trans | Missing %. | VI Error..\n",
      "303.96         | 3219        | 1795/6438             | 0.2788     | 2.0633544921875\n"
     ]
    },
    {
     "name": "stderr",
     "output_type": "stream",
     "text": [
      "  0%|          | 215004/100000000 [20:38<3177:41:49,  8.72it/s]"
     ]
    },
    {
     "name": "stdout",
     "output_type": "stream",
     "text": [
      "Average Reward | MDP #States | #MissingTrans/ #Trans | Missing %. | VI Error..\n",
      "261.76         | 3253        | 1814/6506             | 0.2788     | 0.75860595703125\n"
     ]
    },
    {
     "name": "stderr",
     "output_type": "stream",
     "text": [
      "  0%|          | 220006/100000000 [21:06<3073:18:04,  9.02it/s]"
     ]
    },
    {
     "name": "stdout",
     "output_type": "stream",
     "text": [
      "Average Reward | MDP #States | #MissingTrans/ #Trans | Missing %. | VI Error..\n",
      "243.6          | 3282        | 1825/6564             | 0.278      | 0.580963134765625\n"
     ]
    },
    {
     "name": "stderr",
     "output_type": "stream",
     "text": [
      "  0%|          | 225006/100000000 [21:37<3905:19:36,  7.10it/s]"
     ]
    },
    {
     "name": "stdout",
     "output_type": "stream",
     "text": [
      "Average Reward | MDP #States | #MissingTrans/ #Trans | Missing %. | VI Error..\n",
      "327.1          | 3326        | 1847/6652             | 0.2777     | 0.441162109375\n"
     ]
    },
    {
     "name": "stderr",
     "output_type": "stream",
     "text": [
      "  0%|          | 230003/100000000 [22:06<3291:10:42,  8.42it/s]"
     ]
    },
    {
     "name": "stdout",
     "output_type": "stream",
     "text": [
      "Average Reward | MDP #States | #MissingTrans/ #Trans | Missing %. | VI Error..\n",
      "286.84         | 3379        | 1880/6758             | 0.2782     | 1.354705810546875\n"
     ]
    },
    {
     "name": "stderr",
     "output_type": "stream",
     "text": [
      "  0%|          | 235005/100000000 [22:35<3363:10:51,  8.24it/s]"
     ]
    },
    {
     "name": "stdout",
     "output_type": "stream",
     "text": [
      "Average Reward | MDP #States | #MissingTrans/ #Trans | Missing %. | VI Error..\n",
      "290.56         | 3428        | 1907/6856             | 0.2782     | 14.98516845703125\n"
     ]
    },
    {
     "name": "stderr",
     "output_type": "stream",
     "text": [
      "  0%|          | 240006/100000000 [23:02<2851:12:37,  9.72it/s]"
     ]
    },
    {
     "name": "stdout",
     "output_type": "stream",
     "text": [
      "Average Reward | MDP #States | #MissingTrans/ #Trans | Missing %. | VI Error..\n",
      "297.86         | 3462        | 1917/6924             | 0.2769     | 1.640380859375\n"
     ]
    },
    {
     "name": "stderr",
     "output_type": "stream",
     "text": [
      "  0%|          | 245005/100000000 [23:30<3029:58:03,  9.15it/s]"
     ]
    },
    {
     "name": "stdout",
     "output_type": "stream",
     "text": [
      "Average Reward | MDP #States | #MissingTrans/ #Trans | Missing %. | VI Error..\n",
      "277.76         | 3477        | 1918/6954             | 0.2758     | 0.60479736328125\n"
     ]
    },
    {
     "name": "stderr",
     "output_type": "stream",
     "text": [
      "  0%|          | 250005/100000000 [24:00<3141:46:39,  8.82it/s]"
     ]
    },
    {
     "name": "stdout",
     "output_type": "stream",
     "text": [
      "Average Reward | MDP #States | #MissingTrans/ #Trans | Missing %. | VI Error..\n",
      "322.48         | 3507        | 1929/7014             | 0.275      | 0.517852783203125\n"
     ]
    },
    {
     "name": "stderr",
     "output_type": "stream",
     "text": [
      "  0%|          | 255007/100000000 [24:28<3039:03:38,  9.12it/s]"
     ]
    },
    {
     "name": "stdout",
     "output_type": "stream",
     "text": [
      "Average Reward | MDP #States | #MissingTrans/ #Trans | Missing %. | VI Error..\n",
      "334.88         | 3546        | 1951/7092             | 0.2751     | 0.9178466796875\n"
     ]
    },
    {
     "name": "stderr",
     "output_type": "stream",
     "text": [
      "  0%|          | 260006/100000000 [24:56<3022:08:58,  9.17it/s]"
     ]
    },
    {
     "name": "stdout",
     "output_type": "stream",
     "text": [
      "Average Reward | MDP #States | #MissingTrans/ #Trans | Missing %. | VI Error..\n",
      "299.36         | 3578        | 1959/7156             | 0.2738     | 0.940338134765625\n"
     ]
    },
    {
     "name": "stderr",
     "output_type": "stream",
     "text": [
      "  0%|          | 265006/100000000 [25:28<3945:51:20,  7.02it/s]"
     ]
    },
    {
     "name": "stdout",
     "output_type": "stream",
     "text": [
      "Average Reward | MDP #States | #MissingTrans/ #Trans | Missing %. | VI Error..\n",
      "294.58         | 3611        | 1974/7222             | 0.2733     | 1.4024658203125\n"
     ]
    },
    {
     "name": "stderr",
     "output_type": "stream",
     "text": [
      "  0%|          | 267577/100000000 [25:38<99:31:30, 278.36it/s] "
     ]
    }
   ],
   "source": [
    "\n",
    "for i in tqdm(range(int(1e8))):\n",
    "    inner_loop_frame_count += 1\n",
    "    outer_loop_frame_count += 1\n",
    "\n",
    "    if args.render_every and eps_count % args.render_every == 0:\n",
    "        env.render()\n",
    "\n",
    "    if outer_loop_frame_count % params['bellman_backup_every'] == 0:\n",
    "        st = time.time()\n",
    "        mdp_T.do_optimal_backup(mode=args.device, n_backups=params[\"n_backups\"])\n",
    "        if args.rmax:\n",
    "            mdp_T.do_explr_backup(mode=args.device, n_backups=params[\"n_backups\"])\n",
    "        bellman_backup_time.append(time.time() - st)\n",
    "\n",
    "    policy_name, policy = \"a\", eps_opt_policy # list(explore_policies.items())[eps_count%len(explore_policies)]\n",
    "    a = policy(s)\n",
    "\n",
    "    ns, r, d, i = env.step(a)\n",
    "    _d = False if d and i[\"max_episode_length_exceeded\"] == True else d\n",
    "    running_reward += r\n",
    "\n",
    "    # add to buffer\n",
    "    # Not necessary for Decimal Discretization bur sure\n",
    "    exp = [s.tolist(), [a], ns.tolist(), [r], [_d]]\n",
    "    train_buffer.add(exp, padded_info={\"qval\": 0})\n",
    "    if np.random.randint(20) < 2:\n",
    "        valid_buffer.add(exp, padded_info={\"qval\": 0})\n",
    "\n",
    "    # Update MDP\n",
    "    s_d, ns_d = img_2_disc_fxn([s]), img_2_disc_fxn([ns])\n",
    "    hs_d, hns_d = hAsh(s_d.tolist()), hAsh(ns_d.tolist())\n",
    "    mdp_T.consume_transition([hs_d, int(a), hns_d, float(r), int(_d)])\n",
    "#     mdp_T.consume_transition((hAsh(hs.tolist()), int(a), hAsh(hns.tolist()), float(r), int(_d)))\n",
    "\n",
    "    # prep for next loop\n",
    "    s = ns\n",
    "\n",
    "    # Housekeeping to omit while true loop\n",
    "    if d:\n",
    "        s = env.reset()\n",
    "        running_reward = 0\n",
    "        eps_count += 1\n",
    "\n",
    "    if inner_loop_frame_count % params['evaluate_every'] == 0:\n",
    "        mdp_T.do_optimal_backup(mode=\"GPU\", n_backups=500)\n",
    "        n_steps = outer_count * K_i + inner_loop_frame_count\n",
    "        eval_reward = evaluate_on_env(test_env, opt_policy, eps_count=50, render=False)[0]\n",
    "        \n",
    "        col_header = [\"Average Reward\",\"MDP #States\", \"#MissingTrans/ #Trans\",\"Missing %\", \"VI Error\"] \n",
    "        meta_data = [10]*len(col_header) # max len of the data in the table to be printed (per column)\n",
    "        print(' | '.join([s.ljust(max(meta_data[i], len(s)), '.') for i, s in enumerate(col_header)]))\n",
    "        col_data = [eval_reward, \n",
    "                    len(mdp_T.tD),  \n",
    "                    str(mdp_T.missing_state_action_count)+\"/\"+str(len(mdp_T.tD)*len(mdp_T.A)),\n",
    "                    round(mdp_T.missing_state_action_count/mdp_T.total_state_action_count,4 ),\n",
    "                    mdp_T.curr_vi_error       ]\n",
    "        print(' | '.join([str(s).ljust(max(meta_data[i], len(col_header[i])),  \" \") for i, s in enumerate(col_data)]))\n",
    "        \n",
    "        loggers_dict[\"tb_train_logger\"].add_scalar(\"Optimal Avg Reward\", n_steps)\n",
    "        loggers_dict[\"tb_train_logger\"].add_scalar(\"State Count\", float(len(mdp_T.tD)), outer_loop_frame_count)\n",
    "        loggers_dict[\"tb_train_logger\"].add_scalar('Mising Transition Count', mdp.missing_state_action_count, outer_loop_frame_count)\n",
    "        loggers_dict[\"tb_train_logger\"].add_scalar(\"Opt VI Error\",mdp_T.curr_vi_error, outer_loop_frame_count)\n",
    "        loggers_dict[\"tb_train_logger\"].add_scalar(\"Safe VI Error\",mdp_T.s_curr_vi_error, outer_loop_frame_count)\n",
    "\n",
    "    ####################################################\n",
    "\n",
    "    # Not necessary for Decimal Experiments\n",
    "    # if outer_loop_frame_count % args.checkpoint_every == 0:\n",
    "    #     training_net._save_to_cache()\n",
    "    #     torch.save((train_buffer.buffer, mdp, net.state_dict()),\n",
    "    #                log_dirs_dict[\"py_log_dir\"] + \"/checkpoint\" + \".pth\")\n",
    "\n",
    "# Not necessary for Decimal Experiments\n",
    "# training_net._save_to_cache()"
   ]
  },
  {
   "cell_type": "code",
   "execution_count": null,
   "metadata": {},
   "outputs": [],
   "source": []
  }
 ],
 "metadata": {
  "kernelspec": {
   "display_name": "Python 3",
   "language": "python",
   "name": "python3"
  },
  "language_info": {
   "codemirror_mode": {
    "name": "ipython",
    "version": 3
   },
   "file_extension": ".py",
   "mimetype": "text/x-python",
   "name": "python",
   "nbconvert_exporter": "python",
   "pygments_lexer": "ipython3",
   "version": "3.6.8"
  },
  "pycharm": {
   "stem_cell": {
    "cell_type": "raw",
    "metadata": {
     "collapsed": false
    },
    "source": []
   }
  }
 },
 "nbformat": 4,
 "nbformat_minor": 2
}
