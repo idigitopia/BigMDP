{
 "cells": [
  {
   "cell_type": "code",
   "execution_count": 3,
   "metadata": {},
   "outputs": [],
   "source": [
    "\n",
    "import argparse\n",
    "\n",
    "from bigmdp.data.dataset import SimpleReplayBuffer, gather_data_in_buffer\n",
    "from bigmdp.data.frozen_lake import FrozenLakeEnvDynamic, save_and_print_results\n",
    "from bigmdp.data.frozen_lake import evaluate_policy_discounted\n",
    "from bigmdp.mdp.MDP_GPU import FullMDP\n",
    "from bigmdp.mdp.vi_engine_s import simple_value_iteration\n",
    "from bigmdp.utils.tmp_vi_helper import *\n",
    "from bigmdp.utils.utils_directory import * "
   ]
  },
  {
   "cell_type": "code",
   "execution_count": 4,
   "metadata": {},
   "outputs": [],
   "source": [
    "\n",
    "ENV_MAP = {\"frozen_lake\": FrozenLakeEnvDynamic}\n",
    "VI_ENGINE_MAP = { 'simple': simple_value_iteration}\n",
    "\n",
    "\n",
    "parser = argparse.ArgumentParser()\n",
    "parser.add_argument('-e', \"--env_name\", help=\"Choice of Environment to solve\",\n",
    "                    choices=['frozen_lake'], default='frozen_lake')\n",
    "parser.add_argument('-exp_id', \"--experiment_id\", help=\"Experiment id for new result folder\", default='R1')\n",
    "parser.add_argument('-vi', \"--vi_engine\", help=\"Choice of VI engine to use\",\n",
    "                    choices=['distributed', 'simple'], default='simple')\n",
    "parser.add_argument(\"-w\", \"--workers\", help=\"Number of Workers\", type=int, default=4)\n",
    "parser.add_argument(\"-m\", \"--map_size\", help=\"map size(s), comma separated\", default=100)\n",
    "parser.add_argument(\"--load_env\", help=\"load environment from cache ?\", action=\"store_true\", default=True)\n",
    "parser.add_argument(\"--verbose\", help=\"print errors\", action=\"store_true\", default=False)\n",
    "parser.add_argument(\"-r\", \"--num_of_runs\", help=\"Number of full pipeline runs\", type=int, default=10)\n",
    "args = parser.parse_args(\"-e frozen_lake\".split(\" \"))\n",
    "\n",
    "map_sizes = [14] # [int(i) for i in args.map_size.split(',')]  # [10, 32, 72, 100, 225, 320, 500, 708, 868, 1000]\n"
   ]
  },
  {
   "cell_type": "code",
   "execution_count": 5,
   "metadata": {},
   "outputs": [],
   "source": []
  },
  {
   "cell_type": "code",
   "execution_count": 6,
   "metadata": {},
   "outputs": [],
   "source": [
    "args.map_size = 8"
   ]
  },
  {
   "cell_type": "code",
   "execution_count": 8,
   "metadata": {},
   "outputs": [],
   "source": [
    "# House Keeping\n",
    "results_dir = \"results/\" + str(args.env_name) +\"_\" +str(args.experiment_id)+\"/\"\n",
    "create_hierarchy(results_dir)\n",
    "\n",
    "# Define Environment\n",
    "Env = ENV_MAP[args.env_name]\n",
    "full_map_size = (args.map_size, args.map_size)\n",
    "env = Env(full_map_size)\n"
   ]
  },
  {
   "cell_type": "code",
   "execution_count": 9,
   "metadata": {},
   "outputs": [
    {
     "data": {
      "text/plain": [
       "_ENV(observation_space=array([1]))"
      ]
     },
     "execution_count": 9,
     "metadata": {},
     "output_type": "execute_result"
    }
   ],
   "source": [
    "env._env"
   ]
  },
  {
   "cell_type": "code",
   "execution_count": 10,
   "metadata": {},
   "outputs": [],
   "source": [
    "params = {\"unknown_transition_reward\":-2000,\n",
    "         \"gamma\":0.99,\n",
    "         \"slip_probability\":0.1,\n",
    "         \"rmax_reward\":1000,\n",
    "         \"rmax_thres\":10,\n",
    "         \"balanced_explr\":False,\n",
    "         \"rmin\" :-2000}\n"
   ]
  },
  {
   "cell_type": "code",
   "execution_count": 20,
   "metadata": {},
   "outputs": [
    {
     "name": "stdout",
     "output_type": "stream",
     "text": [
      "Average Reward of collected trajectories:-119.551\n"
     ]
    }
   ],
   "source": [
    "train_buffer =  SimpleReplayBuffer(int(1e5))\n",
    "\n",
    "\n",
    "# Collect random Dataset # till replay initial\\\n",
    "random_policy = lambda s: env.sample_random_action()\n",
    "train_buffer, info = gather_data_in_buffer(train_buffer, env, episodes=9999, render=False, policy=random_policy,\n",
    "                                           frame_count=500000, pad_attribute_fxn={\"qval\": lambda s: 0})\n",
    "\n",
    "        \n"
   ]
  },
  {
   "cell_type": "code",
   "execution_count": 31,
   "metadata": {},
   "outputs": [
    {
     "name": "stderr",
     "output_type": "stream",
     "text": [
      "100%|██████████| 391/391 [00:13<00:00, 29.99it/s]\n"
     ]
    }
   ],
   "source": [
    "#Make MDP\n",
    "mdp_T = FullMDP(A=env.get_list_of_actions(),\n",
    "              ur=params[\"unknown_transition_reward\"],\n",
    "              vi_params={\"gamma\": params[\"gamma\"],\n",
    "                         \"slip_prob\": params[\"slip_probability\"],\n",
    "                         \"rmax_reward\": params[\"rmax_reward\"],\n",
    "                         \"rmax_thres\": 2,\n",
    "                         \"balanced_explr\": True,\n",
    "                         \"rmin\": params[\"rmin\"]},\n",
    "              policy_params={\"unhash_array_len\": env._env.observation_space.shape[0]},\n",
    "              MAX_S_COUNT=int(1e6),\n",
    "              weight_transitions=True,\n",
    "              default_mode=\"GPU\")\n",
    "\n",
    "# Populate your MDP\n",
    "mdp_T = populate_model_from_buffer(mdp_T, train_buffer, lambda s:s)"
   ]
  },
  {
   "cell_type": "code",
   "execution_count": 32,
   "metadata": {},
   "outputs": [
    {
     "name": "stdout",
     "output_type": "stream",
     "text": [
      "Time takedn to solve 7.913642168045044\n"
     ]
    }
   ],
   "source": [
    "mdp_T.solve(1e-1,mode=\"GPU\")"
   ]
  },
  {
   "cell_type": "code",
   "execution_count": 33,
   "metadata": {},
   "outputs": [],
   "source": [
    "val_vector = [-1000]*env.GetStateSpace()\n",
    "pi_vector = [0]*env.GetStateSpace()\n",
    "for i in list(range(env.GetStateSpace())):\n",
    "    s = str([i])\n",
    "    if s in mdp_T.valueDict:\n",
    "        val_vector[i] = float(mdp_T.valueDict[s][0])\n",
    "        pi_vector[i] = int(mdp_T.polDict[s])"
   ]
  },
  {
   "cell_type": "code",
   "execution_count": null,
   "metadata": {},
   "outputs": [],
   "source": []
  },
  {
   "cell_type": "code",
   "execution_count": 34,
   "metadata": {},
   "outputs": [
    {
     "data": {
      "text/plain": [
       "638.7558836420548"
      ]
     },
     "execution_count": 34,
     "metadata": {},
     "output_type": "execute_result"
    }
   ],
   "source": [
    "evaluate_policy_discounted(env,pi_vector, 0.99, trials=100)"
   ]
  },
  {
   "cell_type": "code",
   "execution_count": 35,
   "metadata": {},
   "outputs": [
    {
     "name": "stdout",
     "output_type": "stream",
     "text": [
      "\n",
      "Average reward: 979.8\n",
      "\n",
      "Avereage discounted reward: 787.1469369206447\n",
      "\n",
      "State Value image view:\n",
      "\n",
      "\n",
      "\n",
      "Best Q-value and Policy:\n",
      "\n"
     ]
    },
    {
     "data": {
      "text/plain": [
       "(979.8, 787.1469369206447)"
      ]
     },
     "execution_count": 35,
     "metadata": {},
     "output_type": "execute_result"
    },
    {
     "data": {
      "image/png": "[encoded data removed]",
      "text/plain": [
       "<Figure size 432x288 with 2 Axes>"
      ]
     },
     "metadata": {
      "needs_background": "light"
     },
     "output_type": "display_data"
    }
   ],
   "source": [
    "\n",
    "# Process Results and Add to plot\n",
    "save_and_print_results(val_vector, pi_vector, MAP=env.map_grid, env=env, beta=0.99, name=args.vi_engine, results_dir=results_dir)"
   ]
  },
  {
   "cell_type": "code",
   "execution_count": null,
   "metadata": {},
   "outputs": [],
   "source": []
  },
  {
   "cell_type": "code",
   "execution_count": null,
   "metadata": {},
   "outputs": [],
   "source": []
  },
  {
   "cell_type": "code",
   "execution_count": null,
   "metadata": {},
   "outputs": [],
   "source": []
  },
  {
   "cell_type": "code",
   "execution_count": null,
   "metadata": {},
   "outputs": [],
   "source": []
  },
  {
   "cell_type": "code",
   "execution_count": null,
   "metadata": {},
   "outputs": [],
   "source": []
  }
 ],
 "metadata": {
  "kernelspec": {
   "display_name": "Python 3",
   "language": "python",
   "name": "python3"
  },
  "language_info": {
   "codemirror_mode": {
    "name": "ipython",
    "version": 3
   },
   "file_extension": ".py",
   "mimetype": "text/x-python",
   "name": "python",
   "nbconvert_exporter": "python",
   "pygments_lexer": "ipython3",
   "version": "3.6.8"
  },
  "pycharm": {
   "stem_cell": {
    "cell_type": "raw",
    "source": [],
    "metadata": {
     "collapsed": false
    }
   }
  }
 },
 "nbformat": 4,
 "nbformat_minor": 2
}