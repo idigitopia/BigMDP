{
 "cells": [
  {
   "cell_type": "code",
   "execution_count": null,
   "metadata": {},
   "outputs": [],
   "source": [
    "# Tips to run in Colab\n",
    "# set the runtime to a GPU instance. (runtime > change runtime type > GPU)\n",
    "# Uncomment following lines to set up dependencies in Colab Server\n",
    "\n",
    "# ! pip install pycuda\n",
    "# ! git clone https://github.com/idigitopia/BigMDP.git \n",
    "# import os\n",
    "# os.chdir(\"BigMDP\")\n",
    "# ! pip install -e . \n",
    "# os.chdir(\"examples\")"
   ]
  },
  {
   "cell_type": "code",
   "execution_count": 1,
   "metadata": {},
   "outputs": [],
   "source": [
    "import os\n",
    "# import plotly.graph_objects as go\n",
    "from tqdm import tqdm\n",
    "from gym import envs\n",
    "import argparse\n",
    "import numpy as np\n",
    "from bigmdp.data.buffer import StandardBuffer,ReplayBuffer, gather_data_in_buffer, get_iter_indexes\n",
    "from bigmdp.mdp.MDP_GPU import FullMDP\n",
    "from bigmdp.utils.utils_eval import evaluate_on_env\n",
    "from bigmdp.mdp.agent import SimpleAgent\n",
    "from copy import deepcopy as cpy\n",
    "from os import path\n",
    "from arg_def import * \n",
    "import gym\n",
    "from sklearn.neighbors import KDTree\n",
    "from IPython import display\n",
    "import torch\n",
    "import time\n",
    "import copy\n",
    "import pandas as pd"
   ]
  },
  {
   "cell_type": "code",
   "execution_count": 2,
   "metadata": {},
   "outputs": [
    {
     "name": "stdout",
     "output_type": "stream",
     "text": [
      "##################################################    envArgs    ##################################################\n",
      "env_name                       : CartPole-v0                    seed                           : 4444\n",
      "###################################################################################################################\n",
      "##################################################    mdpBuildArgs    ##################################################\n",
      "unknown_transition_reward      : -1000                          rmax_reward                    : 10000\n",
      "balanced_exploration           : 0                              rmax_threshold                 : 2\n",
      "MAX_S_COUNT                    : 100000                         def_device                     : GPU\n",
      "fill_with                      : 0Q_src-KNN                     mdp_build_k                    : 5\n",
      "knn_delta                      : 1e-08                          penalty_type                   : linear\n",
      "penalty_beta                   : 1                              filter_with_abstraction        : 0\n",
      "normalize_by_distance          : True                          \n",
      "########################################################################################################################\n",
      "##################################################    mdpSolveArgs    ##################################################\n",
      "gamma                          : 0.99                           slip_probability               : 0.1\n",
      "target_vi_error                : 0.001                          bellman_backup_every           : 100\n",
      "n_backups                      : 10                             policy_k                       : [11]\n",
      "########################################################################################################################\n",
      "##################################################    evalArgs    ##################################################\n",
      "eval_episode_count             : 249                            soft_q                         : False\n",
      "smooth_with_seen               : False                          policy_k                       : [11]\n",
      "####################################################################################################################\n"
     ]
    }
   ],
   "source": [
    "parser, ArgumentDict = get_argument_parser()\n",
    "options = \"--env_name CartPole-v0 --MAX_S_COUNT 100000 --MAX_NS_COUNT 5 --mdp_build_k 5 --policy_k 11 --normalize_by_distance\"\n",
    "args = parser.parse_args(options.split(\" \"))\n",
    "\n",
    "for title, arg_names in ArgumentDict.items():\n",
    "    print_args(args, to_show_args=arg_names, title = title)"
   ]
  },
  {
   "cell_type": "code",
   "execution_count": 3,
   "metadata": {},
   "outputs": [],
   "source": [
    "env = gym.make(args.env_name)"
   ]
  },
  {
   "cell_type": "code",
   "execution_count": 4,
   "metadata": {},
   "outputs": [],
   "source": [
    "empty_buffer = ReplayBuffer(state_dim = env.observation_space.shape[0],\n",
    "                           is_atari= False, \n",
    "                           atari_preprocessing= None, \n",
    "                           batch_size=32, \n",
    "                           buffer_size=20000,\n",
    "                           device=\"cpu\")"
   ]
  },
  {
   "cell_type": "code",
   "execution_count": 5,
   "metadata": {},
   "outputs": [],
   "source": [
    "class DummyNet():\n",
    "    def __init__(self, sim, add_noise=False):\n",
    "        self.simulator = sim\n",
    "\n",
    "    def encode_single(self, o):\n",
    "        return tuple(o)\n",
    "\n",
    "    def encode_batch(self, o_batch):\n",
    "        return [tuple(o) for o in o_batch]\n",
    "\n",
    "    def predict_single_transition(self, o, a):\n",
    "        assert False, \"Not Implemented Error\"\n",
    "\n",
    "    def predict_batch_transition(self, o_batch, a_batch):\n",
    "        assert False, \"Not Implemented Error\""
   ]
  },
  {
   "cell_type": "code",
   "execution_count": 6,
   "metadata": {},
   "outputs": [],
   "source": [
    "empty_MDP = FullMDP(A= list(range(env.action_space.n)),\n",
    "                ur=args.unknown_transition_reward,\n",
    "                vi_params={\"gamma\":  args.gamma,\n",
    "                           \"slip_prob\": args.slip_probability,\n",
    "                           \"rmax_reward\": args.rmax_reward,\n",
    "                           \"rmax_thres\": args.rmax_threshold,\n",
    "                           \"balanced_explr\": args.balanced_exploration,\n",
    "                          \"rmin\":-1000},\n",
    "                knn_delta=args.knn_delta,\n",
    "                MAX_S_COUNT=args.MAX_S_COUNT,\n",
    "                MAX_NS_COUNT=args.MAX_NS_COUNT,\n",
    "                default_mode=args.def_device)"
   ]
  },
  {
   "cell_type": "code",
   "execution_count": 7,
   "metadata": {},
   "outputs": [],
   "source": [
    "newAgent =  SimpleAgent(mdp_T= cpy(empty_MDP), net = DummyNet(None), fill_with = args.fill_with,\n",
    "                       mdp_build_k = args.mdp_build_k, plcy_k = args.policy_k[0],  \n",
    "                       kNN_on_sa = args.smooth_with_seen, soft_at_plcy = args.soft_q, \n",
    "                       normalize_by_distance= args.normalize_by_distance,\n",
    "                       penalty_type=args.penalty_type, penalty_beta = args.penalty_beta,abstraction_flag=False)"
   ]
  },
  {
   "cell_type": "code",
   "execution_count": null,
   "metadata": {},
   "outputs": [],
   "source": []
  },
  {
   "cell_type": "code",
   "execution_count": 8,
   "metadata": {},
   "outputs": [
    {
     "name": "stdout",
     "output_type": "stream",
     "text": [
      "Average Reward of collected trajectories:21.2\n"
     ]
    },
    {
     "name": "stderr",
     "output_type": "stream",
     "text": [
      "100%|██████████| 50/50 [00:01<00:00, 47.86it/s]\n"
     ]
    },
    {
     "name": "stdout",
     "output_type": "stream",
     "text": [
      "####################\t Episode: 5, Size of MDP:108, Length of Train Buffer:105, Eval Reward:68.72\t####################\n",
      "Average Reward of collected trajectories:81.0\n",
      "Average Reward of collected trajectories:68.2\n",
      "Average Reward of collected trajectories:60.4\n"
     ]
    },
    {
     "name": "stderr",
     "output_type": "stream",
     "text": [
      "100%|██████████| 50/50 [00:01<00:00, 40.54it/s]\n"
     ]
    },
    {
     "name": "stdout",
     "output_type": "stream",
     "text": [
      "####################\t Episode: 20, Size of MDP:1156, Length of Train Buffer:301, Eval Reward:78.36\t####################\n",
      "Average Reward of collected trajectories:83.6\n",
      "Average Reward of collected trajectories:96.6\n",
      "Average Reward of collected trajectories:103.4\n",
      "Average Reward of collected trajectories:135.8\n"
     ]
    },
    {
     "name": "stderr",
     "output_type": "stream",
     "text": [
      "100%|██████████| 50/50 [00:02<00:00, 19.15it/s]\n"
     ]
    },
    {
     "name": "stdout",
     "output_type": "stream",
     "text": [
      "####################\t Episode: 40, Size of MDP:3254, Length of Train Buffer:678, Eval Reward:172.52\t####################\n",
      "Average Reward of collected trajectories:155.0\n",
      "Average Reward of collected trajectories:156.2\n",
      "Average Reward of collected trajectories:158.2\n",
      "Average Reward of collected trajectories:132.4\n"
     ]
    },
    {
     "name": "stderr",
     "output_type": "stream",
     "text": [
      "100%|██████████| 50/50 [00:02<00:00, 19.79it/s]\n"
     ]
    },
    {
     "name": "stdout",
     "output_type": "stream",
     "text": [
      "####################\t Episode: 60, Size of MDP:6266, Length of Train Buffer:661, Eval Reward:164.96\t####################\n",
      "Average Reward of collected trajectories:138.8\n",
      "Average Reward of collected trajectories:152.0\n",
      "Average Reward of collected trajectories:184.4\n",
      "Average Reward of collected trajectories:173.4\n"
     ]
    },
    {
     "name": "stderr",
     "output_type": "stream",
     "text": [
      "100%|██████████| 50/50 [00:02<00:00, 17.00it/s]\n"
     ]
    },
    {
     "name": "stdout",
     "output_type": "stream",
     "text": [
      "####################\t Episode: 80, Size of MDP:9515, Length of Train Buffer:866, Eval Reward:183.14\t####################\n",
      "Average Reward of collected trajectories:172.0\n",
      "Average Reward of collected trajectories:169.4\n",
      "Average Reward of collected trajectories:178.4\n",
      "Average Reward of collected trajectories:185.6\n"
     ]
    },
    {
     "name": "stderr",
     "output_type": "stream",
     "text": [
      "100%|██████████| 50/50 [00:02<00:00, 16.77it/s]\n"
     ]
    },
    {
     "name": "stdout",
     "output_type": "stream",
     "text": [
      "####################\t Episode: 100, Size of MDP:13048, Length of Train Buffer:927, Eval Reward:188.6\t####################\n",
      "Average Reward of collected trajectories:183.0\n",
      "Average Reward of collected trajectories:188.8\n",
      "Average Reward of collected trajectories:155.6\n",
      "Average Reward of collected trajectories:181.4\n"
     ]
    },
    {
     "name": "stderr",
     "output_type": "stream",
     "text": [
      "100%|██████████| 50/50 [00:02<00:00, 17.37it/s]\n"
     ]
    },
    {
     "name": "stdout",
     "output_type": "stream",
     "text": [
      "####################\t Episode: 120, Size of MDP:16601, Length of Train Buffer:906, Eval Reward:187.68\t####################\n",
      "Average Reward of collected trajectories:176.2\n",
      "Average Reward of collected trajectories:148.6\n",
      "Average Reward of collected trajectories:181.6\n",
      "Average Reward of collected trajectories:156.4\n"
     ]
    },
    {
     "name": "stderr",
     "output_type": "stream",
     "text": [
      "100%|██████████| 50/50 [00:02<00:00, 16.67it/s]\n"
     ]
    },
    {
     "name": "stdout",
     "output_type": "stream",
     "text": [
      "####################\t Episode: 140, Size of MDP:19919, Length of Train Buffer:781, Eval Reward:190.5\t####################\n",
      "Average Reward of collected trajectories:194.6\n",
      "Average Reward of collected trajectories:186.6\n",
      "Average Reward of collected trajectories:181.2\n",
      "Average Reward of collected trajectories:165.0\n"
     ]
    },
    {
     "name": "stderr",
     "output_type": "stream",
     "text": [
      "100%|██████████| 50/50 [00:03<00:00, 16.05it/s]\n"
     ]
    },
    {
     "name": "stdout",
     "output_type": "stream",
     "text": [
      "####################\t Episode: 160, Size of MDP:23565, Length of Train Buffer:824, Eval Reward:192.38\t####################\n",
      "Average Reward of collected trajectories:170.6\n",
      "Average Reward of collected trajectories:187.2\n",
      "Average Reward of collected trajectories:196.4\n",
      "Average Reward of collected trajectories:192.2\n"
     ]
    },
    {
     "name": "stderr",
     "output_type": "stream",
     "text": [
      "100%|██████████| 50/50 [00:02<00:00, 16.81it/s]\n"
     ]
    },
    {
     "name": "stdout",
     "output_type": "stream",
     "text": [
      "####################\t Episode: 180, Size of MDP:27306, Length of Train Buffer:960, Eval Reward:189.52\t####################\n",
      "Average Reward of collected trajectories:195.0\n",
      "Average Reward of collected trajectories:174.6\n",
      "Average Reward of collected trajectories:181.8\n",
      "Average Reward of collected trajectories:185.6\n"
     ]
    },
    {
     "name": "stderr",
     "output_type": "stream",
     "text": [
      "100%|██████████| 50/50 [00:03<00:00, 16.23it/s]\n"
     ]
    },
    {
     "name": "stdout",
     "output_type": "stream",
     "text": [
      "####################\t Episode: 200, Size of MDP:30999, Length of Train Buffer:927, Eval Reward:197.04\t####################\n",
      "Average Reward of collected trajectories:200.0\n",
      "Average Reward of collected trajectories:195.6\n",
      "Average Reward of collected trajectories:198.8\n",
      "Average Reward of collected trajectories:198.8\n"
     ]
    },
    {
     "name": "stderr",
     "output_type": "stream",
     "text": [
      "100%|██████████| 50/50 [00:03<00:00, 16.30it/s]\n"
     ]
    },
    {
     "name": "stdout",
     "output_type": "stream",
     "text": [
      "####################\t Episode: 220, Size of MDP:34978, Length of Train Buffer:993, Eval Reward:196.38\t####################\n",
      "Average Reward of collected trajectories:175.0\n",
      "Average Reward of collected trajectories:160.6\n",
      "Average Reward of collected trajectories:200.0\n",
      "Average Reward of collected trajectories:169.0\n"
     ]
    },
    {
     "name": "stderr",
     "output_type": "stream",
     "text": [
      "100%|██████████| 50/50 [00:03<00:00, 16.43it/s]\n"
     ]
    },
    {
     "name": "stdout",
     "output_type": "stream",
     "text": [
      "####################\t Episode: 240, Size of MDP:38513, Length of Train Buffer:844, Eval Reward:197.44\t####################\n",
      "Average Reward of collected trajectories:194.8\n",
      "Average Reward of collected trajectories:191.2\n",
      "Average Reward of collected trajectories:200.0\n",
      "Average Reward of collected trajectories:193.6\n"
     ]
    },
    {
     "name": "stderr",
     "output_type": "stream",
     "text": [
      "100%|██████████| 50/50 [00:03<00:00, 16.17it/s]\n"
     ]
    },
    {
     "name": "stdout",
     "output_type": "stream",
     "text": [
      "####################\t Episode: 260, Size of MDP:42424, Length of Train Buffer:967, Eval Reward:197.68\t####################\n",
      "Average Reward of collected trajectories:196.8\n",
      "Average Reward of collected trajectories:200.0\n",
      "Average Reward of collected trajectories:185.0\n",
      "Average Reward of collected trajectories:198.0\n"
     ]
    },
    {
     "name": "stderr",
     "output_type": "stream",
     "text": [
      "100%|██████████| 50/50 [00:04<00:00, 11.19it/s]\n"
     ]
    },
    {
     "name": "stdout",
     "output_type": "stream",
     "text": [
      "####################\t Episode: 280, Size of MDP:46336, Length of Train Buffer:989, Eval Reward:198.28\t####################\n",
      "Average Reward of collected trajectories:163.6\n",
      "Average Reward of collected trajectories:192.0\n",
      "Average Reward of collected trajectories:194.4\n",
      "Average Reward of collected trajectories:197.4\n"
     ]
    },
    {
     "name": "stderr",
     "output_type": "stream",
     "text": [
      "100%|██████████| 50/50 [00:03<00:00, 15.64it/s]\n"
     ]
    },
    {
     "name": "stdout",
     "output_type": "stream",
     "text": [
      "####################\t Episode: 300, Size of MDP:50087, Length of Train Buffer:986, Eval Reward:198.48\t####################\n",
      "Average Reward of collected trajectories:20.6\n"
     ]
    },
    {
     "name": "stderr",
     "output_type": "stream",
     "text": [
      "100%|██████████| 50/50 [00:00<00:00, 65.61it/s]\n"
     ]
    },
    {
     "name": "stdout",
     "output_type": "stream",
     "text": [
      "####################\t Episode: 5, Size of MDP:105, Length of Train Buffer:102, Eval Reward:48.58\t####################\n",
      "Average Reward of collected trajectories:45.2\n",
      "Average Reward of collected trajectories:38.6\n",
      "Average Reward of collected trajectories:145.2\n"
     ]
    },
    {
     "name": "stderr",
     "output_type": "stream",
     "text": [
      "100%|██████████| 50/50 [00:02<00:00, 22.20it/s]\n"
     ]
    },
    {
     "name": "stdout",
     "output_type": "stream",
     "text": [
      "####################\t Episode: 20, Size of MDP:1250, Length of Train Buffer:725, Eval Reward:139.48\t####################\n",
      "Average Reward of collected trajectories:101.4\n",
      "Average Reward of collected trajectories:110.0\n",
      "Average Reward of collected trajectories:104.4\n",
      "Average Reward of collected trajectories:150.4\n"
     ]
    },
    {
     "name": "stderr",
     "output_type": "stream",
     "text": [
      "100%|██████████| 50/50 [00:03<00:00, 16.65it/s]\n"
     ]
    },
    {
     "name": "stdout",
     "output_type": "stream",
     "text": [
      "####################\t Episode: 40, Size of MDP:3582, Length of Train Buffer:751, Eval Reward:184.38\t####################\n",
      "Average Reward of collected trajectories:173.6\n",
      "Average Reward of collected trajectories:199.4\n",
      "Average Reward of collected trajectories:197.6\n",
      "Average Reward of collected trajectories:164.2\n"
     ]
    },
    {
     "name": "stderr",
     "output_type": "stream",
     "text": [
      "100%|██████████| 50/50 [00:03<00:00, 15.27it/s]\n"
     ]
    },
    {
     "name": "stdout",
     "output_type": "stream",
     "text": [
      "####################\t Episode: 60, Size of MDP:7265, Length of Train Buffer:820, Eval Reward:200.0\t####################\n",
      "Average Reward of collected trajectories:172.4\n",
      "Average Reward of collected trajectories:187.4\n",
      "Average Reward of collected trajectories:200.0\n",
      "Average Reward of collected trajectories:198.4\n"
     ]
    },
    {
     "name": "stderr",
     "output_type": "stream",
     "text": [
      "100%|██████████| 50/50 [00:03<00:00, 15.72it/s]\n"
     ]
    },
    {
     "name": "stdout",
     "output_type": "stream",
     "text": [
      "####################\t Episode: 80, Size of MDP:11069, Length of Train Buffer:991, Eval Reward:197.28\t####################\n",
      "Average Reward of collected trajectories:179.2\n",
      "Average Reward of collected trajectories:190.6\n",
      "Average Reward of collected trajectories:181.6\n",
      "Average Reward of collected trajectories:200.0\n"
     ]
    },
    {
     "name": "stderr",
     "output_type": "stream",
     "text": [
      "100%|██████████| 50/50 [00:03<00:00, 15.77it/s]\n"
     ]
    },
    {
     "name": "stdout",
     "output_type": "stream",
     "text": [
      "####################\t Episode: 100, Size of MDP:14838, Length of Train Buffer:999, Eval Reward:199.98\t####################\n",
      "Average Reward of collected trajectories:196.6\n",
      "Average Reward of collected trajectories:199.2\n",
      "Average Reward of collected trajectories:184.0\n",
      "Average Reward of collected trajectories:188.8\n"
     ]
    },
    {
     "name": "stderr",
     "output_type": "stream",
     "text": [
      "100%|██████████| 50/50 [00:03<00:00, 15.88it/s]\n"
     ]
    },
    {
     "name": "stdout",
     "output_type": "stream",
     "text": [
      "####################\t Episode: 120, Size of MDP:18693, Length of Train Buffer:943, Eval Reward:194.46\t####################\n",
      "Average Reward of collected trajectories:184.6\n",
      "Average Reward of collected trajectories:191.8\n",
      "Average Reward of collected trajectories:200.0\n",
      "Average Reward of collected trajectories:200.0\n"
     ]
    },
    {
     "name": "stderr",
     "output_type": "stream",
     "text": [
      "100%|██████████| 50/50 [00:03<00:00, 15.77it/s]\n"
     ]
    },
    {
     "name": "stdout",
     "output_type": "stream",
     "text": [
      "####################\t Episode: 140, Size of MDP:22589, Length of Train Buffer:999, Eval Reward:197.98\t####################\n",
      "Average Reward of collected trajectories:188.0\n",
      "Average Reward of collected trajectories:200.0\n",
      "Average Reward of collected trajectories:195.8\n",
      "Average Reward of collected trajectories:188.6\n"
     ]
    },
    {
     "name": "stderr",
     "output_type": "stream",
     "text": [
      "100%|██████████| 50/50 [00:03<00:00, 15.03it/s]\n"
     ]
    },
    {
     "name": "stdout",
     "output_type": "stream",
     "text": [
      "####################\t Episode: 160, Size of MDP:26463, Length of Train Buffer:942, Eval Reward:199.86\t####################\n",
      "Average Reward of collected trajectories:200.0\n",
      "Average Reward of collected trajectories:200.0\n",
      "Average Reward of collected trajectories:200.0\n",
      "Average Reward of collected trajectories:200.0\n"
     ]
    },
    {
     "name": "stderr",
     "output_type": "stream",
     "text": [
      "100%|██████████| 50/50 [00:03<00:00, 15.61it/s]\n"
     ]
    },
    {
     "name": "stdout",
     "output_type": "stream",
     "text": [
      "####################\t Episode: 180, Size of MDP:30479, Length of Train Buffer:999, Eval Reward:199.88\t####################\n",
      "Average Reward of collected trajectories:185.8\n",
      "Average Reward of collected trajectories:200.0\n",
      "Average Reward of collected trajectories:198.2\n",
      "Average Reward of collected trajectories:200.0\n"
     ]
    },
    {
     "name": "stderr",
     "output_type": "stream",
     "text": [
      "100%|██████████| 50/50 [00:03<00:00, 15.21it/s]\n"
     ]
    },
    {
     "name": "stdout",
     "output_type": "stream",
     "text": [
      "####################\t Episode: 200, Size of MDP:34412, Length of Train Buffer:999, Eval Reward:200.0\t####################\n",
      "Average Reward of collected trajectories:188.2\n",
      "Average Reward of collected trajectories:188.6\n",
      "Average Reward of collected trajectories:200.0\n",
      "Average Reward of collected trajectories:194.0\n"
     ]
    },
    {
     "name": "stderr",
     "output_type": "stream",
     "text": [
      "100%|██████████| 50/50 [00:03<00:00, 14.91it/s]\n"
     ]
    },
    {
     "name": "stdout",
     "output_type": "stream",
     "text": [
      "####################\t Episode: 220, Size of MDP:38278, Length of Train Buffer:969, Eval Reward:200.0\t####################\n",
      "Average Reward of collected trajectories:200.0\n",
      "Average Reward of collected trajectories:188.6\n",
      "Average Reward of collected trajectories:200.0\n",
      "Average Reward of collected trajectories:200.0\n"
     ]
    },
    {
     "name": "stderr",
     "output_type": "stream",
     "text": [
      "100%|██████████| 50/50 [00:03<00:00, 14.67it/s]\n"
     ]
    },
    {
     "name": "stdout",
     "output_type": "stream",
     "text": [
      "####################\t Episode: 240, Size of MDP:42236, Length of Train Buffer:999, Eval Reward:199.8\t####################\n",
      "Average Reward of collected trajectories:200.0\n",
      "Average Reward of collected trajectories:197.2\n",
      "Average Reward of collected trajectories:200.0\n",
      "Average Reward of collected trajectories:197.8\n"
     ]
    },
    {
     "name": "stderr",
     "output_type": "stream",
     "text": [
      "100%|██████████| 50/50 [00:03<00:00, 15.30it/s]\n"
     ]
    },
    {
     "name": "stdout",
     "output_type": "stream",
     "text": [
      "####################\t Episode: 260, Size of MDP:46225, Length of Train Buffer:988, Eval Reward:198.2\t####################\n",
      "Average Reward of collected trajectories:200.0\n",
      "Average Reward of collected trajectories:200.0\n",
      "Average Reward of collected trajectories:200.0\n",
      "Average Reward of collected trajectories:188.4\n"
     ]
    },
    {
     "name": "stderr",
     "output_type": "stream",
     "text": [
      "100%|██████████| 50/50 [00:03<00:00, 15.29it/s]\n"
     ]
    },
    {
     "name": "stdout",
     "output_type": "stream",
     "text": [
      "####################\t Episode: 280, Size of MDP:50183, Length of Train Buffer:941, Eval Reward:195.88\t####################\n",
      "Average Reward of collected trajectories:193.2\n",
      "Average Reward of collected trajectories:200.0\n",
      "Average Reward of collected trajectories:200.0\n",
      "Average Reward of collected trajectories:200.0\n"
     ]
    },
    {
     "name": "stderr",
     "output_type": "stream",
     "text": [
      "100%|██████████| 50/50 [00:03<00:00, 16.12it/s]\n"
     ]
    },
    {
     "name": "stdout",
     "output_type": "stream",
     "text": [
      "####################\t Episode: 300, Size of MDP:54165, Length of Train Buffer:999, Eval Reward:200.0\t####################\n",
      "Average Reward of collected trajectories:27.6\n"
     ]
    },
    {
     "name": "stderr",
     "output_type": "stream",
     "text": [
      "100%|██████████| 50/50 [00:01<00:00, 40.73it/s]\n"
     ]
    },
    {
     "name": "stdout",
     "output_type": "stream",
     "text": [
      "####################\t Episode: 5, Size of MDP:140, Length of Train Buffer:137, Eval Reward:80.7\t####################\n",
      "Average Reward of collected trajectories:56.0\n",
      "Average Reward of collected trajectories:132.0\n",
      "Average Reward of collected trajectories:136.8\n"
     ]
    },
    {
     "name": "stderr",
     "output_type": "stream",
     "text": [
      "100%|██████████| 50/50 [00:02<00:00, 20.97it/s]\n"
     ]
    },
    {
     "name": "stdout",
     "output_type": "stream",
     "text": [
      "####################\t Episode: 20, Size of MDP:1766, Length of Train Buffer:683, Eval Reward:159.4\t####################\n",
      "Average Reward of collected trajectories:131.0\n",
      "Average Reward of collected trajectories:149.2\n",
      "Average Reward of collected trajectories:155.0\n",
      "Average Reward of collected trajectories:131.2\n"
     ]
    },
    {
     "name": "stderr",
     "output_type": "stream",
     "text": [
      "100%|██████████| 50/50 [00:02<00:00, 19.52it/s]\n"
     ]
    },
    {
     "name": "stdout",
     "output_type": "stream",
     "text": [
      "####################\t Episode: 40, Size of MDP:4602, Length of Train Buffer:655, Eval Reward:172.52\t####################\n",
      "Average Reward of collected trajectories:145.8\n",
      "Average Reward of collected trajectories:157.2\n",
      "Average Reward of collected trajectories:155.4\n",
      "Average Reward of collected trajectories:159.2\n"
     ]
    },
    {
     "name": "stderr",
     "output_type": "stream",
     "text": [
      "100%|██████████| 50/50 [00:03<00:00, 15.53it/s]\n"
     ]
    },
    {
     "name": "stdout",
     "output_type": "stream",
     "text": [
      "####################\t Episode: 60, Size of MDP:7694, Length of Train Buffer:795, Eval Reward:190.62\t####################\n",
      "Average Reward of collected trajectories:121.2\n",
      "Average Reward of collected trajectories:150.0\n",
      "Average Reward of collected trajectories:190.2\n",
      "Average Reward of collected trajectories:176.6\n"
     ]
    },
    {
     "name": "stderr",
     "output_type": "stream",
     "text": [
      "100%|██████████| 50/50 [00:03<00:00, 15.85it/s]\n"
     ]
    },
    {
     "name": "stdout",
     "output_type": "stream",
     "text": [
      "####################\t Episode: 80, Size of MDP:10889, Length of Train Buffer:882, Eval Reward:192.5\t####################\n",
      "Average Reward of collected trajectories:200.0\n",
      "Average Reward of collected trajectories:164.2\n",
      "Average Reward of collected trajectories:198.0\n",
      "Average Reward of collected trajectories:186.8\n"
     ]
    },
    {
     "name": "stderr",
     "output_type": "stream",
     "text": [
      "100%|██████████| 50/50 [00:03<00:00, 15.41it/s]\n"
     ]
    },
    {
     "name": "stdout",
     "output_type": "stream",
     "text": [
      "####################\t Episode: 100, Size of MDP:14644, Length of Train Buffer:933, Eval Reward:192.44\t####################\n",
      "Average Reward of collected trajectories:184.6\n",
      "Average Reward of collected trajectories:195.4\n",
      "Average Reward of collected trajectories:161.2\n",
      "Average Reward of collected trajectories:179.4\n"
     ]
    },
    {
     "name": "stderr",
     "output_type": "stream",
     "text": [
      "100%|██████████| 50/50 [00:03<00:00, 15.79it/s]\n"
     ]
    },
    {
     "name": "stdout",
     "output_type": "stream",
     "text": [
      "####################\t Episode: 120, Size of MDP:18259, Length of Train Buffer:896, Eval Reward:194.62\t####################\n",
      "Average Reward of collected trajectories:151.8\n",
      "Average Reward of collected trajectories:185.4\n",
      "Average Reward of collected trajectories:196.6\n",
      "Average Reward of collected trajectories:189.6\n"
     ]
    },
    {
     "name": "stderr",
     "output_type": "stream",
     "text": [
      "100%|██████████| 50/50 [00:03<00:00, 15.90it/s]\n"
     ]
    },
    {
     "name": "stdout",
     "output_type": "stream",
     "text": [
      "####################\t Episode: 140, Size of MDP:21886, Length of Train Buffer:947, Eval Reward:194.14\t####################\n",
      "Average Reward of collected trajectories:198.4\n",
      "Average Reward of collected trajectories:162.4\n",
      "Average Reward of collected trajectories:140.4\n",
      "Average Reward of collected trajectories:177.8\n"
     ]
    },
    {
     "name": "stderr",
     "output_type": "stream",
     "text": [
      "100%|██████████| 50/50 [00:03<00:00, 15.82it/s]\n"
     ]
    },
    {
     "name": "stdout",
     "output_type": "stream",
     "text": [
      "####################\t Episode: 160, Size of MDP:25288, Length of Train Buffer:888, Eval Reward:193.38\t####################\n",
      "Average Reward of collected trajectories:193.0\n",
      "Average Reward of collected trajectories:195.2\n",
      "Average Reward of collected trajectories:165.2\n",
      "Average Reward of collected trajectories:197.6\n"
     ]
    },
    {
     "name": "stderr",
     "output_type": "stream",
     "text": [
      "100%|██████████| 50/50 [00:03<00:00, 15.90it/s]\n"
     ]
    },
    {
     "name": "stdout",
     "output_type": "stream",
     "text": [
      "####################\t Episode: 180, Size of MDP:29055, Length of Train Buffer:987, Eval Reward:191.42\t####################\n",
      "Average Reward of collected trajectories:181.2\n",
      "Average Reward of collected trajectories:194.0\n",
      "Average Reward of collected trajectories:200.0\n",
      "Average Reward of collected trajectories:199.8\n"
     ]
    },
    {
     "name": "stderr",
     "output_type": "stream",
     "text": [
      "100%|██████████| 50/50 [00:03<00:00, 15.27it/s]\n"
     ]
    },
    {
     "name": "stdout",
     "output_type": "stream",
     "text": [
      "####################\t Episode: 200, Size of MDP:32941, Length of Train Buffer:998, Eval Reward:195.62\t####################\n",
      "Average Reward of collected trajectories:178.2\n",
      "Average Reward of collected trajectories:106.6\n",
      "Average Reward of collected trajectories:200.0\n",
      "Average Reward of collected trajectories:194.6\n"
     ]
    },
    {
     "name": "stderr",
     "output_type": "stream",
     "text": [
      "100%|██████████| 50/50 [00:03<00:00, 15.35it/s]\n"
     ]
    },
    {
     "name": "stdout",
     "output_type": "stream",
     "text": [
      "####################\t Episode: 220, Size of MDP:36346, Length of Train Buffer:972, Eval Reward:193.02\t####################\n",
      "Average Reward of collected trajectories:200.0\n",
      "Average Reward of collected trajectories:189.4\n",
      "Average Reward of collected trajectories:200.0\n",
      "Average Reward of collected trajectories:188.8\n"
     ]
    },
    {
     "name": "stderr",
     "output_type": "stream",
     "text": [
      "100%|██████████| 50/50 [00:03<00:00, 14.32it/s]\n"
     ]
    },
    {
     "name": "stdout",
     "output_type": "stream",
     "text": [
      "####################\t Episode: 240, Size of MDP:40251, Length of Train Buffer:943, Eval Reward:197.88\t####################\n",
      "Average Reward of collected trajectories:187.2\n",
      "Average Reward of collected trajectories:190.2\n",
      "Average Reward of collected trajectories:178.6\n",
      "Average Reward of collected trajectories:191.4\n"
     ]
    },
    {
     "name": "stderr",
     "output_type": "stream",
     "text": [
      "100%|██████████| 50/50 [00:03<00:00, 14.46it/s]\n"
     ]
    },
    {
     "name": "stdout",
     "output_type": "stream",
     "text": [
      "####################\t Episode: 260, Size of MDP:44001, Length of Train Buffer:956, Eval Reward:197.12\t####################\n",
      "Average Reward of collected trajectories:200.0\n",
      "Average Reward of collected trajectories:158.4\n",
      "Average Reward of collected trajectories:197.2\n",
      "Average Reward of collected trajectories:181.4\n"
     ]
    },
    {
     "name": "stderr",
     "output_type": "stream",
     "text": [
      "100%|██████████| 50/50 [00:03<00:00, 12.71it/s]\n"
     ]
    },
    {
     "name": "stdout",
     "output_type": "stream",
     "text": [
      "####################\t Episode: 280, Size of MDP:47698, Length of Train Buffer:906, Eval Reward:197.64\t####################\n",
      "Average Reward of collected trajectories:187.0\n",
      "Average Reward of collected trajectories:200.0\n",
      "Average Reward of collected trajectories:196.8\n",
      "Average Reward of collected trajectories:173.4\n"
     ]
    },
    {
     "name": "stderr",
     "output_type": "stream",
     "text": [
      "100%|██████████| 50/50 [00:03<00:00, 15.22it/s]"
     ]
    },
    {
     "name": "stdout",
     "output_type": "stream",
     "text": [
      "####################\t Episode: 300, Size of MDP:51496, Length of Train Buffer:866, Eval Reward:197.24\t####################\n"
     ]
    },
    {
     "name": "stderr",
     "output_type": "stream",
     "text": [
      "\n"
     ]
    }
   ],
   "source": [
    "eval_reward_data = pd.DataFrame.from_dict({\"Epiodes\":[],\"Performance\":[]})\n",
    "\n",
    "for seed in [0,2,4]:\n",
    "    myAgent =  cpy(newAgent)\n",
    "    print(\"\\n\\n\\n\", \"#\"*30 , f\"\\tSeed {seed} Run\\t\",\"#\"*30 , \"\\n\" )\n",
    "    for i in range(1,61):\n",
    "        train_buffer, info = gather_data_in_buffer(cpy(empty_buffer), env,policy = myAgent.policies[\"eps_optimal\"] if i>1 else myAgent.policies[\"random\"], episode_count=5, frame_count=1000)\n",
    "        myAgent.build_mdp(train_buffer, verbose= False)\n",
    "        \n",
    "        if i%4==0 or i == 1:\n",
    "            eval_reward = evaluate_on_env(env,myAgent.policies[\"optimal\"], eps_count=10,progress_bar=True)[0]\n",
    "            print(\"#\"*20 + f\"\\t Episode: {i*5}, Size of MDP:{np.sum(myAgent.mdp_T.filled_mask)}, Appended transitions:{len(train_buffer)}, Eval Reward:{eval_reward}\\t\" + \"#\"*20)\n",
    "            eval_reward_data.loc[len(eval_reward_data)] = (i*5,eval_reward)\n",
    "        \n"
   ]
  },
  {
   "cell_type": "code",
   "execution_count": 11,
   "metadata": {},
   "outputs": [],
   "source": [
    "import seaborn as sns"
   ]
  },
  {
   "cell_type": "code",
   "execution_count": 14,
   "metadata": {},
   "outputs": [
    {
     "data": {
      "text/plain": [
       "[Text(0.5, 1.0, 'CartPole Performance , Averaged over 3 Seeds \\n solved every 5 episodes, exploration: eps_optimal policy')]"
      ]
     },
     "execution_count": 14,
     "metadata": {},
     "output_type": "execute_result"
    },
    {
     "data": {
      "image/png": "[encoded data removed]",
      "text/plain": [
       "<Figure size 432x288 with 1 Axes>"
      ]
     },
     "metadata": {
      "needs_background": "light"
     },
     "output_type": "display_data"
    }
   ],
   "source": [
    "ax = sns.lineplot(data=eval_reward_data, x = \"Epiodes\", y = \"Performance\")\n",
    "ax.set(title='CartPole Performance , Averaged over 3 Seeds \\n solved every 5 episodes, exploration: eps_optimal policy')\n"
   ]
  },
  {
   "cell_type": "code",
   "execution_count": null,
   "metadata": {},
   "outputs": [],
   "source": []
  },
  {
   "cell_type": "code",
   "execution_count": null,
   "metadata": {},
   "outputs": [],
   "source": []
  }
 ],
 "metadata": {
  "kernelspec": {
   "display_name": "Python 3",
   "language": "python",
   "name": "python3"
  },
  "language_info": {
   "codemirror_mode": {
    "name": "ipython",
    "version": 3
   },
   "file_extension": ".py",
   "mimetype": "text/x-python",
   "name": "python",
   "nbconvert_exporter": "python",
   "pygments_lexer": "ipython3",
   "version": "3.6.12"
  },
  "pycharm": {
   "stem_cell": {
    "cell_type": "raw",
    "metadata": {
     "collapsed": false
    },
    "source": []
   }
  }
 },
 "nbformat": 4,
 "nbformat_minor": 4
}
