{
 "cells": [
  {
   "cell_type": "code",
   "execution_count": 1,
   "metadata": {},
   "outputs": [],
   "source": [
    "import os\n",
    "# import plotly.graph_objects as go\n",
    "from tqdm import tqdm\n",
    "from gym import envs\n",
    "import argparse\n",
    "import numpy as np\n",
    "from bigmdp.data.buffer import StandardBuffer,ReplayBuffer, gather_data_in_buffer, get_iter_indexes\n",
    "from bigmdp.mdp.MDP_GPU import FullMDP\n",
    "from bigmdp.utils.utils_eval import evaluate_on_env\n",
    "from bigmdp.mdp.agent import SimpleAgent\n",
    "from copy import deepcopy as cpy\n",
    "from os import path\n",
    "from arg_def import * \n",
    "import gym\n",
    "from sklearn.neighbors import KDTree\n",
    "from IPython import display\n",
    "import torch\n",
    "import time\n",
    "import copy"
   ]
  },
  {
   "cell_type": "code",
   "execution_count": 2,
   "metadata": {},
   "outputs": [
    {
     "name": "stdout",
     "output_type": "stream",
     "text": [
      "##################################################    envArgs    ##################################################\n",
      "env_name                       : CartPole-v0                    seed                           : 4444\n",
      "###################################################################################################################\n",
      "##################################################    mdpBuildArgs    ##################################################\n",
      "unknown_transition_reward      : -1000                          rmax_reward                    : 10000\n",
      "balanced_exploration           : 0                              rmax_threshold                 : 2\n",
      "MAX_S_COUNT                    : 15000                          def_device                     : GPU\n",
      "fill_with                      : 0Q_src-KNN                     mdp_build_k                    : 5\n",
      "knn_delta                      : 1e-08                          penalty_type                   : linear\n",
      "penalty_beta                   : 1                              filter_with_abstraction        : 0\n",
      "normalize_by_distance          : True                          \n",
      "########################################################################################################################\n",
      "##################################################    mdpSolveArgs    ##################################################\n",
      "gamma                          : 0.99                           slip_probability               : 0.1\n",
      "target_vi_error                : 0.001                          bellman_backup_every           : 100\n",
      "n_backups                      : 10                             policy_k                       : [11]\n",
      "########################################################################################################################\n",
      "##################################################    evalArgs    ##################################################\n",
      "eval_episode_count             : 249                            soft_q                         : False\n",
      "smooth_with_seen               : False                          policy_k                       : [11]\n",
      "####################################################################################################################\n"
     ]
    }
   ],
   "source": [
    "parser, ArgumentDict = get_argument_parser()\n",
    "options = \"--env_name CartPole-v0 --MAX_S_COUNT 15000 --MAX_NS_COUNT 5 --mdp_build_k 5 --policy_k 11 --normalize_by_distance\"\n",
    "args = parser.parse_args(options.split(\" \"))\n",
    "\n",
    "for title, arg_names in ArgumentDict.items():\n",
    "    print_args(args, to_show_args=arg_names, title = title)"
   ]
  },
  {
   "cell_type": "code",
   "execution_count": 3,
   "metadata": {},
   "outputs": [],
   "source": [
    "env = gym.make(args.env_name)"
   ]
  },
  {
   "cell_type": "code",
   "execution_count": 4,
   "metadata": {},
   "outputs": [],
   "source": [
    "train_buffer = ReplayBuffer(state_dim = env.observation_space.shape[0],\n",
    "                           is_atari= False, \n",
    "                           atari_preprocessing= None, \n",
    "                           batch_size=32, \n",
    "                           buffer_size=20000,\n",
    "                           device=\"cpu\")"
   ]
  },
  {
   "cell_type": "code",
   "execution_count": null,
   "metadata": {},
   "outputs": [],
   "source": []
  },
  {
   "cell_type": "code",
   "execution_count": 5,
   "metadata": {},
   "outputs": [],
   "source": [
    "class DummyNet():\n",
    "    def __init__(self, sim, add_noise=False):\n",
    "        self.simulator = sim\n",
    "\n",
    "    def encode_single(self, o):\n",
    "        return tuple(o)\n",
    "\n",
    "    def encode_batch(self, o_batch):\n",
    "        return [tuple(o) for o in o_batch]\n",
    "\n",
    "    def predict_single_transition(self, o, a):\n",
    "        assert False, \"Not Implemented Error\"\n",
    "\n",
    "    def predict_batch_transition(self, o_batch, a_batch):\n",
    "        assert False, \"Not Implemented Error\""
   ]
  },
  {
   "cell_type": "code",
   "execution_count": 6,
   "metadata": {},
   "outputs": [],
   "source": [
    "empty_MDP = FullMDP(A= list(range(env.action_space.n)),\n",
    "                    ur=args.unknown_transition_reward,\n",
    "                    vi_params={\"gamma\":  args.gamma,\n",
    "                               \"slip_prob\": args.slip_probability,\n",
    "                               \"rmax_reward\": args.rmax_reward,\n",
    "                               \"rmax_thres\": args.rmax_threshold,\n",
    "                               \"balanced_explr\": args.balanced_exploration,\n",
    "                              \"rmin\":-1000},\n",
    "                    knn_delta=args.knn_delta,\n",
    "                    MAX_S_COUNT=args.MAX_S_COUNT,\n",
    "                    MAX_NS_COUNT=args.MAX_NS_COUNT,\n",
    "                    default_mode=args.def_device)\n",
    "\n",
    "myAgent =  SimpleAgent(mdp_T= empty_MDP, net = DummyNet(None), fill_with = args.fill_with,\n",
    "                       mdp_build_k = args.mdp_build_k, plcy_k = args.policy_k[0],  \n",
    "                       kNN_on_sa = args.smooth_with_seen, soft_at_plcy = args.soft_q, \n",
    "                       normalize_by_distance= args.normalize_by_distance,\n",
    "                       penalty_type=args.penalty_type, penalty_beta = args.penalty_beta,abstraction_flag=False)\n",
    "\n",
    "# myAgent.build_mdp(train_buffer, verbose= True)"
   ]
  },
  {
   "cell_type": "code",
   "execution_count": 7,
   "metadata": {},
   "outputs": [
    {
     "name": "stderr",
     "output_type": "stream",
     "text": [
      "100%|██████████| 1/1 [00:00<00:00, 321.75it/s]\n",
      "100%|██████████| 105/105 [00:00<00:00, 6118.65it/s]\n",
      "100%|██████████| 212/212 [00:00<00:00, 3336.03it/s]"
     ]
    },
    {
     "name": "stdout",
     "output_type": "stream",
     "text": [
      "Average Reward of collected trajectories:21.2\n",
      "Len of to commit transitions 105\n",
      "ABstraction Faldg False\n",
      "Len of to commit sa pairs 212\n"
     ]
    },
    {
     "name": "stderr",
     "output_type": "stream",
     "text": [
      "\n"
     ]
    },
    {
     "name": "stdout",
     "output_type": "stream",
     "text": [
      "Elapsed Time:0s, VI Error:0.0821991, #Backups: 250\n",
      "Elapsed Time:1s, VI Error:0.00666046, #Backups: 500\n"
     ]
    },
    {
     "name": "stderr",
     "output_type": "stream",
     "text": [
      " 12%|█▏        | 6/50 [00:00<00:00, 57.50it/s]"
     ]
    },
    {
     "name": "stdout",
     "output_type": "stream",
     "text": [
      "Elapsed Time:2s, VI Error:0.00057983, #Backups: 750\n",
      "Time takedn to solve 2.0695133209228516\n"
     ]
    },
    {
     "name": "stderr",
     "output_type": "stream",
     "text": [
      "100%|██████████| 50/50 [00:00<00:00, 61.48it/s]\n",
      "100%|██████████| 1/1 [00:00<00:00, 421.37it/s]\n",
      "100%|██████████| 216/216 [00:00<00:00, 8188.67it/s]\n",
      "100%|██████████| 434/434 [00:00<00:00, 3375.96it/s]\n"
     ]
    },
    {
     "name": "stdout",
     "output_type": "stream",
     "text": [
      "####################\t Episode: 0, Size of MDP:108, Eval Reward:50.26\t####################\n",
      "Average Reward of collected trajectories:22.2\n",
      "Len of to commit transitions 216\n",
      "ABstraction Faldg False\n",
      "Len of to commit sa pairs 434\n",
      "Elapsed Time:0s, VI Error:0.00546265, #Backups: 1000\n"
     ]
    },
    {
     "name": "stderr",
     "output_type": "stream",
     "text": [
      "  8%|▊         | 4/50 [00:00<00:01, 39.54it/s]"
     ]
    },
    {
     "name": "stdout",
     "output_type": "stream",
     "text": [
      "Elapsed Time:1s, VI Error:0.00027466, #Backups: 1250\n",
      "Time takedn to solve 1.1998069286346436\n"
     ]
    },
    {
     "name": "stderr",
     "output_type": "stream",
     "text": [
      "100%|██████████| 50/50 [00:01<00:00, 37.62it/s]\n",
      "100%|██████████| 2/2 [00:00<00:00, 661.46it/s]\n",
      "100%|██████████| 331/331 [00:00<00:00, 18112.39it/s]\n",
      " 58%|█████▊    | 386/664 [00:00<00:00, 3856.11it/s]"
     ]
    },
    {
     "name": "stdout",
     "output_type": "stream",
     "text": [
      "####################\t Episode: 5, Size of MDP:219, Eval Reward:81.24\t####################\n",
      "Average Reward of collected trajectories:23.0\n",
      "Len of to commit transitions 331\n",
      "ABstraction Faldg False\n",
      "Len of to commit sa pairs 664\n"
     ]
    },
    {
     "name": "stderr",
     "output_type": "stream",
     "text": [
      "100%|██████████| 664/664 [00:00<00:00, 3658.20it/s]\n"
     ]
    },
    {
     "name": "stdout",
     "output_type": "stream",
     "text": [
      "Elapsed Time:0s, VI Error:0.00601959, #Backups: 1500\n"
     ]
    },
    {
     "name": "stderr",
     "output_type": "stream",
     "text": [
      "  4%|▍         | 2/50 [00:00<00:03, 14.74it/s]"
     ]
    },
    {
     "name": "stdout",
     "output_type": "stream",
     "text": [
      "Elapsed Time:1s, VI Error:0.00037384, #Backups: 1750\n",
      "Time takedn to solve 1.2228286266326904\n"
     ]
    },
    {
     "name": "stderr",
     "output_type": "stream",
     "text": [
      "100%|██████████| 50/50 [00:02<00:00, 17.24it/s]\n",
      "100%|██████████| 2/2 [00:00<00:00, 638.89it/s]\n",
      "100%|██████████| 456/456 [00:00<00:00, 20368.07it/s]\n",
      " 41%|████      | 377/914 [00:00<00:00, 3769.14it/s]"
     ]
    },
    {
     "name": "stdout",
     "output_type": "stream",
     "text": [
      "####################\t Episode: 10, Size of MDP:334, Eval Reward:177.36\t####################\n",
      "Average Reward of collected trajectories:25.0\n",
      "Len of to commit transitions 456\n",
      "ABstraction Faldg False\n",
      "Len of to commit sa pairs 914\n"
     ]
    },
    {
     "name": "stderr",
     "output_type": "stream",
     "text": [
      "100%|██████████| 914/914 [00:00<00:00, 3454.69it/s]\n"
     ]
    },
    {
     "name": "stdout",
     "output_type": "stream",
     "text": [
      "Elapsed Time:0s, VI Error:0.00102234, #Backups: 2000\n"
     ]
    },
    {
     "name": "stderr",
     "output_type": "stream",
     "text": [
      "  4%|▍         | 2/50 [00:00<00:02, 16.07it/s]"
     ]
    },
    {
     "name": "stdout",
     "output_type": "stream",
     "text": [
      "Elapsed Time:1s, VI Error:9.918e-05, #Backups: 2250\n",
      "Time takedn to solve 1.1410744190216064\n"
     ]
    },
    {
     "name": "stderr",
     "output_type": "stream",
     "text": [
      "100%|██████████| 50/50 [00:03<00:00, 15.39it/s]\n",
      "100%|██████████| 3/3 [00:00<00:00, 636.43it/s]\n",
      "100%|██████████| 555/555 [00:00<00:00, 19906.10it/s]\n",
      " 30%|██▉       | 329/1112 [00:00<00:00, 3277.05it/s]"
     ]
    },
    {
     "name": "stdout",
     "output_type": "stream",
     "text": [
      "####################\t Episode: 15, Size of MDP:459, Eval Reward:200.0\t####################\n",
      "Average Reward of collected trajectories:19.8\n",
      "Len of to commit transitions 555\n",
      "ABstraction Faldg False\n",
      "Len of to commit sa pairs 1112\n"
     ]
    },
    {
     "name": "stderr",
     "output_type": "stream",
     "text": [
      "100%|██████████| 1112/1112 [00:00<00:00, 3351.52it/s]\n",
      "  4%|▍         | 2/50 [00:00<00:03, 15.24it/s]"
     ]
    },
    {
     "name": "stdout",
     "output_type": "stream",
     "text": [
      "Elapsed Time:0s, VI Error:0.00038147, #Backups: 2500\n",
      "Time takedn to solve 0.5700924396514893\n"
     ]
    },
    {
     "name": "stderr",
     "output_type": "stream",
     "text": [
      "100%|██████████| 50/50 [00:03<00:00, 14.60it/s]\n",
      "100%|██████████| 3/3 [00:00<00:00, 786.14it/s]\n",
      "100%|██████████| 668/668 [00:00<00:00, 21140.04it/s]\n",
      " 29%|██▉       | 389/1338 [00:00<00:00, 3886.40it/s]"
     ]
    },
    {
     "name": "stdout",
     "output_type": "stream",
     "text": [
      "####################\t Episode: 20, Size of MDP:558, Eval Reward:198.54\t####################\n",
      "Average Reward of collected trajectories:22.6\n",
      "Len of to commit transitions 668\n",
      "ABstraction Faldg False\n",
      "Len of to commit sa pairs 1338\n"
     ]
    },
    {
     "name": "stderr",
     "output_type": "stream",
     "text": [
      "100%|██████████| 1338/1338 [00:00<00:00, 3553.43it/s]\n",
      "  4%|▍         | 2/50 [00:00<00:02, 16.34it/s]"
     ]
    },
    {
     "name": "stdout",
     "output_type": "stream",
     "text": [
      "Elapsed Time:0s, VI Error:0.0, #Backups: 2750\n",
      "Time takedn to solve 0.570246696472168\n"
     ]
    },
    {
     "name": "stderr",
     "output_type": "stream",
     "text": [
      "100%|██████████| 50/50 [00:03<00:00, 15.09it/s]\n",
      "100%|██████████| 3/3 [00:00<00:00, 614.40it/s]\n",
      "100%|██████████| 744/744 [00:00<00:00, 19760.27it/s]\n",
      " 23%|██▎       | 347/1490 [00:00<00:00, 3459.80it/s]"
     ]
    },
    {
     "name": "stdout",
     "output_type": "stream",
     "text": [
      "####################\t Episode: 25, Size of MDP:671, Eval Reward:200.0\t####################\n",
      "Average Reward of collected trajectories:15.2\n",
      "Len of to commit transitions 744\n",
      "ABstraction Faldg False\n",
      "Len of to commit sa pairs 1490\n"
     ]
    },
    {
     "name": "stderr",
     "output_type": "stream",
     "text": [
      "100%|██████████| 1490/1490 [00:00<00:00, 3365.00it/s]\n",
      "  4%|▍         | 2/50 [00:00<00:02, 16.33it/s]"
     ]
    },
    {
     "name": "stdout",
     "output_type": "stream",
     "text": [
      "Elapsed Time:0s, VI Error:0.0, #Backups: 3000\n",
      "Time takedn to solve 0.5622689723968506\n"
     ]
    },
    {
     "name": "stderr",
     "output_type": "stream",
     "text": [
      "100%|██████████| 50/50 [00:03<00:00, 15.59it/s]\n",
      "100%|██████████| 4/4 [00:00<00:00, 830.23it/s]\n",
      "100%|██████████| 859/859 [00:00<00:00, 22128.70it/s]\n",
      " 22%|██▏       | 386/1720 [00:00<00:00, 3852.24it/s]"
     ]
    },
    {
     "name": "stdout",
     "output_type": "stream",
     "text": [
      "####################\t Episode: 30, Size of MDP:747, Eval Reward:200.0\t####################\n",
      "Average Reward of collected trajectories:23.0\n",
      "Len of to commit transitions 859\n",
      "ABstraction Faldg False\n",
      "Len of to commit sa pairs 1720\n"
     ]
    },
    {
     "name": "stderr",
     "output_type": "stream",
     "text": [
      "100%|██████████| 1720/1720 [00:00<00:00, 3822.46it/s]\n"
     ]
    },
    {
     "name": "stdout",
     "output_type": "stream",
     "text": [
      "Elapsed Time:0s, VI Error:0.00180054, #Backups: 3250\n"
     ]
    },
    {
     "name": "stderr",
     "output_type": "stream",
     "text": [
      "  4%|▍         | 2/50 [00:00<00:02, 16.07it/s]"
     ]
    },
    {
     "name": "stdout",
     "output_type": "stream",
     "text": [
      "Elapsed Time:1s, VI Error:0.00016022, #Backups: 3500\n",
      "Time takedn to solve 1.1762535572052002\n"
     ]
    },
    {
     "name": "stderr",
     "output_type": "stream",
     "text": [
      "100%|██████████| 50/50 [00:03<00:00, 15.28it/s]\n",
      "100%|██████████| 4/4 [00:00<00:00, 772.72it/s]\n",
      "100%|██████████| 942/942 [00:00<00:00, 15679.95it/s]\n",
      " 20%|█▉        | 376/1886 [00:00<00:00, 3758.53it/s]"
     ]
    },
    {
     "name": "stdout",
     "output_type": "stream",
     "text": [
      "####################\t Episode: 35, Size of MDP:862, Eval Reward:200.0\t####################\n",
      "Average Reward of collected trajectories:16.6\n",
      "Len of to commit transitions 942\n",
      "ABstraction Faldg False\n",
      "Len of to commit sa pairs 1886\n"
     ]
    },
    {
     "name": "stderr",
     "output_type": "stream",
     "text": [
      "100%|██████████| 1886/1886 [00:00<00:00, 3774.91it/s]\n",
      "  0%|          | 0/50 [00:00<?, ?it/s]"
     ]
    },
    {
     "name": "stdout",
     "output_type": "stream",
     "text": [
      "Elapsed Time:0s, VI Error:3.052e-05, #Backups: 3750\n",
      "Time takedn to solve 0.5737464427947998\n"
     ]
    },
    {
     "name": "stderr",
     "output_type": "stream",
     "text": [
      "100%|██████████| 50/50 [00:03<00:00, 15.37it/s]\n",
      "100%|██████████| 5/5 [00:00<00:00, 846.58it/s]\n",
      "100%|██████████| 1112/1112 [00:00<00:00, 21210.13it/s]\n",
      " 17%|█▋        | 374/2226 [00:00<00:00, 3739.92it/s]"
     ]
    },
    {
     "name": "stdout",
     "output_type": "stream",
     "text": [
      "####################\t Episode: 40, Size of MDP:945, Eval Reward:200.0\t####################\n",
      "Average Reward of collected trajectories:34.0\n",
      "Len of to commit transitions 1112\n",
      "ABstraction Faldg False\n",
      "Len of to commit sa pairs 2226\n"
     ]
    },
    {
     "name": "stderr",
     "output_type": "stream",
     "text": [
      "100%|██████████| 2226/2226 [00:00<00:00, 3858.03it/s]\n"
     ]
    },
    {
     "name": "stdout",
     "output_type": "stream",
     "text": [
      "Elapsed Time:0s, VI Error:0.00217438, #Backups: 4000\n"
     ]
    },
    {
     "name": "stderr",
     "output_type": "stream",
     "text": [
      "  0%|          | 0/50 [00:00<?, ?it/s]"
     ]
    },
    {
     "name": "stdout",
     "output_type": "stream",
     "text": [
      "Elapsed Time:1s, VI Error:0.00018311, #Backups: 4250\n",
      "Time takedn to solve 1.1389622688293457\n"
     ]
    },
    {
     "name": "stderr",
     "output_type": "stream",
     "text": [
      "100%|██████████| 50/50 [00:03<00:00, 15.07it/s]\n",
      "100%|██████████| 5/5 [00:00<00:00, 776.12it/s]\n",
      "100%|██████████| 1216/1216 [00:00<00:00, 22692.39it/s]\n",
      " 16%|█▌        | 390/2434 [00:00<00:00, 3897.12it/s]"
     ]
    },
    {
     "name": "stdout",
     "output_type": "stream",
     "text": [
      "####################\t Episode: 45, Size of MDP:1115, Eval Reward:200.0\t####################\n",
      "Average Reward of collected trajectories:20.8\n",
      "Len of to commit transitions 1216\n",
      "ABstraction Faldg False\n",
      "Len of to commit sa pairs 2434\n"
     ]
    },
    {
     "name": "stderr",
     "output_type": "stream",
     "text": [
      "100%|██████████| 2434/2434 [00:00<00:00, 3832.02it/s]\n",
      "  0%|          | 0/50 [00:00<?, ?it/s]"
     ]
    },
    {
     "name": "stdout",
     "output_type": "stream",
     "text": [
      "Elapsed Time:0s, VI Error:1.526e-05, #Backups: 4500\n",
      "Time takedn to solve 0.5573644638061523\n"
     ]
    },
    {
     "name": "stderr",
     "output_type": "stream",
     "text": [
      "100%|██████████| 50/50 [00:03<00:00, 15.36it/s]\n",
      "100%|██████████| 6/6 [00:00<00:00, 958.92it/s]\n",
      "100%|██████████| 1317/1317 [00:00<00:00, 22488.97it/s]\n",
      " 15%|█▌        | 399/2636 [00:00<00:00, 3983.57it/s]"
     ]
    },
    {
     "name": "stdout",
     "output_type": "stream",
     "text": [
      "####################\t Episode: 50, Size of MDP:1219, Eval Reward:200.0\t####################\n",
      "Average Reward of collected trajectories:20.2\n",
      "Len of to commit transitions 1317\n",
      "ABstraction Faldg False\n",
      "Len of to commit sa pairs 2636\n"
     ]
    },
    {
     "name": "stderr",
     "output_type": "stream",
     "text": [
      "100%|██████████| 2636/2636 [00:00<00:00, 3803.21it/s]\n",
      "  0%|          | 0/50 [00:00<?, ?it/s]"
     ]
    },
    {
     "name": "stdout",
     "output_type": "stream",
     "text": [
      "Elapsed Time:0s, VI Error:2.289e-05, #Backups: 4750\n",
      "Time takedn to solve 0.5570847988128662\n"
     ]
    },
    {
     "name": "stderr",
     "output_type": "stream",
     "text": [
      "100%|██████████| 50/50 [00:03<00:00, 15.28it/s]\n",
      "100%|██████████| 6/6 [00:00<00:00, 688.36it/s]\n",
      "100%|██████████| 1402/1402 [00:00<00:00, 21933.09it/s]\n",
      "  0%|          | 0/2806 [00:00<?, ?it/s]"
     ]
    },
    {
     "name": "stdout",
     "output_type": "stream",
     "text": [
      "####################\t Episode: 55, Size of MDP:1320, Eval Reward:200.0\t####################\n",
      "Average Reward of collected trajectories:17.0\n",
      "Len of to commit transitions 1402\n",
      "ABstraction Faldg False\n",
      "Len of to commit sa pairs 2806\n"
     ]
    },
    {
     "name": "stderr",
     "output_type": "stream",
     "text": [
      "100%|██████████| 2806/2806 [00:00<00:00, 3684.54it/s]\n",
      "  0%|          | 0/50 [00:00<?, ?it/s]"
     ]
    },
    {
     "name": "stdout",
     "output_type": "stream",
     "text": [
      "Elapsed Time:0s, VI Error:0.0, #Backups: 5000\n",
      "Time takedn to solve 0.5824873447418213\n"
     ]
    },
    {
     "name": "stderr",
     "output_type": "stream",
     "text": [
      "100%|██████████| 50/50 [00:03<00:00, 15.35it/s]\n",
      "100%|██████████| 6/6 [00:00<00:00, 731.39it/s]\n",
      "100%|██████████| 1483/1483 [00:00<00:00, 22665.88it/s]\n",
      " 12%|█▏        | 361/2968 [00:00<00:00, 3606.98it/s]"
     ]
    },
    {
     "name": "stdout",
     "output_type": "stream",
     "text": [
      "####################\t Episode: 60, Size of MDP:1405, Eval Reward:200.0\t####################\n",
      "Average Reward of collected trajectories:16.2\n",
      "Len of to commit transitions 1483\n",
      "ABstraction Faldg False\n",
      "Len of to commit sa pairs 2968\n"
     ]
    },
    {
     "name": "stderr",
     "output_type": "stream",
     "text": [
      "100%|██████████| 2968/2968 [00:00<00:00, 3718.42it/s]\n",
      "  0%|          | 0/50 [00:00<?, ?it/s]"
     ]
    },
    {
     "name": "stdout",
     "output_type": "stream",
     "text": [
      "Elapsed Time:0s, VI Error:7.63e-06, #Backups: 5250\n",
      "Time takedn to solve 0.6089859008789062\n"
     ]
    },
    {
     "name": "stderr",
     "output_type": "stream",
     "text": [
      "100%|██████████| 50/50 [00:03<00:00, 15.00it/s]\n",
      "100%|██████████| 7/7 [00:00<00:00, 910.53it/s]\n",
      "100%|██████████| 1673/1673 [00:00<00:00, 22089.74it/s]\n",
      " 11%|█▏        | 380/3348 [00:00<00:00, 3796.59it/s]"
     ]
    },
    {
     "name": "stdout",
     "output_type": "stream",
     "text": [
      "####################\t Episode: 65, Size of MDP:1486, Eval Reward:200.0\t####################\n",
      "Average Reward of collected trajectories:38.0\n",
      "Len of to commit transitions 1673\n",
      "ABstraction Faldg False\n",
      "Len of to commit sa pairs 3348\n"
     ]
    },
    {
     "name": "stderr",
     "output_type": "stream",
     "text": [
      "100%|██████████| 3348/3348 [00:00<00:00, 3756.80it/s]\n",
      "  0%|          | 0/50 [00:00<?, ?it/s]"
     ]
    },
    {
     "name": "stdout",
     "output_type": "stream",
     "text": [
      "Elapsed Time:0s, VI Error:1.526e-05, #Backups: 5500\n",
      "Time takedn to solve 0.5567700862884521\n"
     ]
    },
    {
     "name": "stderr",
     "output_type": "stream",
     "text": [
      "100%|██████████| 50/50 [00:03<00:00, 15.33it/s]\n",
      "100%|██████████| 7/7 [00:00<00:00, 711.54it/s]\n",
      "100%|██████████| 1746/1746 [00:00<00:00, 22784.92it/s]\n",
      "  0%|          | 0/3494 [00:00<?, ?it/s]"
     ]
    },
    {
     "name": "stdout",
     "output_type": "stream",
     "text": [
      "####################\t Episode: 70, Size of MDP:1676, Eval Reward:200.0\t####################\n",
      "Average Reward of collected trajectories:14.6\n",
      "Len of to commit transitions 1746\n",
      "ABstraction Faldg False\n",
      "Len of to commit sa pairs 3494\n"
     ]
    },
    {
     "name": "stderr",
     "output_type": "stream",
     "text": [
      "100%|██████████| 3494/3494 [00:00<00:00, 3769.66it/s]\n",
      "  0%|          | 0/50 [00:00<?, ?it/s]"
     ]
    },
    {
     "name": "stdout",
     "output_type": "stream",
     "text": [
      "Elapsed Time:0s, VI Error:0.0, #Backups: 5750\n",
      "Time takedn to solve 0.5878043174743652\n"
     ]
    },
    {
     "name": "stderr",
     "output_type": "stream",
     "text": [
      "100%|██████████| 50/50 [00:03<00:00, 14.80it/s]\n",
      "100%|██████████| 8/8 [00:00<00:00, 129.15it/s]\n",
      "100%|██████████| 1853/1853 [00:00<00:00, 17608.63it/s]\n",
      "  0%|          | 0/3708 [00:00<?, ?it/s]"
     ]
    },
    {
     "name": "stdout",
     "output_type": "stream",
     "text": [
      "####################\t Episode: 75, Size of MDP:1749, Eval Reward:200.0\t####################\n",
      "Average Reward of collected trajectories:21.4\n",
      "Len of to commit transitions 1853\n",
      "ABstraction Faldg False\n",
      "Len of to commit sa pairs 3708\n"
     ]
    },
    {
     "name": "stderr",
     "output_type": "stream",
     "text": [
      "100%|██████████| 3708/3708 [00:01<00:00, 3624.91it/s]\n",
      "  0%|          | 0/50 [00:00<?, ?it/s]"
     ]
    },
    {
     "name": "stdout",
     "output_type": "stream",
     "text": [
      "Elapsed Time:0s, VI Error:5.341e-05, #Backups: 6000\n",
      "Time takedn to solve 0.556251049041748\n"
     ]
    },
    {
     "name": "stderr",
     "output_type": "stream",
     "text": [
      "100%|██████████| 50/50 [00:03<00:00, 14.14it/s]\n",
      "100%|██████████| 8/8 [00:00<00:00, 387.72it/s]\n",
      "100%|██████████| 1936/1936 [00:00<00:00, 21544.35it/s]\n",
      "  0%|          | 0/3874 [00:00<?, ?it/s]"
     ]
    },
    {
     "name": "stdout",
     "output_type": "stream",
     "text": [
      "####################\t Episode: 80, Size of MDP:1856, Eval Reward:200.0\t####################\n",
      "Average Reward of collected trajectories:16.6\n",
      "Len of to commit transitions 1936\n",
      "ABstraction Faldg False\n",
      "Len of to commit sa pairs 3874\n"
     ]
    },
    {
     "name": "stderr",
     "output_type": "stream",
     "text": [
      "100%|██████████| 3874/3874 [00:01<00:00, 3668.60it/s]\n",
      "  0%|          | 0/50 [00:00<?, ?it/s]"
     ]
    },
    {
     "name": "stdout",
     "output_type": "stream",
     "text": [
      "Elapsed Time:0s, VI Error:2.289e-05, #Backups: 6250\n",
      "Time takedn to solve 0.5774431228637695\n"
     ]
    },
    {
     "name": "stderr",
     "output_type": "stream",
     "text": [
      "100%|██████████| 50/50 [00:03<00:00, 14.66it/s]\n",
      "100%|██████████| 8/8 [00:00<00:00, 441.76it/s]\n",
      "100%|██████████| 2003/2003 [00:00<00:00, 21553.67it/s]\n",
      "  0%|          | 0/4008 [00:00<?, ?it/s]"
     ]
    },
    {
     "name": "stdout",
     "output_type": "stream",
     "text": [
      "####################\t Episode: 85, Size of MDP:1939, Eval Reward:200.0\t####################\n",
      "Average Reward of collected trajectories:13.4\n",
      "Len of to commit transitions 2003\n",
      "ABstraction Faldg False\n",
      "Len of to commit sa pairs 4008\n"
     ]
    },
    {
     "name": "stderr",
     "output_type": "stream",
     "text": [
      "100%|██████████| 4008/4008 [00:01<00:00, 3760.12it/s]\n",
      "  0%|          | 0/50 [00:00<?, ?it/s]"
     ]
    },
    {
     "name": "stdout",
     "output_type": "stream",
     "text": [
      "Elapsed Time:0s, VI Error:1.526e-05, #Backups: 6500\n",
      "Time takedn to solve 0.5807526111602783\n"
     ]
    },
    {
     "name": "stderr",
     "output_type": "stream",
     "text": [
      "100%|██████████| 50/50 [00:03<00:00, 14.49it/s]\n",
      "100%|██████████| 9/9 [00:00<00:00, 844.43it/s]\n",
      "100%|██████████| 2215/2215 [00:00<00:00, 21237.93it/s]\n",
      "  0%|          | 0/4432 [00:00<?, ?it/s]"
     ]
    },
    {
     "name": "stdout",
     "output_type": "stream",
     "text": [
      "####################\t Episode: 90, Size of MDP:2006, Eval Reward:200.0\t####################\n",
      "Average Reward of collected trajectories:42.4\n",
      "Len of to commit transitions 2215\n",
      "ABstraction Faldg False\n",
      "Len of to commit sa pairs 4432\n"
     ]
    },
    {
     "name": "stderr",
     "output_type": "stream",
     "text": [
      "100%|██████████| 4432/4432 [00:01<00:00, 3679.86it/s]\n"
     ]
    },
    {
     "name": "stdout",
     "output_type": "stream",
     "text": [
      "Elapsed Time:0s, VI Error:0.00022125, #Backups: 6750\n",
      "Time takedn to solve 0.6390211582183838\n"
     ]
    },
    {
     "name": "stderr",
     "output_type": "stream",
     "text": [
      "100%|██████████| 50/50 [00:03<00:00, 14.97it/s]"
     ]
    },
    {
     "name": "stdout",
     "output_type": "stream",
     "text": [
      "####################\t Episode: 95, Size of MDP:2218, Eval Reward:200.0\t####################\n"
     ]
    },
    {
     "name": "stderr",
     "output_type": "stream",
     "text": [
      "\n"
     ]
    }
   ],
   "source": [
    "eval_rewards = []\n",
    "for i in range(20):\n",
    "    train_buffer, info = gather_data_in_buffer(train_buffer, env,policy = lambda s:np.random.randint(2), episode_count=5, frame_count=1000)\n",
    "    myAgent.build_mdp(train_buffer, verbose= False)\n",
    "    eval_reward = evaluate_on_env(env,myAgent.policies[\"optimal\"], eps_count=50,progress_bar=True)[0]\n",
    "    eval_rewards.append(eval_reward)\n",
    "    print(\"#\"*20 + f\"\\t Episode: {i*5}, Size of MDP:{np.sum(myAgent.mdp_T.filled_mask)}, Eval Reward:{eval_reward}\\t\" + \"#\"*20)\n",
    "        \n"
   ]
  },
  {
   "cell_type": "code",
   "execution_count": null,
   "metadata": {},
   "outputs": [],
   "source": []
  }
 ],
 "metadata": {
  "kernelspec": {
   "display_name": "Python 3",
   "language": "python",
   "name": "python3"
  },
  "language_info": {
   "codemirror_mode": {
    "name": "ipython",
    "version": 3
   },
   "file_extension": ".py",
   "mimetype": "text/x-python",
   "name": "python",
   "nbconvert_exporter": "python",
   "pygments_lexer": "ipython3",
   "version": "3.6.12"
  },
  "pycharm": {
   "stem_cell": {
    "cell_type": "raw",
    "metadata": {
     "collapsed": false
    },
    "source": []
   }
  }
 },
 "nbformat": 4,
 "nbformat_minor": 4
}
