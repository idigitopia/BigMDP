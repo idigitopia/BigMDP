{
 "cells": [
  {
   "cell_type": "code",
   "execution_count": 1,
   "metadata": {},
   "outputs": [],
   "source": [
    "import os\n",
    "# import plotly.graph_objects as go\n",
    "from tqdm import tqdm\n",
    "from gym import envs\n",
    "import argparse\n",
    "import numpy as np\n",
    "from bigmdp.data.buffer import StandardBuffer,ReplayBuffer, gather_data_in_buffer, get_iter_indexes\n",
    "from bigmdp.mdp.MDP_GPU import FullMDP\n",
    "from bigmdp.mdp.MDP_GPU_bkp import FullMDP as FullMDP_bkp\n",
    "\n",
    "from bigmdp.utils.utils_eval import evaluate_on_env\n",
    "from bigmdp.mdp.agent import SimpleAgent\n",
    "from bigmdp.mdp.agent_bkp import SimpleAgent as SimpleAgent_bkp\n",
    "from copy import deepcopy as cpy\n",
    "from os import path\n",
    "from arg_def import * \n",
    "import gym\n",
    "from sklearn.neighbors import KDTree\n",
    "from IPython import display\n",
    "import torch\n",
    "import time\n",
    "import copy \n",
    "from collections import defaultdict\n",
    "import heapq\n",
    "from bigmdp.mdp.MDP_GPU import init2zero, init2zero_def_dict,init2zero_def_def_dict"
   ]
  },
  {
   "cell_type": "code",
   "execution_count": 2,
   "metadata": {},
   "outputs": [],
   "source": [
    "parser, ArgumentDict = get_argument_parser()\n",
    "options = \"--env_name CartPole-v0 --action_repeat 1 --max_episode_length 200 --MAX_S_COUNT 12000 --MAX_NS_COUNT 5 --mdp_build_k 5 --normalize_by_distance\"\n",
    "args = parser.parse_args(options.split(\" \"))\n"
   ]
  },
  {
   "cell_type": "code",
   "execution_count": 3,
   "metadata": {},
   "outputs": [],
   "source": [
    "from image_wrappers import *\n",
    "env = gym.make(args.env_name)"
   ]
  },
  {
   "cell_type": "code",
   "execution_count": 4,
   "metadata": {},
   "outputs": [],
   "source": [
    "train_buffer = ReplayBuffer(state_dim = env.observation_space.shape[0],\n",
    "                           is_atari= False, \n",
    "                           atari_preprocessing= None, \n",
    "                           batch_size=32, \n",
    "                           buffer_size=20000,\n",
    "                           device=\"cpu\")"
   ]
  },
  {
   "cell_type": "code",
   "execution_count": 5,
   "metadata": {},
   "outputs": [
    {
     "name": "stdout",
     "output_type": "stream",
     "text": [
      "Average Reward of collected trajectories:22.781\n"
     ]
    }
   ],
   "source": [
    "train_buffer, info = gather_data_in_buffer(train_buffer, env,policy = lambda s:np.random.randint(2), episode_count=99999, frame_count=10000)"
   ]
  },
  {
   "cell_type": "code",
   "execution_count": 6,
   "metadata": {},
   "outputs": [],
   "source": [
    "class DummyNet():\n",
    "    def __init__(self, sim, add_noise=False):\n",
    "        self.simulator = sim\n",
    "        self.use_cuda = False\n",
    "#         self.add_noise = add_noise\n",
    "\n",
    "    def encode_single(self, o):\n",
    "        return tuple(o)\n",
    "\n",
    "    def encode_batch(self, o_batch):\n",
    "        return [tuple(o) for o in o_batch]\n",
    "\n",
    "    def predict_single_transition(self, o, a):\n",
    "        return False\n",
    "\n",
    "    def predict_batch_transition(self, o_batch, a_batch):\n",
    "        return False\n"
   ]
  },
  {
   "cell_type": "code",
   "execution_count": null,
   "metadata": {},
   "outputs": [],
   "source": []
  },
  {
   "cell_type": "code",
   "execution_count": null,
   "metadata": {},
   "outputs": [],
   "source": []
  },
  {
   "cell_type": "code",
   "execution_count": 7,
   "metadata": {},
   "outputs": [
    {
     "name": "stderr",
     "output_type": "stream",
     "text": [
      "100%|██████████| 40/40 [00:00<00:00, 848.98it/s]\n",
      " 20%|█▉        | 1954/10000 [00:00<00:00, 19531.17it/s]"
     ]
    },
    {
     "name": "stdout",
     "output_type": "stream",
     "text": [
      "Step 1 (Parse Transitions):  Running\n",
      "Step 1 [Parse Transitions]:  Complete,  Time Elapsed: 0.0509951114654541\n",
      "\n",
      "\n",
      "Step 2 [Seed Seen Transitions + Unknown (s,a) pairs]:  Running\n",
      "Len of to commit transitions 10000\n",
      "ABstraction Faldg False\n"
     ]
    },
    {
     "name": "stderr",
     "output_type": "stream",
     "text": [
      "100%|██████████| 10000/10000 [00:00<00:00, 18005.00it/s]\n",
      "  2%|▏         | 384/20002 [00:00<00:05, 3833.20it/s]"
     ]
    },
    {
     "name": "stdout",
     "output_type": "stream",
     "text": [
      "Len of to commit sa pairs 20002\n",
      "Step 2 (Commit Seen Transitions):  Complete,  Time Elapsed: 0.6031379699707031 \n",
      "\n",
      "\n",
      "Step 3 [Commit all Transitions]:  Running\n"
     ]
    },
    {
     "name": "stderr",
     "output_type": "stream",
     "text": [
      "100%|██████████| 20002/20002 [00:05<00:00, 3833.99it/s]\n"
     ]
    },
    {
     "name": "stdout",
     "output_type": "stream",
     "text": [
      "Step 3 (Commit UnSeen Transitions):  Complete,  Time Elapsed: 5.219402551651001\n",
      "Step 4 [Solve MDP]:  Running\n",
      "Elapsed Time:1s, VI Error:0.08259583, #Backups: 250\n",
      "Elapsed Time:2s, VI Error:0.0067215, #Backups: 500\n",
      "Elapsed Time:2s, VI Error:0.00058746, #Backups: 750\n",
      "Time takedn to solve 2.744408369064331\n",
      "% of missing transitions 0.0\n",
      "Step 4 [Solve MDP]:  Complete,  Time Elapsed: 3.8254377841949463\n",
      "\n",
      "\n"
     ]
    }
   ],
   "source": [
    "\n",
    "empty_MDP = FullMDP(A= list(range(env.action_space.n)),\n",
    "                    ur=args.unknown_transition_reward,\n",
    "                    vi_params={\"gamma\":  args.gamma,\n",
    "                               \"slip_prob\": args.slip_probability,\n",
    "                               \"rmax_reward\": args.rmax_reward,\n",
    "                               \"rmax_thres\": args.rmax_threshold,\n",
    "                               \"balanced_explr\": args.balanced_exploration,\n",
    "                              \"rmin\":-1000},\n",
    "                    mdp_params={\"weight_transitions\": args.weight_transitions,\n",
    "                            \"mdp_build_k\":args.mdp_build_k,\n",
    "                            \"plcy_lift_k\": 1,\n",
    "                            \"knn_delta\" : args.knn_delta,\n",
    "                            \"calc_action_vector\":False,\n",
    "                            \"penalty_beta\":args.penalty_beta,\n",
    "                            \"penalize_unknown_transitions\": args.penalty_type != \"none\"\n",
    "                            },\n",
    "                    MAX_S_COUNT= args.MAX_S_COUNT,\n",
    "                    MAX_NS_COUNT= args.MAX_NS_COUNT,\n",
    "                    default_mode=args.def_device)\n",
    "\n",
    "myAgent =  SimpleAgent(empty_MDP, net = DummyNet(None),  fill_with = args.fill_with,\n",
    "                       sample_neighbors = False, pred_error_threshold = args.within_radius,\n",
    "                       penalty_type=args.penalty_type, penalty_beta = args.penalty_beta,\n",
    "                       abstraction_flag=False, normalize_by_distance= args.normalize_by_distance)\n",
    "\n",
    "mdp_id = \"L[{}]-E[{}]-B[{}]-Fill[{}_K{}]-Penalty[{}_{}]\".format(args.latent_type, args.encoder_type, args.bottleneck_size, \n",
    "                                                          args.fill_with, args.mdp_build_k, args.penalty_type, args.penalty_beta)\n",
    "\n",
    "myAgent.build_mdp(train_buffer)\n",
    "# build_mdp(myAgent,train_buffer)\n"
   ]
  },
  {
   "cell_type": "code",
   "execution_count": 8,
   "metadata": {},
   "outputs": [],
   "source": [
    "# empty_MDP_bkp.tranidxMatrix_cpu = empty_MDP.tranidxMatrix_cpu \n",
    "# empty_MDP_bkp.tranProbMatrix_cpu = empty_MDP.tranProbMatrix_cpu \n",
    "# empty_MDP_bkp.rewardCountMatrix_cpu = empty_MDP.rewardCountMatrix_cpu \n",
    "# empty_MDP_bkp.rewardMatrix_cpu = empty_MDP.rewardMatrix_cpu \n"
   ]
  },
  {
   "cell_type": "code",
   "execution_count": 9,
   "metadata": {},
   "outputs": [],
   "source": [
    "# empty_MDP_bkp.solve()"
   ]
  },
  {
   "cell_type": "code",
   "execution_count": 10,
   "metadata": {},
   "outputs": [],
   "source": [
    "# empty_MDP_bkp.valueDict"
   ]
  },
  {
   "cell_type": "code",
   "execution_count": 11,
   "metadata": {},
   "outputs": [
    {
     "name": "stderr",
     "output_type": "stream",
     "text": [
      "100%|██████████| 40/40 [00:00<00:00, 684.24it/s]\n",
      "  7%|▋         | 721/10000 [00:00<00:01, 7203.53it/s]"
     ]
    },
    {
     "name": "stdout",
     "output_type": "stream",
     "text": [
      "Step 1 (Parse Transitions):  Running\n",
      "Step 1 [Parse Transitions]:  Complete,  Time Elapsed: 0.0613255500793457\n",
      "\n",
      "\n",
      "Step 2 [Seed Seen Transitions + Unknown (s,a) pairs]:  Running\n",
      "Len of to commit transitions 10000\n",
      "ABstraction Faldg False\n"
     ]
    },
    {
     "name": "stderr",
     "output_type": "stream",
     "text": [
      "100%|██████████| 10000/10000 [00:01<00:00, 6513.23it/s]\n",
      "  2%|▏         | 327/20002 [00:00<00:06, 3265.28it/s]"
     ]
    },
    {
     "name": "stdout",
     "output_type": "stream",
     "text": [
      "Len of to commit sa pairs 20002\n",
      "Step 2 (Commit Seen Transitions):  Complete,  Time Elapsed: 1.5845236778259277 \n",
      "\n",
      "\n",
      "Step 3 [Commit all Transitions]:  Running\n"
     ]
    },
    {
     "name": "stderr",
     "output_type": "stream",
     "text": [
      "100%|██████████| 20002/20002 [00:06<00:00, 3301.30it/s]\n"
     ]
    },
    {
     "name": "stdout",
     "output_type": "stream",
     "text": [
      "Step 3 (Commit UnSeen Transitions):  Complete,  Time Elapsed: 6.06307315826416\n",
      "Step 4 [Solve MDP]:  Running\n",
      "Elapsed Time:0s, VI Error:0.0825882, #Backups: 250\n",
      "Elapsed Time:1s, VI Error:0.0067215, #Backups: 500\n",
      "Elapsed Time:1s, VI Error:0.00059509, #Backups: 750\n",
      "Time takedn to solve 1.825568675994873\n",
      "% of missing transitions 0.0\n",
      "Step 4 [Solve MDP]:  Complete,  Time Elapsed: 2.1918575763702393\n",
      "\n",
      "\n"
     ]
    }
   ],
   "source": [
    "\n",
    "empty_MDP_bkp = FullMDP_bkp(A= list(range(env.action_space.n)),\n",
    "                    ur=args.unknown_transition_reward,\n",
    "                    vi_params={\"gamma\":  args.gamma,\n",
    "                               \"slip_prob\": args.slip_probability,\n",
    "                               \"rmax_reward\": args.rmax_reward,\n",
    "                               \"rmax_thres\": args.rmax_threshold,\n",
    "                               \"balanced_explr\": args.balanced_exploration,\n",
    "                              \"rmin\":-1000},\n",
    "                    mdp_params={\"weight_transitions\": args.weight_transitions,\n",
    "                            \"mdp_build_k\":args.mdp_build_k,\n",
    "                            \"plcy_lift_k\": 1,\n",
    "                            \"knn_delta\" : args.knn_delta,\n",
    "                            \"calc_action_vector\":False,\n",
    "                            \"penalty_beta\":args.penalty_beta,\n",
    "                            \"penalize_unknown_transitions\": args.penalty_type != \"none\"\n",
    "                            },\n",
    "                    MAX_S_COUNT= args.MAX_S_COUNT,\n",
    "                    MAX_NS_COUNT= args.MAX_NS_COUNT,\n",
    "                    default_mode=args.def_device)\n",
    "\n",
    "myAgent_bkp =  SimpleAgent_bkp(empty_MDP_bkp, net = DummyNet(None),  fill_with = args.fill_with,\n",
    "                       sample_neighbors = False, pred_error_threshold = args.within_radius,\n",
    "                       penalty_type=args.penalty_type, penalty_beta = args.penalty_beta,\n",
    "                       abstraction_flag=False, normalize_by_distance= args.normalize_by_distance)\n",
    "\n",
    "mdp_id = \"L[{}]-E[{}]-B[{}]-Fill[{}_K{}]-Penalty[{}_{}]\".format(args.latent_type, args.encoder_type, args.bottleneck_size, \n",
    "                                                          args.fill_with, args.mdp_build_k, args.penalty_type, args.penalty_beta)\n",
    "\n",
    "myAgent_bkp.build_mdp(train_buffer)\n",
    "# build_mdp(myAgent,train_buffer)\n"
   ]
  },
  {
   "cell_type": "code",
   "execution_count": 13,
   "metadata": {},
   "outputs": [],
   "source": [
    "# empty_MDP.valueDict"
   ]
  },
  {
   "cell_type": "code",
   "execution_count": 14,
   "metadata": {},
   "outputs": [],
   "source": [
    "# empty_MDP_bkp.valueDict"
   ]
  },
  {
   "cell_type": "code",
   "execution_count": 78,
   "metadata": {},
   "outputs": [],
   "source": [
    "empty_MDP_bkp.tranidxMatrix_cpu = empty_MDP.tranidxMatrix_cpu.astype(\"float32\")\n",
    "empty_MDP_bkp.tranProbMatrix_cpu = empty_MDP.tranProbMatrix_cpu \n",
    "# empty_MDP_bkp.rewardCountMatrix_cpu = empty_MDP.rewardCountMatrix_cpu \n",
    "empty_MDP_bkp.rewardMatrix_cpu = empty_MDP.rewardMatrix_cpu \n"
   ]
  },
  {
   "cell_type": "code",
   "execution_count": 79,
   "metadata": {},
   "outputs": [],
   "source": [
    "# for s in empty_MDP.tD:\n",
    "#     for a in empty_MDP.tD[s]:\n",
    "#         print(empty_MDP.s2i[s],a)\n",
    "#         ns_tuples = [(empty_MDP.s2i[ns],round(empty_MDP.tD[s][a][ns],2), round(empty_MDP.rD[s][a][ns],2)) for ns in empty_MDP.tD[s][a]]\n",
    "#         print(\"\\t\", ns_tuples)\n",
    "#         ns_tuples = [(empty_MDP_bkp.s2idx[ns],round(empty_MDP_bkp.tD[s][a][ns],2), round(empty_MDP_bkp.rD[s][a],2)) for ns in empty_MDP_bkp.tD[s][a]]\n",
    "#         print(\"\\t\", ns_tuples)"
   ]
  },
  {
   "cell_type": "code",
   "execution_count": 80,
   "metadata": {},
   "outputs": [],
   "source": [
    "# for s_i in range(50):\n",
    "#     for a_i in range(2):\n",
    "#         print(empty_MDP_bkp.tranidxMatrix_cpu[a_i,s_i],empty_MDP.tranidxMatrix_cpu[a_i,s_i])\n",
    "#         print()        "
   ]
  },
  {
   "cell_type": "code",
   "execution_count": null,
   "metadata": {},
   "outputs": [],
   "source": []
  },
  {
   "cell_type": "code",
   "execution_count": null,
   "metadata": {},
   "outputs": [],
   "source": []
  },
  {
   "cell_type": "code",
   "execution_count": 81,
   "metadata": {},
   "outputs": [],
   "source": [
    "empty_MDP_bkp.do_optimal_backup(mode = \"GPU\",n_backups=250)"
   ]
  },
  {
   "cell_type": "code",
   "execution_count": 82,
   "metadata": {},
   "outputs": [
    {
     "data": {
      "text/plain": [
       "{'unknown_state': 0.0,\n",
       " 'end_state': 0.0,\n",
       " (0.013242853, 0.027749438, -0.010012642, 0.03907717): 97.0296401977539,\n",
       " (0.013797842, 0.22301352, -0.009231098, -0.25674796): 96.99964141845703,\n",
       " (0.018258113, 0.41826606, -0.014366058, -0.55232817): 96.9693374633789,\n",
       " (0.026623433, 0.22334877, -0.025412621, -0.26420587): 96.93872833251953,\n",
       " (0.031090409, 0.028598582, -0.030696739, 0.020354565): 96.9078140258789,\n",
       " (0.031662382, 0.224147, -0.030289646, -0.2818533): 96.87657928466797,\n",
       " (0.036145322, 0.41968763, -0.035926715, -0.5839335): 96.84503173828125,\n",
       " (0.04453907, 0.22508688, -0.047605384, -0.30278093): 96.81316375732422,\n",
       " (0.04904081, 0.42085385, -0.053661, -0.61008936): 96.78097534179688,\n",
       " (0.057457887, 0.22652142, -0.06586279, -0.33477908): 96.74846649169922,\n",
       " (0.061988316, 0.4225159, -0.07255837, -0.64748305): 96.71562194824219,\n",
       " (0.07043863, 0.61856973, -0.08550803, -0.9621035): 96.68244934082031,\n",
       " (0.08281003, 0.42469448, -0.1047501, -0.69746184): 96.64894104003906,\n",
       " (0.091303915, 0.23116902, -0.118699335, -0.43950504): 96.61509704589844,\n",
       " (0.0959273, 0.037909437, -0.12748943, -0.18647116): 96.5809097290039,\n",
       " (0.096685484, -0.1551798, -0.13121887, 0.06343163): 96.54637908935547,\n",
       " (0.09358189, -0.3482001, -0.12995023, 0.31200534): 96.5114974975586,\n",
       " (0.08661789, -0.1514894, -0.12371012, -0.018670755): 96.47627258300781,\n",
       " (0.0835881, 0.045169532, -0.124083534, -0.34768283): 96.44068145751953,\n",
       " (0.08449149, 0.2418178, -0.13103719, -0.6767744): 96.390869140625,\n",
       " (0.08932785, 0.048736498, -0.14457268, -0.42805016): 96.35441589355469,\n",
       " (0.09030258, 0.24557836, -0.15313369, -0.7625891): 96.31758880615234,\n",
       " (0.09521414, 0.052859955, -0.16838546, -0.52173984): 96.28040313720703,\n",
       " (0.09627134, 0.24990195, -0.17882027, -0.86239433): 96.22669982910156,\n",
       " (0.10126938, 0.057606317, -0.19606815, -0.6308437): 96.18858337402344,\n",
       " (0.10242151, 0.2548453, -0.20868503, -0.978309): 96.15009307861328}"
      ]
     },
     "execution_count": 82,
     "metadata": {},
     "output_type": "execute_result"
    }
   ],
   "source": [
    "empty_MDP_bkp.valueDict"
   ]
  },
  {
   "cell_type": "code",
   "execution_count": 57,
   "metadata": {},
   "outputs": [
    {
     "data": {
      "text/plain": [
       "array([[1.        , 0.        , 0.        , 0.        , 0.        ],\n",
       "       [0.39795917, 0.33673468, 0.15306123, 0.08163265, 0.03061225]],\n",
       "      dtype=float32)"
      ]
     },
     "execution_count": 57,
     "metadata": {},
     "output_type": "execute_result"
    }
   ],
   "source": [
    "empty_MDP.tranProbMatrix_cpu[:,5]"
   ]
  },
  {
   "cell_type": "code",
   "execution_count": 26,
   "metadata": {},
   "outputs": [
    {
     "data": {
      "text/plain": [
       "array([1.], dtype=float32)"
      ]
     },
     "execution_count": 26,
     "metadata": {},
     "output_type": "execute_result"
    }
   ],
   "source": [
    "empty_MDP.vD_cpu[5]"
   ]
  },
  {
   "cell_type": "code",
   "execution_count": 27,
   "metadata": {},
   "outputs": [
    {
     "data": {
      "text/plain": [
       "array([1.], dtype=float32)"
      ]
     },
     "execution_count": 27,
     "metadata": {},
     "output_type": "execute_result"
    }
   ],
   "source": [
    "empty_MDP.vD_gpu[5]"
   ]
  },
  {
   "cell_type": "code",
   "execution_count": 10,
   "metadata": {},
   "outputs": [
    {
     "data": {
      "text/plain": [
       "array([[1.        , 0.        , 0.        , 0.        , 0.        ],\n",
       "       [0.25510204, 0.24489796, 0.2244898 , 0.1734694 , 0.10204082]],\n",
       "      dtype=float32)"
      ]
     },
     "execution_count": 10,
     "metadata": {},
     "output_type": "execute_result"
    }
   ],
   "source": [
    "empty_MDP_bkp.tranProbMatrix_cpu[:,5]"
   ]
  },
  {
   "cell_type": "code",
   "execution_count": 11,
   "metadata": {},
   "outputs": [],
   "source": [
    "empty_MDP_bkp.tranidxMatrix_cpu = empty_MDP.tranidxMatrix_cpu \n",
    "empty_MDP_bkp.tranProbMatrix_cpu = empty_MDP.tranProbMatrix_cpu \n",
    "empty_MDP_bkp.rewardCountMatrix_cpu = empty_MDP.rewardCountMatrix_cpu \n",
    "empty_MDP_bkp.rewardMatrix_cpu = empty_MDP.rewardMatrix_cpu "
   ]
  },
  {
   "cell_type": "code",
   "execution_count": null,
   "metadata": {},
   "outputs": [],
   "source": []
  },
  {
   "cell_type": "code",
   "execution_count": 12,
   "metadata": {},
   "outputs": [],
   "source": [
    "# empty_MDP_bkp.refresh_cache_dicts()"
   ]
  },
  {
   "cell_type": "code",
   "execution_count": 13,
   "metadata": {},
   "outputs": [],
   "source": [
    "def refresh_cache_dicts(self):\n",
    "    self.tD = defaultdict(init2zero_def_def_dict)  # Transition Probabilities\n",
    "    self.rD = defaultdict(init2zero_def_def_dict)  # Transition Probabilities\n",
    "\n",
    "    for s, s_i in self.s2i.items():\n",
    "        for a in self.A:\n",
    "            for ns_slot, ns_i in enumerate(self.tranidxMatrix_cpu[self.a2i[a], s_i]):\n",
    "                ns,a_i = self.i2s[ns_i], self.a2i[a]\n",
    "                if self.tranProbMatrix_cpu[a_i, s_i, ns_slot] >0:\n",
    "                    print(f\"ns:{ns},ns_i:{ns_i}, a_i:{a_i}, a:{a}, s:{s}, s_i:{s_i} ,  ns_slot:{ns_slot}\")\n",
    "                    self.tD[s][a][ns] = self.tranProbMatrix_cpu[a_i, s_i, ns_slot]\n",
    "                    self.rD[s][a][ns] = self.rewardMatrix_cpu[a_i, s_i, ns_slot]\n",
    "                # Transition Probabilities"
   ]
  },
  {
   "cell_type": "code",
   "execution_count": 14,
   "metadata": {},
   "outputs": [
    {
     "data": {
      "text/plain": [
       "array([[1.        , 0.        , 0.        , 0.        , 0.        ],\n",
       "       [0.65722173, 0.6358138 , 0.6016565 , 0.48741028, 0.17818214]],\n",
       "      dtype=float32)"
      ]
     },
     "execution_count": 14,
     "metadata": {},
     "output_type": "execute_result"
    }
   ],
   "source": [
    "empty_MDP.rewardMatrix_cpu[:,5]"
   ]
  },
  {
   "cell_type": "code",
   "execution_count": 21,
   "metadata": {},
   "outputs": [
    {
     "data": {
      "text/plain": [
       "array([[1.        , 0.        , 0.        , 0.        , 0.        ],\n",
       "       [0.25510204, 0.24489796, 0.2244898 , 0.1734694 , 0.10204082]],\n",
       "      dtype=float32)"
      ]
     },
     "execution_count": 21,
     "metadata": {},
     "output_type": "execute_result"
    }
   ],
   "source": [
    "empty_MDP.tranProbMatrix_cpu[:,5]"
   ]
  },
  {
   "cell_type": "code",
   "execution_count": 22,
   "metadata": {},
   "outputs": [
    {
     "data": {
      "text/plain": [
       "array([[1.        , 0.        , 0.        , 0.        , 0.        ],\n",
       "       [0.25510204, 0.24489796, 0.2244898 , 0.1734694 , 0.10204082]],\n",
       "      dtype=float32)"
      ]
     },
     "execution_count": 22,
     "metadata": {},
     "output_type": "execute_result"
    }
   ],
   "source": [
    "empty_MDP.tranProbMatrix_gpu[:,5]"
   ]
  },
  {
   "cell_type": "code",
   "execution_count": 23,
   "metadata": {},
   "outputs": [
    {
     "data": {
      "text/plain": [
       "array([[ 6,  4,  8, 10, 14],\n",
       "       [ 5,  7,  9, 13, 12]], dtype=uint64)"
      ]
     },
     "execution_count": 23,
     "metadata": {},
     "output_type": "execute_result"
    }
   ],
   "source": [
    "empty_MDP.tranidxMatrix_gpu[:,5]"
   ]
  },
  {
   "cell_type": "code",
   "execution_count": 24,
   "metadata": {},
   "outputs": [
    {
     "data": {
      "text/plain": [
       "array([[ 6,  4,  8, 10, 14],\n",
       "       [ 5,  7,  9, 13, 12]], dtype=uint64)"
      ]
     },
     "execution_count": 24,
     "metadata": {},
     "output_type": "execute_result"
    }
   ],
   "source": [
    "empty_MDP.tranidxMatrix_cpu[:,5]"
   ]
  },
  {
   "cell_type": "code",
   "execution_count": 15,
   "metadata": {},
   "outputs": [
    {
     "data": {
      "text/plain": [
       "array([[1.        , 0.        , 0.        , 0.        , 0.        ],\n",
       "       [0.65722173, 0.6358138 , 0.6016565 , 0.48741028, 0.17818214]],\n",
       "      dtype=float32)"
      ]
     },
     "execution_count": 15,
     "metadata": {},
     "output_type": "execute_result"
    }
   ],
   "source": [
    "empty_MDP.rewardMatrix_gpu[:,5]"
   ]
  },
  {
   "cell_type": "code",
   "execution_count": 16,
   "metadata": {},
   "outputs": [],
   "source": [
    "# empty_MDP.tranProbMatrix_gpu[:,5]"
   ]
  },
  {
   "cell_type": "code",
   "execution_count": 17,
   "metadata": {},
   "outputs": [],
   "source": [
    "# refresh_cache_dicts(empty_MDP)\n",
    "# empty_MDP.tranProbMatrix_cpu"
   ]
  },
  {
   "cell_type": "code",
   "execution_count": 19,
   "metadata": {},
   "outputs": [],
   "source": [
    "# for s in empty_MDP.tD:\n",
    "#     for a in empty_MDP.tD[s]:\n",
    "#         print(empty_MDP.s2i[s],a)\n",
    "#         ns_tuples = [(empty_MDP.s2i[ns],round(empty_MDP.tD[s][a][ns],2), round(empty_MDP.rD[s][a][ns],2)) for ns in empty_MDP.tD[s][a]]\n",
    "#         print(\"\\t\", ns_tuples)\n",
    "#         ns_tuples = [(empty_MDP_bkp.s2idx[ns],round(empty_MDP_bkp.tD[s][a][ns],2), round(empty_MDP_bkp.rD[s][a],2)) for ns in empty_MDP_bkp.tD[s][a]]\n",
    "#         print(\"\\t\", ns_tuples)"
   ]
  },
  {
   "cell_type": "code",
   "execution_count": 20,
   "metadata": {},
   "outputs": [
    {
     "data": {
      "text/plain": [
       "{'unknown_state': 0.0,\n",
       " 'end_state': 0.0,\n",
       " (-0.04859533, -0.024868723, 0.027136736, 0.022612793): 1.0,\n",
       " (-0.049092706, -0.22036912, 0.027588991, 0.32373264): 1.0,\n",
       " (-0.05350009, -0.41587284, 0.034063645, 0.62498677): 1.0,\n",
       " (-0.061817545, -0.22124256, 0.04656338, 0.34322348): 1.0,\n",
       " (-0.0662424, -0.41699496, 0.05342785, 0.6502185): 1.0,\n",
       " (-0.07458229, -0.22265631, 0.066432215, 0.3748268): 1.0,\n",
       " (-0.07903542, -0.4186559, 0.07392876, 0.6876944): 1.0,\n",
       " (-0.08740854, -0.2246337, 0.08768264, 0.4191713): 1.0,\n",
       " (-0.09190121, -0.4208816, 0.096066065, 0.7381579): 1.0,\n",
       " (-0.10031885, -0.61718965, 0.11082923, 1.0594623): 1.0,\n",
       " (-0.112662636, -0.42369625, 0.13201848, 0.8035201): 1.0,\n",
       " (-0.12113656, -0.23060761, 0.14808887, 0.5551082): 1.0,\n",
       " (-0.12574871, -0.42746451, 0.15919104, 0.89054084): 1.0,\n",
       " (-0.13429801, -0.6243465, 0.17700185, 1.2287344): 1.0,\n",
       " (-0.14678493, -0.43188757, 0.20157655, 0.9963237): 0.724399209022522}"
      ]
     },
     "execution_count": 20,
     "metadata": {},
     "output_type": "execute_result"
    }
   ],
   "source": [
    "myAgent.mdp_T.valueDict"
   ]
  },
  {
   "cell_type": "code",
   "execution_count": 8,
   "metadata": {},
   "outputs": [],
   "source": [
    "myAgent.mdp_T.pD_cpu = np.zeros((myAgent.mdp_T.MAX_S,)).astype('uint')  # Optimal Policy Vector\n",
    "myAgent.mdp_T.vD_cpu = np.zeros((myAgent.mdp_T.MAX_S, 1)).astype('float32')\n",
    "myAgent.mdp_T.qD_cpu = np.zeros((myAgent.mdp_T.MAX_S, len(myAgent.mdp_T.A))).astype('float32')"
   ]
  },
  {
   "cell_type": "code",
   "execution_count": 9,
   "metadata": {},
   "outputs": [],
   "source": [
    "\n",
    "def opt_bellman_backup_step_cpu(self):\n",
    "    backup_error = 0\n",
    "    for s, s_i in self.s2i.items():\n",
    "        for a, a_i in self.a2i.items():\n",
    "            expected_ns_val = np.sum(self.tranProbMatrix_cpu[a_i,s_i] *\n",
    "                            np.array([self.vD_cpu[ns_i] for ns_i in self.tranidxMatrix_cpu[a_i,s_i]]).squeeze())\n",
    "            expected_reward = np.sum(self.tranProbMatrix_cpu[a_i,s_i] * self.rewardMatrix_cpu[a_i,s_i])\n",
    "            self.qD_cpu[s_i,a_i] = expected_reward + self.vi_params[\"gamma\"] * expected_ns_val\n",
    "\n",
    "        new_val = np.max(self.qD_cpu[s_i])\n",
    "\n",
    "        backup_error = max(backup_error, abs(new_val - self.vD_cpu[s_i]))\n",
    "        self.vD_cpu[s_i] = new_val\n",
    "        self.pD_cpu[s_i] = np.argmax(self.qD_cpu[s_i])\n",
    "\n",
    "    self.curr_vi_error = backup_error\n",
    "    return backup_error"
   ]
  },
  {
   "cell_type": "code",
   "execution_count": 10,
   "metadata": {},
   "outputs": [
    {
     "ename": "IndexError",
     "evalue": "only integers, slices (`:`), ellipsis (`...`), numpy.newaxis (`None`) and integer or boolean arrays are valid indices",
     "output_type": "error",
     "traceback": [
      "\u001b[0;31m---------------------------------------------------------------------------\u001b[0m",
      "\u001b[0;31mIndexError\u001b[0m                                Traceback (most recent call last)",
      "\u001b[0;32m<ipython-input-10-c736b5fbb345>\u001b[0m in \u001b[0;36m<module>\u001b[0;34m\u001b[0m\n\u001b[1;32m      1\u001b[0m \u001b[0;32mfor\u001b[0m \u001b[0mi\u001b[0m \u001b[0;32min\u001b[0m \u001b[0mrange\u001b[0m\u001b[0;34m(\u001b[0m\u001b[0;36m500\u001b[0m\u001b[0;34m)\u001b[0m\u001b[0;34m:\u001b[0m\u001b[0;34m\u001b[0m\u001b[0;34m\u001b[0m\u001b[0m\n\u001b[0;32m----> 2\u001b[0;31m     \u001b[0mopt_bellman_backup_step_cpu\u001b[0m\u001b[0;34m(\u001b[0m\u001b[0mmyAgent\u001b[0m\u001b[0;34m.\u001b[0m\u001b[0mmdp_T\u001b[0m\u001b[0;34m)\u001b[0m\u001b[0;34m\u001b[0m\u001b[0;34m\u001b[0m\u001b[0m\n\u001b[0m",
      "\u001b[0;32m<ipython-input-9-a017708c0c61>\u001b[0m in \u001b[0;36mopt_bellman_backup_step_cpu\u001b[0;34m(self)\u001b[0m\n\u001b[1;32m      4\u001b[0m         \u001b[0;32mfor\u001b[0m \u001b[0ma\u001b[0m\u001b[0;34m,\u001b[0m \u001b[0ma_i\u001b[0m \u001b[0;32min\u001b[0m \u001b[0mself\u001b[0m\u001b[0;34m.\u001b[0m\u001b[0ma2i\u001b[0m\u001b[0;34m.\u001b[0m\u001b[0mitems\u001b[0m\u001b[0;34m(\u001b[0m\u001b[0;34m)\u001b[0m\u001b[0;34m:\u001b[0m\u001b[0;34m\u001b[0m\u001b[0;34m\u001b[0m\u001b[0m\n\u001b[1;32m      5\u001b[0m             expected_ns_val = np.sum(self.tranProbMatrix_cpu[a_i,s_i] *\n\u001b[0;32m----> 6\u001b[0;31m                             np.array([self.vD_cpu[ns_i] for ns_i in self.tranidxMatrix_cpu[a_i,s_i]]).squeeze())\n\u001b[0m\u001b[1;32m      7\u001b[0m             \u001b[0mexpected_reward\u001b[0m \u001b[0;34m=\u001b[0m \u001b[0mnp\u001b[0m\u001b[0;34m.\u001b[0m\u001b[0msum\u001b[0m\u001b[0;34m(\u001b[0m\u001b[0mself\u001b[0m\u001b[0;34m.\u001b[0m\u001b[0mtranProbMatrix_cpu\u001b[0m\u001b[0;34m[\u001b[0m\u001b[0ma_i\u001b[0m\u001b[0;34m,\u001b[0m\u001b[0ms_i\u001b[0m\u001b[0;34m]\u001b[0m \u001b[0;34m*\u001b[0m \u001b[0mself\u001b[0m\u001b[0;34m.\u001b[0m\u001b[0mrewardMatrix_cpu\u001b[0m\u001b[0;34m[\u001b[0m\u001b[0ma_i\u001b[0m\u001b[0;34m,\u001b[0m\u001b[0ms_i\u001b[0m\u001b[0;34m]\u001b[0m\u001b[0;34m)\u001b[0m\u001b[0;34m\u001b[0m\u001b[0;34m\u001b[0m\u001b[0m\n\u001b[1;32m      8\u001b[0m             \u001b[0mself\u001b[0m\u001b[0;34m.\u001b[0m\u001b[0mqD_cpu\u001b[0m\u001b[0;34m[\u001b[0m\u001b[0ms_i\u001b[0m\u001b[0;34m,\u001b[0m\u001b[0ma_i\u001b[0m\u001b[0;34m]\u001b[0m \u001b[0;34m=\u001b[0m \u001b[0mexpected_reward\u001b[0m \u001b[0;34m+\u001b[0m \u001b[0mself\u001b[0m\u001b[0;34m.\u001b[0m\u001b[0mvi_params\u001b[0m\u001b[0;34m[\u001b[0m\u001b[0;34m\"gamma\"\u001b[0m\u001b[0;34m]\u001b[0m \u001b[0;34m*\u001b[0m \u001b[0mexpected_ns_val\u001b[0m\u001b[0;34m\u001b[0m\u001b[0;34m\u001b[0m\u001b[0m\n",
      "\u001b[0;32m<ipython-input-9-a017708c0c61>\u001b[0m in \u001b[0;36m<listcomp>\u001b[0;34m(.0)\u001b[0m\n\u001b[1;32m      4\u001b[0m         \u001b[0;32mfor\u001b[0m \u001b[0ma\u001b[0m\u001b[0;34m,\u001b[0m \u001b[0ma_i\u001b[0m \u001b[0;32min\u001b[0m \u001b[0mself\u001b[0m\u001b[0;34m.\u001b[0m\u001b[0ma2i\u001b[0m\u001b[0;34m.\u001b[0m\u001b[0mitems\u001b[0m\u001b[0;34m(\u001b[0m\u001b[0;34m)\u001b[0m\u001b[0;34m:\u001b[0m\u001b[0;34m\u001b[0m\u001b[0;34m\u001b[0m\u001b[0m\n\u001b[1;32m      5\u001b[0m             expected_ns_val = np.sum(self.tranProbMatrix_cpu[a_i,s_i] *\n\u001b[0;32m----> 6\u001b[0;31m                             np.array([self.vD_cpu[ns_i] for ns_i in self.tranidxMatrix_cpu[a_i,s_i]]).squeeze())\n\u001b[0m\u001b[1;32m      7\u001b[0m             \u001b[0mexpected_reward\u001b[0m \u001b[0;34m=\u001b[0m \u001b[0mnp\u001b[0m\u001b[0;34m.\u001b[0m\u001b[0msum\u001b[0m\u001b[0;34m(\u001b[0m\u001b[0mself\u001b[0m\u001b[0;34m.\u001b[0m\u001b[0mtranProbMatrix_cpu\u001b[0m\u001b[0;34m[\u001b[0m\u001b[0ma_i\u001b[0m\u001b[0;34m,\u001b[0m\u001b[0ms_i\u001b[0m\u001b[0;34m]\u001b[0m \u001b[0;34m*\u001b[0m \u001b[0mself\u001b[0m\u001b[0;34m.\u001b[0m\u001b[0mrewardMatrix_cpu\u001b[0m\u001b[0;34m[\u001b[0m\u001b[0ma_i\u001b[0m\u001b[0;34m,\u001b[0m\u001b[0ms_i\u001b[0m\u001b[0;34m]\u001b[0m\u001b[0;34m)\u001b[0m\u001b[0;34m\u001b[0m\u001b[0;34m\u001b[0m\u001b[0m\n\u001b[1;32m      8\u001b[0m             \u001b[0mself\u001b[0m\u001b[0;34m.\u001b[0m\u001b[0mqD_cpu\u001b[0m\u001b[0;34m[\u001b[0m\u001b[0ms_i\u001b[0m\u001b[0;34m,\u001b[0m\u001b[0ma_i\u001b[0m\u001b[0;34m]\u001b[0m \u001b[0;34m=\u001b[0m \u001b[0mexpected_reward\u001b[0m \u001b[0;34m+\u001b[0m \u001b[0mself\u001b[0m\u001b[0;34m.\u001b[0m\u001b[0mvi_params\u001b[0m\u001b[0;34m[\u001b[0m\u001b[0;34m\"gamma\"\u001b[0m\u001b[0;34m]\u001b[0m \u001b[0;34m*\u001b[0m \u001b[0mexpected_ns_val\u001b[0m\u001b[0;34m\u001b[0m\u001b[0;34m\u001b[0m\u001b[0m\n",
      "\u001b[0;31mIndexError\u001b[0m: only integers, slices (`:`), ellipsis (`...`), numpy.newaxis (`None`) and integer or boolean arrays are valid indices"
     ]
    }
   ],
   "source": [
    "for i in range(500):\n",
    "    opt_bellman_backup_step_cpu(myAgent.mdp_T)"
   ]
  },
  {
   "cell_type": "code",
   "execution_count": 157,
   "metadata": {},
   "outputs": [
    {
     "data": {
      "text/plain": [
       "((1200, 1), (1200, 1))"
      ]
     },
     "execution_count": 157,
     "metadata": {},
     "output_type": "execute_result"
    }
   ],
   "source": [
    "myAgent_bkp.mdp_T.vD_cpu.shape,myAgent.mdp_T.vD_cpu.shape"
   ]
  },
  {
   "cell_type": "code",
   "execution_count": 71,
   "metadata": {},
   "outputs": [],
   "source": [
    "# myAgent_bkp.mdp_T.valueDict"
   ]
  },
  {
   "cell_type": "code",
   "execution_count": 32,
   "metadata": {},
   "outputs": [
    {
     "data": {
      "text/plain": [
       "0.0"
      ]
     },
     "execution_count": 32,
     "metadata": {},
     "output_type": "execute_result"
    }
   ],
   "source": [
    "myAgent.mdp_T.curr_vi_error"
   ]
  },
  {
   "cell_type": "code",
   "execution_count": 28,
   "metadata": {},
   "outputs": [
    {
     "data": {
      "text/plain": [
       "{'unknown_state': 0.0,\n",
       " 'end_state': 0.0,\n",
       " (-0.031631507, -0.042020194, 0.04810162, 0.03468045): 92.48587036132812,\n",
       " (-0.03247191, -0.23779775, 0.048795227, 0.34214354): 92.41046905517578,\n",
       " (-0.037227865, -0.43357873, 0.055638097, 0.6498056): 92.33431243896484,\n",
       " (-0.04589944, -0.62942976, 0.06863421, 0.95947665): 92.25736999511719,\n",
       " (-0.058488034, -0.82540387, 0.08782374, 1.2729084): 92.1796646118164,\n",
       " (-0.074996114, -0.6315055, 0.11328191, 1.0089687): 92.10116577148438,\n",
       " (-0.087626226, -0.82794225, 0.13346128, 1.334969): 92.02188110351562,\n",
       " (-0.10418507, -0.6347307, 0.16016066, 1.08685): 91.94178771972656,\n",
       " (-0.11687968, -0.83156043, 0.18189767, 1.4252023): 91.8573989868164,\n",
       " (-0.043882217, 0.03853046, 0.008046919, -0.048267525): 93.03724670410156,\n",
       " (-0.04311161, -0.15670595, 0.007081568, 0.24694337): 92.9674072265625,\n",
       " (-0.046245728, -0.35192832, 0.012020435, 0.5418515): 92.89685821533203,\n",
       " (-0.053284295, -0.15697736, 0.022857467, 0.25298017): 92.82561492919922,\n",
       " (-0.056423843, -0.3524181, 0.02791707, 0.5527842): 92.7536392211914,\n",
       " (-0.063472204, -0.54792076, 0.038972754, 0.85413045): 92.62202453613281,\n",
       " (-0.07443062, -0.35335106, 0.056055363, 0.5739526): 92.54798889160156,\n",
       " (-0.08149764, -0.5492122, 0.06753442, 0.8837546): 92.38973236083984,\n",
       " (-0.09248188, -0.74518305, 0.085209504, 1.1968808): 92.15628051757812,\n",
       " (-0.107385546, -0.94129825, 0.109147124, 1.5150075): 92.07752990722656,\n",
       " (-0.12621151, -1.1375588, 0.13944727, 1.8396721): 91.99800872802734,\n",
       " (-0.14896269, -0.94422525, 0.17624071, 1.5933516): 91.91767883300781,\n",
       " (-0.16784719, -0.7515779, 0.20810775, 1.3604038): 91.83654022216797}"
      ]
     },
     "execution_count": 28,
     "metadata": {},
     "output_type": "execute_result"
    }
   ],
   "source": [
    "myAgent_bkp.mdp_T.valueDict"
   ]
  },
  {
   "cell_type": "code",
   "execution_count": null,
   "metadata": {},
   "outputs": [],
   "source": []
  },
  {
   "cell_type": "code",
   "execution_count": 27,
   "metadata": {},
   "outputs": [
    {
     "name": "stderr",
     "output_type": "stream",
     "text": [
      "100%|██████████| 50/50 [00:04<00:00, 11.79it/s]\n",
      "100%|██████████| 50/50 [00:00<00:00, 2543.42it/s]\n",
      "100%|██████████| 50/50 [00:03<00:00, 12.98it/s]\n",
      "100%|██████████| 50/50 [00:04<00:00, 12.07it/s]"
     ]
    },
    {
     "name": "stdout",
     "output_type": "stream",
     "text": [
      "{'optimal': 200.0, 'random': 19.3, 'eps_optimal': 200.0, 'safe': 200.0}\n"
     ]
    },
    {
     "name": "stderr",
     "output_type": "stream",
     "text": [
      "\n"
     ]
    }
   ],
   "source": [
    "myAgent.smoothing = True\n",
    "myAgent.soft_q = False\n",
    "myAgent.mdp_T.plcy_lift_k = 11\n",
    "myAgent.mdp_T.smooth_with_seen = True\n",
    "\n",
    "sum_reward_running = {policy_name:evaluate_on_env(env,  \n",
    "                                                  policy, \n",
    "                                                  eps_count=50,progress_bar=True)[0]\n",
    "                      for policy_name,policy in myAgent.policies.items()}\n",
    "print(sum_reward_running)"
   ]
  },
  {
   "cell_type": "code",
   "execution_count": 26,
   "metadata": {},
   "outputs": [
    {
     "name": "stderr",
     "output_type": "stream",
     "text": [
      "100%|██████████| 50/50 [00:01<00:00, 37.87it/s]\n",
      "100%|██████████| 50/50 [00:00<00:00, 2921.76it/s]\n",
      "100%|██████████| 50/50 [00:01<00:00, 43.19it/s]\n",
      "100%|██████████| 50/50 [00:01<00:00, 38.35it/s]"
     ]
    },
    {
     "name": "stdout",
     "output_type": "stream",
     "text": [
      "{'optimal': 196.58, 'random': 18.78, 'eps_optimal': 186.32, 'safe': 200.0}\n"
     ]
    },
    {
     "name": "stderr",
     "output_type": "stream",
     "text": [
      "\n"
     ]
    }
   ],
   "source": [
    "# myAgent.smoothing = True\n",
    "# myAgent.soft_q = False\n",
    "# myAgent.mdp_T.plcy_lift_k = 11\n",
    "# myAgent.mdp_T.smooth_with_seen = True\n",
    "\n",
    "# sum_reward_running = {policy_name:evaluate_on_env(env,  \n",
    "#                                                   policy, \n",
    "#                                                   eps_count=50,progress_bar=True)[0]\n",
    "#                       for policy_name,policy in myAgent_bkp.policies.items()}\n",
    "# print(sum_reward_running)"
   ]
  },
  {
   "cell_type": "code",
   "execution_count": null,
   "metadata": {},
   "outputs": [],
   "source": []
  },
  {
   "cell_type": "code",
   "execution_count": 23,
   "metadata": {},
   "outputs": [
    {
     "name": "stderr",
     "output_type": "stream",
     "text": [
      "100%|██████████| 50/50 [00:03<00:00, 13.39it/s]\n"
     ]
    },
    {
     "data": {
      "text/plain": [
       "200.0"
      ]
     },
     "execution_count": 23,
     "metadata": {},
     "output_type": "execute_result"
    }
   ],
   "source": [
    "evaluate_on_env(env,  myAgent.policies[\"optimal\"], eps_count=50,progress_bar=True)[0]\n"
   ]
  },
  {
   "cell_type": "code",
   "execution_count": 25,
   "metadata": {},
   "outputs": [
    {
     "name": "stderr",
     "output_type": "stream",
     "text": [
      "100%|██████████| 50/50 [00:01<00:00, 37.79it/s]\n"
     ]
    },
    {
     "data": {
      "text/plain": [
       "195.02"
      ]
     },
     "execution_count": 25,
     "metadata": {},
     "output_type": "execute_result"
    }
   ],
   "source": [
    "evaluate_on_env(env,  myAgent_bkp.policies[\"optimal\"], eps_count=50,progress_bar=True)[0]"
   ]
  },
  {
   "cell_type": "code",
   "execution_count": null,
   "metadata": {},
   "outputs": [],
   "source": [
    "for s in myAgent.mdp_cache:\n",
    "    for a in myAgent.mdp_cache[s]:\n",
    "        for ns in myAgent.mdp_cache[s][a]:"
   ]
  },
  {
   "cell_type": "code",
   "execution_count": 17,
   "metadata": {},
   "outputs": [
    {
     "data": {
      "text/plain": [
       "1"
      ]
     },
     "execution_count": 17,
     "metadata": {},
     "output_type": "execute_result"
    }
   ],
   "source": [
    "a = {1:2, 3:1}\n",
    "max(a, key=a.get)"
   ]
  },
  {
   "cell_type": "code",
   "execution_count": 10,
   "metadata": {},
   "outputs": [],
   "source": [
    "from pycuda import compiler, gpuarray\n",
    "from collections import defaultdict\n",
    "import time\n",
    "import math as mth\n",
    "from bigmdp.mdp.kernels import complex_vi_kernel_code_template as vi_kernel_template\n",
    "import numpy as np\n",
    "from tqdm import tqdm\n",
    "from copy import deepcopy as cpy\n",
    "from collections import deque\n",
    "import random\n",
    "from sklearn.neighbors import KDTree\n",
    "from collections import Counter"
   ]
  },
  {
   "cell_type": "code",
   "execution_count": 11,
   "metadata": {},
   "outputs": [],
   "source": [
    "e_vD_gpu = gpuarray.to_gpu(np.zeros((100, 1)).astype('float32'))\n",
    "e_vD_cpu = np.zeros((100, 1)).astype('float32')"
   ]
  },
  {
   "cell_type": "code",
   "execution_count": 12,
   "metadata": {},
   "outputs": [
    {
     "name": "stderr",
     "output_type": "stream",
     "text": [
      "100%|██████████| 1000000/1000000 [00:00<00:00, 1442770.47it/s]\n"
     ]
    }
   ],
   "source": [
    "for i in tqdm(range(int(1e6))):\n",
    "    e_vD_cpu[1][0] = 1"
   ]
  },
  {
   "cell_type": "code",
   "execution_count": 13,
   "metadata": {},
   "outputs": [
    {
     "name": "stderr",
     "output_type": "stream",
     "text": [
      "  0%|          | 0/1000000 [00:00<?, ?it/s]\n"
     ]
    },
    {
     "ename": "TypeError",
     "evalue": "src must be GPUArray or ndarray",
     "output_type": "error",
     "traceback": [
      "\u001b[0;31m---------------------------------------------------------------------------\u001b[0m",
      "\u001b[0;31mTypeError\u001b[0m                                 Traceback (most recent call last)",
      "\u001b[0;32m<ipython-input-13-1286551e12a1>\u001b[0m in \u001b[0;36m<module>\u001b[0;34m\u001b[0m\n\u001b[1;32m      1\u001b[0m \u001b[0;32mfor\u001b[0m \u001b[0mi\u001b[0m \u001b[0;32min\u001b[0m \u001b[0mtqdm\u001b[0m\u001b[0;34m(\u001b[0m\u001b[0mrange\u001b[0m\u001b[0;34m(\u001b[0m\u001b[0mint\u001b[0m\u001b[0;34m(\u001b[0m\u001b[0;36m1e6\u001b[0m\u001b[0;34m)\u001b[0m\u001b[0;34m)\u001b[0m\u001b[0;34m)\u001b[0m\u001b[0;34m:\u001b[0m\u001b[0;34m\u001b[0m\u001b[0;34m\u001b[0m\u001b[0m\n\u001b[0;32m----> 2\u001b[0;31m     \u001b[0me_vD_gpu\u001b[0m\u001b[0;34m[\u001b[0m\u001b[0;36m1\u001b[0m\u001b[0;34m]\u001b[0m\u001b[0;34m[\u001b[0m\u001b[0;36m0\u001b[0m\u001b[0;34m]\u001b[0m \u001b[0;34m=\u001b[0m \u001b[0;36m1\u001b[0m\u001b[0;34m\u001b[0m\u001b[0;34m\u001b[0m\u001b[0m\n\u001b[0m",
      "\u001b[0;32m~/miniconda3/envs/pytorch_env/lib/python3.6/site-packages/pycuda/gpuarray.py\u001b[0m in \u001b[0;36m__setitem__\u001b[0;34m(self, index, value)\u001b[0m\n\u001b[1;32m    953\u001b[0m \u001b[0;34m\u001b[0m\u001b[0m\n\u001b[1;32m    954\u001b[0m     \u001b[0;32mdef\u001b[0m \u001b[0m__setitem__\u001b[0m\u001b[0;34m(\u001b[0m\u001b[0mself\u001b[0m\u001b[0;34m,\u001b[0m \u001b[0mindex\u001b[0m\u001b[0;34m,\u001b[0m \u001b[0mvalue\u001b[0m\u001b[0;34m)\u001b[0m\u001b[0;34m:\u001b[0m\u001b[0;34m\u001b[0m\u001b[0;34m\u001b[0m\u001b[0m\n\u001b[0;32m--> 955\u001b[0;31m         \u001b[0m_memcpy_discontig\u001b[0m\u001b[0;34m(\u001b[0m\u001b[0mself\u001b[0m\u001b[0;34m[\u001b[0m\u001b[0mindex\u001b[0m\u001b[0;34m]\u001b[0m\u001b[0;34m,\u001b[0m \u001b[0mvalue\u001b[0m\u001b[0;34m)\u001b[0m\u001b[0;34m\u001b[0m\u001b[0;34m\u001b[0m\u001b[0m\n\u001b[0m\u001b[1;32m    956\u001b[0m \u001b[0;34m\u001b[0m\u001b[0m\n\u001b[1;32m    957\u001b[0m     \u001b[0;31m# }}}\u001b[0m\u001b[0;34m\u001b[0m\u001b[0;34m\u001b[0m\u001b[0;34m\u001b[0m\u001b[0m\n",
      "\u001b[0;32m~/miniconda3/envs/pytorch_env/lib/python3.6/site-packages/pycuda/gpuarray.py\u001b[0m in \u001b[0;36m_memcpy_discontig\u001b[0;34m(dst, src, async_, stream)\u001b[0m\n\u001b[1;32m   1238\u001b[0m \u001b[0;34m\u001b[0m\u001b[0m\n\u001b[1;32m   1239\u001b[0m     \u001b[0;32mif\u001b[0m \u001b[0;32mnot\u001b[0m \u001b[0misinstance\u001b[0m\u001b[0;34m(\u001b[0m\u001b[0msrc\u001b[0m\u001b[0;34m,\u001b[0m \u001b[0;34m(\u001b[0m\u001b[0mGPUArray\u001b[0m\u001b[0;34m,\u001b[0m \u001b[0mnp\u001b[0m\u001b[0;34m.\u001b[0m\u001b[0mndarray\u001b[0m\u001b[0;34m)\u001b[0m\u001b[0;34m)\u001b[0m\u001b[0;34m:\u001b[0m\u001b[0;34m\u001b[0m\u001b[0;34m\u001b[0m\u001b[0m\n\u001b[0;32m-> 1240\u001b[0;31m         \u001b[0;32mraise\u001b[0m \u001b[0mTypeError\u001b[0m\u001b[0;34m(\u001b[0m\u001b[0;34m\"src must be GPUArray or ndarray\"\u001b[0m\u001b[0;34m)\u001b[0m\u001b[0;34m\u001b[0m\u001b[0;34m\u001b[0m\u001b[0m\n\u001b[0m\u001b[1;32m   1241\u001b[0m     \u001b[0;32mif\u001b[0m \u001b[0;32mnot\u001b[0m \u001b[0misinstance\u001b[0m\u001b[0;34m(\u001b[0m\u001b[0mdst\u001b[0m\u001b[0;34m,\u001b[0m \u001b[0;34m(\u001b[0m\u001b[0mGPUArray\u001b[0m\u001b[0;34m,\u001b[0m \u001b[0mnp\u001b[0m\u001b[0;34m.\u001b[0m\u001b[0mndarray\u001b[0m\u001b[0;34m)\u001b[0m\u001b[0;34m)\u001b[0m\u001b[0;34m:\u001b[0m\u001b[0;34m\u001b[0m\u001b[0;34m\u001b[0m\u001b[0m\n\u001b[1;32m   1242\u001b[0m         \u001b[0;32mraise\u001b[0m \u001b[0mTypeError\u001b[0m\u001b[0;34m(\u001b[0m\u001b[0;34m\"dst must be GPUArray or ndarray\"\u001b[0m\u001b[0;34m)\u001b[0m\u001b[0;34m\u001b[0m\u001b[0;34m\u001b[0m\u001b[0m\n",
      "\u001b[0;31mTypeError\u001b[0m: src must be GPUArray or ndarray"
     ]
    }
   ],
   "source": [
    "for i in tqdm(range(int(1e6))):\n",
    "    e_vD_gpu[1][0] = 1"
   ]
  },
  {
   "cell_type": "code",
   "execution_count": 36,
   "metadata": {},
   "outputs": [],
   "source": [
    "tranCountMatrix_cpu = np.ones((2, 4, 3)).astype('float32')\n",
    "tranProbMatrix_cpu = np.zeros((2, 4, 3)).astype('float32')\n",
    "tranCountMatrix_cpu[0,0,-1] = 0"
   ]
  },
  {
   "cell_type": "code",
   "execution_count": 37,
   "metadata": {},
   "outputs": [],
   "source": [
    "a_i = 0\n",
    "s_i = 0\n",
    "tranProbMatrix_cpu[a_i,s_i] = tranCountMatrix_cpu[a_i,s_i]/np.sum(tranCountMatrix_cpu[a_i,s_i])"
   ]
  },
  {
   "cell_type": "code",
   "execution_count": 38,
   "metadata": {},
   "outputs": [
    {
     "data": {
      "text/plain": [
       "array([[[0.5, 0.5, 0. ],\n",
       "        [0. , 0. , 0. ],\n",
       "        [0. , 0. , 0. ],\n",
       "        [0. , 0. , 0. ]],\n",
       "\n",
       "       [[0. , 0. , 0. ],\n",
       "        [0. , 0. , 0. ],\n",
       "        [0. , 0. , 0. ],\n",
       "        [0. , 0. , 0. ]]], dtype=float32)"
      ]
     },
     "execution_count": 38,
     "metadata": {},
     "output_type": "execute_result"
    }
   ],
   "source": [
    "tranProbMatrix_cpu"
   ]
  },
  {
   "cell_type": "code",
   "execution_count": 31,
   "metadata": {},
   "outputs": [
    {
     "data": {
      "text/plain": [
       "array([[[5., 0., 0.],\n",
       "        [0., 0., 0.],\n",
       "        [0., 0., 0.],\n",
       "        [0., 0., 0.]],\n",
       "\n",
       "       [[5., 0., 0.],\n",
       "        [0., 0., 0.],\n",
       "        [0., 0., 0.],\n",
       "        [0., 0., 0.]]], dtype=float32)"
      ]
     },
     "execution_count": 31,
     "metadata": {},
     "output_type": "execute_result"
    }
   ],
   "source": [
    "tranCountMatrix_cpu"
   ]
  },
  {
   "cell_type": "code",
   "execution_count": null,
   "metadata": {},
   "outputs": [],
   "source": []
  }
 ],
 "metadata": {
  "kernelspec": {
   "display_name": "Python 3",
   "language": "python",
   "name": "python3"
  },
  "language_info": {
   "codemirror_mode": {
    "name": "ipython",
    "version": 3
   },
   "file_extension": ".py",
   "mimetype": "text/x-python",
   "name": "python",
   "nbconvert_exporter": "python",
   "pygments_lexer": "ipython3",
   "version": "3.6.12"
  },
  "pycharm": {
   "stem_cell": {
    "cell_type": "raw",
    "metadata": {
     "collapsed": false
    },
    "source": []
   }
  }
 },
 "nbformat": 4,
 "nbformat_minor": 4
}
